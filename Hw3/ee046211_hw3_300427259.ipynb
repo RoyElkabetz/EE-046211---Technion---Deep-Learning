{
  "nbformat": 4,
  "nbformat_minor": 0,
  "metadata": {
    "kernelspec": {
      "display_name": "Python 3",
      "language": "python",
      "name": "python3"
    },
    "language_info": {
      "codemirror_mode": {
        "name": "ipython",
        "version": 3
      },
      "file_extension": ".py",
      "mimetype": "text/x-python",
      "name": "python",
      "nbconvert_exporter": "python",
      "pygments_lexer": "ipython3",
      "version": "3.8.0"
    },
    "colab": {
      "name": "ee046211_hw3_300427259.ipynb",
      "provenance": []
    },
    "accelerator": "GPU"
  },
  "cells": [
    {
      "cell_type": "markdown",
      "metadata": {
        "id": "dzV9wsJ5pGhf"
      },
      "source": [
        "# <img src=\"https://img.icons8.com/bubbles/50/000000/mind-map.png\" style=\"height:50px;display:inline\"> EE 046211 - Technion - Deep Learning\n",
        "---\n",
        "\n",
        "## HW3 - Sequential Tasks and Training Methods\n",
        "---"
      ]
    },
    {
      "cell_type": "markdown",
      "metadata": {
        "id": "bq2c8X93pGhh"
      },
      "source": [
        "### <img src=\"https://img.icons8.com/clouds/96/000000/keyboard.png\" style=\"height:50px;display:inline\"> Keyboard Shortcuts\n",
        "---\n",
        "* Run current cell: **Ctrl + Enter**\n",
        "* Run current cell and move to the next: **Shift + Enter**\n",
        "* Show lines in a code cell: **Esc + L**\n",
        "* View function documentation: **Shift + Tab** inside the parenthesis or `help(name_of_module)`\n",
        "* New cell below: **Esc + B**\n",
        "* Delete cell: **Esc + D, D** (two D's)"
      ]
    },
    {
      "cell_type": "markdown",
      "metadata": {
        "id": "vZZybn3NpGhh"
      },
      "source": [
        "### <img src=\"https://img.icons8.com/bubbles/50/000000/information.png\" style=\"height:50px;display:inline\"> Students Information\n",
        "---\n",
        "* Fill in\n",
        "\n",
        "|Name     |Campus Email| ID  |\n",
        "|---------|--------------------------------|----------|\n",
        "|Roy Elkabetz| roy-e@campus.technion.ac.il| 300427259|\n"
      ]
    },
    {
      "cell_type": "markdown",
      "metadata": {
        "id": "dDK5zqhdpGhi"
      },
      "source": [
        "### <img src=\"https://img.icons8.com/bubbles/50/000000/upload-to-cloud.png\" style=\"height:50px;display:inline\"> Submission Guidelines\n",
        "---\n",
        "* Maximal garde: 100.\n",
        "* Submission only in **pairs**. \n",
        "    * Please make sure you have registered your group in Moodle (there is a group creation component on the Moodle where you need to create your group and assign members).\n",
        "* **No handwritten submissions.** You can choose whether to answer in a Markdown cell in this notebook or attach a PDF with your answers.\n",
        "* <a style='color:red'> SAVE THE NOTEBOOKS WITH THE OUTPUT, CODE CELLS THAT WERE NOT RUN WILL NOT GET ANY POINTS! </a>\n",
        "* What you have to submit:\n",
        "    * If you have answered the questions in the notebook, you should submit this file only, with the name: `ee046211_hw3_id1_id2.ipynb`.\n",
        "    * If you answered the questionss in a different file you should submit a `.zip` file with the name `ee046211_hw3_id1_id2.zip` with content:\n",
        "        * `ee046211_hw3_id1_id2.ipynb` - the code tasks\n",
        "        * `ee046211_hw3_id1_id2.pdf` - answers to questions.\n",
        "    * No other file-types (`.py`, `.docx`...) will be accepted.\n",
        "* Submission on the course website (Moodle).\n",
        "* **Latex in Colab** - in some cases, Latex equations may no be rendered. To avoid this, make sure to not use *bullets* in your answers (\"* some text here with Latex equations\" -> \"some text here with Latex equations\")."
      ]
    },
    {
      "cell_type": "markdown",
      "metadata": {
        "id": "pmSj_UufpGhi"
      },
      "source": [
        "### <img src=\"https://img.icons8.com/dusk/64/000000/online.png\" style=\"height:50px;display:inline\"> Working Online and Locally\n",
        "---\n",
        "* You can choose your working environment:\n",
        "    1. `Jupyter Notebook`, **locally** with <a href=\"https://www.anaconda.com/distribution/\">Anaconda</a> or **online** on <a href=\"https://colab.research.google.com/\">Google Colab</a>\n",
        "        * Colab also supports running code on GPU, so if you don't have one, Colab is the way to go. To enable GPU on Colab, in the menu: `Runtime`$\\rightarrow$ `Change Runtime Type` $\\rightarrow$`GPU`.\n",
        "    2. Python IDE such as <a href=\"https://www.jetbrains.com/pycharm/\">PyCharm</a> or <a href=\"https://code.visualstudio.com/\">Visual Studio Code</a>.\n",
        "        * Both allow editing and running Jupyter Notebooks.\n",
        "\n",
        "* Please refer to `Setting Up the Working Environment.pdf` on the Moodle or our GitHub (https://github.com/taldatech/ee046211-deep-learning) to help you get everything installed.\n",
        "* If you need any technical assistance, please go to our Piazza forum (`hw3` folder) and describe your problem (preferably with images)."
      ]
    },
    {
      "cell_type": "markdown",
      "metadata": {
        "id": "nlp1Fp4ppGhj"
      },
      "source": [
        "### <img src=\"https://img.icons8.com/bubbles/50/000000/checklist.png\" style=\"height:50px;display:inline\"> Agenda\n",
        "---\n",
        "\n",
        "* [Part 1 - Theory](#-Part-1---Theory)\n",
        "    * [Q1 - Deep NLP Case Study](#-Question-1--Deep-NLP-Case-Study)\n",
        "    * [Q2 -Layer Normalization](#-Question-2--Layer-Normalization)\n",
        "    * [Q3 - Batch Normalization](#-Question-3--Batch-Normalization)\n",
        "* [Part 2 - Code Assignments - Sequence-to-Sequence with Transformers](#-Part-2---Code-Assignments)\n",
        "    * [Task 1 - Task 1 - Loading and Observing the Data](#-Task-1----Loading-and-Observing-the-Data)\n",
        "    * [Task 2 - Preparing the Data - Separating to Inputs and Targets](#-Task-2----Preparing-the--Data---Separating-to-Inputs-and-Targets)\n",
        "    * [Task 3 - Define Hyperparameters and Initialize the Model](#-Task-3----Define-Hyperparameters-and-Initialize-the-Model)\n",
        "    * [Task 4 - Train and Evaluate the Language Model](#-Task-4----Train-and-Evaluate-the-Language-Model)\n",
        "    * [Task 5 - Generate Sentences](#-Task-5----Generate-Sentences)\n",
        "* [Credits](#-Credits)"
      ]
    },
    {
      "cell_type": "markdown",
      "metadata": {
        "id": "XKtSiQX_pGhj"
      },
      "source": [
        "### <img src=\"https://img.icons8.com/cute-clipart/64/000000/ball-point-pen.png\" style=\"height:50px;display:inline\"> Part 1 - Theory\n",
        "---\n",
        "* You can choose whether to answser these straight in the notebook (Markdown + Latex) or use another editor (Word, LyX, Latex, Overleaf...) and submit an additional PDF file, **but no handwritten submissions**.\n",
        "* You can attach additional figures (drawings, graphs,...) in a separate PDF file, just make sure to refer to them in your answers.\n",
        "\n",
        "* $\\large\\LaTeX$ <a href=\"https://kapeli.com/cheat_sheets/LaTeX_Math_Symbols.docset/Contents/Resources/Documents/index\">Cheat-Sheet</a> (to write equations)\n",
        "    * <a href=\"http://tug.ctan.org/info/latex-refsheet/LaTeX_RefSheet.pdf\">Another Cheat-Sheet</a>"
      ]
    },
    {
      "cell_type": "markdown",
      "metadata": {
        "id": "RsqSFZG1pGhj"
      },
      "source": [
        "## <img src=\"https://img.icons8.com/clouds/100/000000/question-mark.png\" style=\"height:50px;display:inline\"> Question 1 -Deep NLP Case Study\n",
        "---\n",
        "* You are consulting for a healthcare company. They provide you with clinical notes of the first encounter that each patient had with their doctor regarding a particular medical episode.\n",
        "* There are a total of 12 million patients and clinical notes. At the time that each clinical note was written, the underlying illnesses associated with the medical episode were unknown to the doctor. \n",
        "* The company provides you with the true set of illnesses associated with each medical episode and asks you to build a model that can infer these underlying illnesses using only the current clinical note and all previous clinical notes belonging to the patient.\n",
        "* The set of notes provided to you span 10 years; each patient therefore can have multiple clinical notes (medical episodes) in that period.\n",
        "* You also have a vector representation of each patient note (note-vector) which was built using a summation of the word vectors of the note.\n",
        "\n",
        "\n",
        "1. You assume that a patient’s past medical history is informative of their current illness. As such, you apply a recurrent neural network to predict the current illness based on the patient’s current and previous note-vectors. Explain why a recurrent neural network would yield better results than a feed-forward network in which your input is the summation of past and current note-vectors?\n",
        "\n",
        "2. A patient may have any number of illnesses from a list of 70,000 known medical illnesses. The output of your recurrent neural network will therefore be a vector with 70,000 elements. Each element in this output vector represents the probability that the patient has the illness that maps to that particular element. Illnesses are not mutually exclusive i.e. having one illness does not preclude you from having any other illnesses. Given this insight, is it better to have a sigmoid non-linearity or a softmax non-linearity as your output unit? Why?\n",
        "\n",
        "3. You try to figure out a better way to reduce the training and testing time of your model. You perform a run time analysis and observe that the computational bottleneck is in your output unit: the number of target illnesses is too high. Each illness in the list of 70,000 illnesses belongs to one of 300 classes (e.g. a migraine belongs to the neurological disorder class). He shares with you a dictionary which maps each illness to its corresponding class. How can you use this information to reduce the **time** complexity of your model?"
      ]
    },
    {
      "cell_type": "markdown",
      "metadata": {
        "id": "dkNkld8qSs-S"
      },
      "source": [
        "## <img src=\"https://img.icons8.com/clouds/100/26e07f/about.png\" style=\"height:50px;display:inline\">Question 1 - <span style=\"color: HotPink\">Solution</span>\n",
        "---\n",
        "\n",
        "1. Using a feed-forward network for that task would be to totaly ignore any time / sequential information about the patient's medical data which also would lead to disregarding any cause and effect between following events. Using an RNN would solve that problem by acquiring the sequential information from the order at which the vector notes are fed into the network.\n",
        "\n",
        "2. Because illnesses are not mutually exclusive, the probability of a paitient to have one illness could be (in general) independent of some other illnesses which can also accure. Using a softmax activation on the last layer would give us a probability distribution over the output vector (illnesses) such that the probability of having some illness would be on the expense of the other (which in general wouldn't be the case). For example, a paitent could torn his acl and have diarrhea at the same time without of this two ilnesses be conected in any way. Therefore, it would be better to use a sigmoid activation over the output layer which results in a mapping of any output unit into $[0, 1]$ which can be interpreted as the probability of he patient to have that specific illness.\n",
        "\n",
        "3. "
      ]
    },
    {
      "cell_type": "markdown",
      "metadata": {
        "id": "PD06dr7FSs-S"
      },
      "source": [
        "## <img src=\"https://img.icons8.com/clouds/100/000000/question-mark.png\" style=\"height:50px;display:inline\"> Question 2 -Layer Normalization\n",
        "---\n",
        "\n",
        "1. When does Group Normalization is equivalent to Instance Normalization?\n",
        "2. When does Group Normalization is equivalent to Layer Normalization?\n",
        "3. For the following batch of $N=3$ 2D images with $C=3$ channels each, what is the output of:\n",
        "    * Batch Normalization\n",
        "    * Layer Normalization\n",
        "    * Instance Normalization\n",
        "\n",
        "\n",
        "* Use only the *mean* for the calculation, no need for the std (assume there are no learnable parameters).\n",
        "    \n",
        "$$ n=1: \\begin{bmatrix} 0 & 1 \\\\ 1 & 0 \\end{bmatrix}, \\begin{bmatrix} 1 & 0 \\\\ 0 & 1 \\end{bmatrix}, \\begin{bmatrix} 1 & 1 \\\\ 1 & 1 \\end{bmatrix} $$\n",
        "\n",
        "$$ n=2: \\begin{bmatrix} 0.5 & 0.5 \\\\ 0.5 & 0.5 \\end{bmatrix}, \\begin{bmatrix} 0.5 & 0 \\\\ 0.5 & 0 \\end{bmatrix}, \\begin{bmatrix} 0 & 0.5 \\\\ 0 & 0.5 \\end{bmatrix} $$\n",
        "\n",
        "$$ n=3: \\begin{bmatrix} 1 & 1 \\\\ 1 & 0.5 \\end{bmatrix}, \\begin{bmatrix} 0.5 & 1 \\\\ 0.5 & 1 \\end{bmatrix}, \\begin{bmatrix} 1 & 0.5 \\\\ 1 & 1 \\end{bmatrix} $$"
      ]
    },
    {
      "cell_type": "markdown",
      "metadata": {
        "id": "426vA9fpSs-T"
      },
      "source": [
        "## <img src=\"https://img.icons8.com/clouds/100/26e07f/about.png\" style=\"height:50px;display:inline\">Question 2 - <span style=\"color: HotPink\">Solution</span>\n",
        "---\n",
        "\n",
        "\n",
        "1. Instance Normalization means normalizing over the width and height dimensions while Group Normalization means normalizing over the width, height and some of the channels dimensions. Therefore, Group Normalization and Instance Normalization are equivalent when each group consists of a single channel.\n",
        "\n",
        "2. Layer Normalization means normalizing over the width, height and all channels of a specific layer. Therefore Group normalization and Layer normalization are equivalent when a group in a group normalization consists of all the channels in a specific layer.\n",
        "\n",
        "3. \n",
        " - **Batch Normalization:**\n",
        " \\begin{align}\n",
        "     C_1&: \\quad\\frac{2*1 + 4*0.5 + 3*1 + 1*0.5}{12}=\\frac{7.5}{12}=0.625\\\\\n",
        "     C_2&: \\quad\\frac{2*1 + 2*0.5 + 2*1 + 2*0.5}{12}=\\frac{6}{12}=0.5\\\\\n",
        "     C_3&: \\quad\\frac{4*1 + 2*0.5 + 3*1 + 1*0.5}{12}=\\frac{8.5}{12}=0.708\n",
        " \\end{align}\n",
        " \n",
        " Then, the output would be\n",
        " \\begin{align}\n",
        "     n=1&: \\begin{bmatrix} 0 & 1 \\\\ 1 & 0 \\end{bmatrix}-0.625, \\begin{bmatrix} 1 & 0 \\\\ 0 & 1 \\end{bmatrix}-0.5, \\begin{bmatrix} 1 & 1 \\\\ 1 & 1 \\end{bmatrix}-0.708\\\\\n",
        "     n=2&: \\begin{bmatrix} 0.5 & 0.5 \\\\ 0.5 & 0.5 \\end{bmatrix}-0.625, \\begin{bmatrix} 0.5 & 0 \\\\ 0.5 & 0 \\end{bmatrix}-0.5, \\begin{bmatrix} 0 & 0.5 \\\\ 0 & 0.5 \\end{bmatrix}-0.708\\\\\n",
        "     n=3&: \\begin{bmatrix} 1 & 1 \\\\ 1 & 0.5 \\end{bmatrix}-0.625, \\begin{bmatrix} 0.5 & 1 \\\\ 0.5 & 1 \\end{bmatrix}-0.5, \\begin{bmatrix} 1 & 0.5 \\\\ 1 & 1 \\end{bmatrix}-0.708\n",
        " \\end{align}\n",
        " \n",
        " Therefore,\n",
        " \\begin{align}\n",
        "     n=1&: \\begin{bmatrix} -0.625 & 0.375 \\\\ 0.375 & -0.625 \\end{bmatrix}, \\begin{bmatrix} 0.5 & -0.5 \\\\ -0.5 & 0.5 \\end{bmatrix}, \\begin{bmatrix} 0.292 & 0.292 \\\\ 0.292 & 0.292 \\end{bmatrix}\\\\\n",
        "     n=2&: \\begin{bmatrix} -0.125 & -0.125 \\\\ -0.125 & -0.125 \\end{bmatrix}, \\begin{bmatrix} 0 & -0.5 \\\\ 0 & -0.5 \\end{bmatrix}, \\begin{bmatrix} -0.708 & -0.208 \\\\ -0.708 & -0.208 \\end{bmatrix}\\\\\n",
        "     n=3&: \\begin{bmatrix} 0.375 & 0.375 \\\\ 0.375 & -0.125 \\end{bmatrix}, \\begin{bmatrix} 0 & 0.5 \\\\ 0 & 0.5 \\end{bmatrix}, \\begin{bmatrix} 0.292 & -0.208 \\\\ 0.292 & 0.292 \\end{bmatrix}\n",
        " \\end{align}\n",
        " \n",
        " - **Layer Normalization**\n",
        " \\begin{align}\n",
        "     n_1&: \\quad\\frac{2*1 + 2*1 + 4*1}{12}=\\frac{8}{12}=0.667\\\\\n",
        "     n_2&: \\quad\\frac{4*0.5 + 2*0.5 + 2*0.5}{12}=\\frac{4}{12}=0.333\\\\\n",
        "     n_3&: \\quad\\frac{3*1 + 1*0.5 + 2*1 + 2*0.5 + 3*1 + 1*0.5}{12}=\\frac{10}{12}=0.833\n",
        " \\end{align}\n",
        " \n",
        " Then, the output would be\n",
        " \\begin{align}\n",
        "     n=1&: \\begin{bmatrix} 0 & 1 \\\\ 1 & 0 \\end{bmatrix}-0.667, \\begin{bmatrix} 1 & 0 \\\\ 0 & 1 \\end{bmatrix}-0.667, \\begin{bmatrix} 1 & 1 \\\\ 1 & 1 \\end{bmatrix}-0.667\\\\\n",
        "     n=2&: \\begin{bmatrix} 0.5 & 0.5 \\\\ 0.5 & 0.5 \\end{bmatrix}-0.333, \\begin{bmatrix} 0.5 & 0 \\\\ 0.5 & 0 \\end{bmatrix}-0.333, \\begin{bmatrix} 0 & 0.5 \\\\ 0 & 0.5 \\end{bmatrix}-0.333\\\\\n",
        "     n=3&: \\begin{bmatrix} 1 & 1 \\\\ 1 & 0.5 \\end{bmatrix}-0.833, \\begin{bmatrix} 0.5 & 1 \\\\ 0.5 & 1 \\end{bmatrix}-0.833, \\begin{bmatrix} 1 & 0.5 \\\\ 1 & 1 \\end{bmatrix}-0.833\n",
        " \\end{align}\n",
        " \n",
        " Therefore,\n",
        " \\begin{align}\n",
        "     n=1&: \\begin{bmatrix} -0.667 & 0.333 \\\\ 0.333 & -0.667 \\end{bmatrix}, \\begin{bmatrix} 0.333 & -0.667 \\\\ -0.667 & 0.333 \\end{bmatrix}, \\begin{bmatrix} 0.333 & 0.333 \\\\ 0.333 & 0.333 \\end{bmatrix}\\\\\n",
        "     n=2&: \\begin{bmatrix} 0.167 & 0.167 \\\\ 0.167 & 0.167 \\end{bmatrix}, \\begin{bmatrix} 0.167 & -0.333 \\\\ 0.167 & -0.333 \\end{bmatrix}, \\begin{bmatrix} -0.333 & 0.167 \\\\ -0.333 & 0.167 \\end{bmatrix}\\\\\n",
        "     n=3&: \\begin{bmatrix} 0.167 & 0.167 \\\\ 0.167 & -0.333 \\end{bmatrix}, \\begin{bmatrix} -0.333 & 0.167 \\\\ -0.333 & 0.167 \\end{bmatrix}, \\begin{bmatrix} 0.167 & -0.333 \\\\ 0.167 & 0.167 \\end{bmatrix}\n",
        " \\end{align}\n",
        " \n",
        "  - **Instance Normalization**\n",
        "  \\begin{align}\n",
        "     n_1, C_1&: \\quad\\frac{2*1}{4}=0.5\\\\\n",
        "     n_1, C_2&: \\quad\\frac{2*1}{4}=0.5\\\\\n",
        "     n_1, C_3&: \\quad\\frac{4*1}{4}=1\\\\\n",
        "     n_2, C_1&: \\quad\\frac{4*0.5}{4}=0.5\\\\\n",
        "     n_2, C_2&: \\quad\\frac{2*0.5}{4}=0.25\\\\\n",
        "     n_2, C_3&: \\quad\\frac{2*0.5}{4}=0.25\\\\\n",
        "     n_3, C_1&: \\quad\\frac{3*1 + 1*0.5}{4}=0.875\\\\\n",
        "     n_3, C_2&: \\quad\\frac{2*1 + 2*0.5}{4}=0.75\\\\\n",
        "     n_3, C_3&: \\quad\\frac{3*1 + 1*0.5}{4}=0.875\n",
        " \\end{align}\n",
        " \n",
        " Then, the output would be\n",
        " \\begin{align}\n",
        "     n=1&: \n",
        "     \\begin{bmatrix} -0.5 & 0.5 \\\\ 0.5 & -0.5 \\end{bmatrix}, \n",
        "     \\begin{bmatrix} 0.5 & -0.5 \\\\ -0.5 & 0.5 \\end{bmatrix}, \n",
        "     \\begin{bmatrix} 0 & 0 \\\\ 0 & 0 \\end{bmatrix}\\\\\n",
        "     n=2&: \n",
        "     \\begin{bmatrix} 0 & 0 \\\\ 0 & 0 \\end{bmatrix}, \n",
        "     \\begin{bmatrix} 0.25 & -0.25 \\\\ 0.25 & -0.25 \\end{bmatrix}, \n",
        "     \\begin{bmatrix} -0.25 & 0.25 \\\\ -0.25 & 0.25 \\end{bmatrix}\\\\\n",
        "     n=3&: \n",
        "     \\begin{bmatrix} 0.125 & 0.125 \\\\ 0.125 & -0.375 \\end{bmatrix}, \n",
        "     \\begin{bmatrix} -0.25 & 0.25 \\\\ -0.25 & 0.25 \\end{bmatrix}, \n",
        "     \\begin{bmatrix} 0.125 & -0.375 \\\\ 0.125 & 0.125 \\end{bmatrix}\n",
        " \\end{align}\n",
        " "
      ]
    },
    {
      "cell_type": "code",
      "metadata": {
        "id": "MEhXAhNASs-V"
      },
      "source": [
        "# imports for the practice (you can add more if you need)\n",
        "import numpy as np\n",
        "import matplotlib.pyplot as plt\n",
        "import time\n",
        "import os\n",
        "import math\n",
        "\n",
        "# pytorch\n",
        "import torch\n",
        "import torch.nn as nn"
      ],
      "execution_count": null,
      "outputs": []
    },
    {
      "cell_type": "code",
      "metadata": {
        "id": "uQEo5gMeSs-a",
        "outputId": "761f4683-c486-408d-bb5e-faa3acfc7bca"
      },
      "source": [
        "# verifying Question 2.3 hand computation with code\n",
        "x1 = np.array([[[0, 1], [1., 0]], [[1, 0], [0, 1]], [[1, 1], [1, 1]]], dtype=np.float)\n",
        "x2 = np.array([[[0.5, 0.5], [0.5, 0.5]], [[0.5, 0], [0.5, 0]], [[0, 0.5], [0, 0.5]]], dtype=np.float)\n",
        "x3 = np.array([[[1, 1], [1, 0.5]], [[0.5, 1], [0.5, 1]], [[1, 0.5], [1, 1]]], dtype=np.float)\n",
        "x = torch.from_numpy(np.array([x1, x2, x3])).float()\n",
        "y = x.transpose(1, 0)\n",
        "batch = nn.BatchNorm2d(3, affine=False, momentum=1)\n",
        "batch_out = batch(x)\n",
        "print(f'The BatchNorm2D values for all channels, C1, C2, C3 are {batch.running_mean}')"
      ],
      "execution_count": null,
      "outputs": [
        {
          "output_type": "stream",
          "text": [
            "The BatchNorm2D values for all channels, C1, C2, C3 are tensor([0.6250, 0.5000, 0.7083])\n"
          ],
          "name": "stdout"
        }
      ]
    },
    {
      "cell_type": "markdown",
      "metadata": {
        "id": "MefRg8cPSs-c"
      },
      "source": [
        "## <img src=\"https://img.icons8.com/clouds/100/000000/question-mark.png\" style=\"height:50px;display:inline\"> Question 3 -Batch Normalization\n",
        "---\n",
        "This question relates to lectures 8-9 (from slide 9):\n",
        "\n",
        "Prove that **without** regularization, BatchNorm **scale invariance** for parameters $\\mathbf{w}$ implies:\n",
        "1. $\\nabla \\mathcal{L}(\\mathbf{w})^T\\mathbf{w} = 0$\n",
        "2. And under gradient flow dynamics ($\\dot{\\mathbf{w}} = -\\eta \\nabla \\mathcal{L}(\\mathbf{w})$) this implies (L2) norm conservation: $\\forall t: ||\\mathbf{w}(t)||^2 = C$\n",
        "\n",
        "Hint: see results from the multilayer networks lecture."
      ]
    },
    {
      "cell_type": "markdown",
      "metadata": {
        "id": "7D-14iM7pGhm"
      },
      "source": [
        "### <img src=\"https://img.icons8.com/officel/80/000000/code.png\" style=\"height:50px;display:inline\"> Part 2 - Code Assignments\n",
        "---\n",
        "* You must write your code in this notebook and save it with the output of all of the code cells.\n",
        "* Additional text can be added in Markdown cells.\n",
        "* You can use any other IDE you like (PyCharm, VSCode...) to write/debug your code, but for the submission you must copy it to this notebook, run the code and save the notebook with the output."
      ]
    },
    {
      "cell_type": "code",
      "metadata": {
        "id": "SL_itYmqSs-c",
        "colab": {
          "base_uri": "https://localhost:8080/"
        },
        "outputId": "13a3e695-7030-4b33-8e49-7e5d1d490c0b"
      },
      "source": [
        "# imports for the practice (you can add more if you need)\n",
        "import numpy as np\n",
        "import matplotlib.pyplot as plt\n",
        "import time\n",
        "import os\n",
        "import math\n",
        "from tqdm.autonotebook import tqdm\n",
        "from IPython.display import HTML, display, clear_output\n",
        "\n",
        "# pytorch\n",
        "import torch\n",
        "import torch.nn as nn\n",
        "import torchtext\n",
        "import torchtext.legacy.data as data\n",
        "import torchtext.legacy.datasets as datasets\n",
        "import torch.nn.functional as f\n",
        "from torch.nn import TransformerEncoder, TransformerEncoderLayer\n",
        "from collections import Counter\n",
        "from torchtext.vocab import Vocab\n",
        "\n",
        "seed = 211\n",
        "np.random.seed(seed)\n",
        "torch.manual_seed(seed)\n",
        "\n",
        "print(f'torch {torch.__version__}')\n",
        "print('Device properties:')\n",
        "if torch.cuda.is_available():\n",
        "    device = torch.device(\"cuda\")\n",
        "    gpu_data = torch.cuda.get_device_properties(0)\n",
        "    gpu_name = gpu_data.name\n",
        "    gpu_mem  = f'{gpu_data.total_memory * 1e-9:.02f} Gb'\n",
        "    print(f'GPU: {gpu_name}\\nMemory: {gpu_mem}')\n",
        "else:\n",
        "    device = torch.device(\"cpu\")\n",
        "    print('CPU')"
      ],
      "execution_count": 9,
      "outputs": [
        {
          "output_type": "stream",
          "text": [
            "torch 1.8.1+cu101\n",
            "Device properties:\n",
            "GPU: Tesla T4\n",
            "Memory: 15.84 Gb\n"
          ],
          "name": "stdout"
        }
      ]
    },
    {
      "cell_type": "markdown",
      "metadata": {
        "id": "rdVJJPJLSs-d"
      },
      "source": [
        "## <img src=\"https://img.icons8.com/bubbles/50/000000/workflow.png\" style=\"height:50px;display:inline\">  Sequence-to-Sequence with Transformers\n",
        "---\n",
        "* In this exercise, you are going to build a language model using PyTroch's Transformer module.\n",
        "* We will work with the **Wikitext-2** dataset: the WikiText language modeling dataset is a collection of over 100 million tokens extracted from the set of verified Good and Featured articles on Wikipedia.\n",
        "* After training, you will be able to generate senetences!"
      ]
    },
    {
      "cell_type": "markdown",
      "metadata": {
        "id": "qGa6HDzdSs-d"
      },
      "source": [
        "### <img src=\"https://img.icons8.com/color/48/000000/code.png\" style=\"height:50px;display:inline\"> Task 1  - Loading and Observing the Data\n",
        "---\n",
        "1. Initialize a text `data.Field` using `data.utils.get_tokenizer(\"basic_english\")`, `<sos>` and `<eos>` as start and end tokens, and consider only lower case words (`lower=True`).\n",
        "2. Load the train, valid and test *texts* using `datasets.WikiText2.splits` with your text data field from (1).\n",
        "3. Build a vocabulary using only the train data.\n",
        "4. Create the train, valid and test data using the provided `batchify` function.\n",
        "5. Use the `batchify` function with `batch_size=20` to create a data loader. Print the shape of the result.\n",
        "6. Print 2 train samples. Use the vocabulary you built to transfer between tokens to words."
      ]
    },
    {
      "cell_type": "code",
      "metadata": {
        "id": "HEoSv8-wSs-d"
      },
      "source": [
        "def batchify(data, bsz, text_field):\n",
        "    data = text_field.numericalize([data.examples[0].text])\n",
        "    # Divide the dataset into bsz parts.\n",
        "    nbatch = data.size(0) // bsz\n",
        "    # Trim off any extra elements that wouldn't cleanly fit (remainders).\n",
        "    data = data.narrow(0, 0, nbatch * bsz)\n",
        "    # Evenly divide the data across the bsz batches.\n",
        "    data = data.view(bsz, -1).t().contiguous()\n",
        "    return data.to(device)"
      ],
      "execution_count": 10,
      "outputs": []
    },
    {
      "cell_type": "code",
      "metadata": {
        "colab": {
          "base_uri": "https://localhost:8080/",
          "height": 368
        },
        "id": "EVdQGasD_tEg",
        "outputId": "f9a4ce14-344e-4d44-8d67-4f1c4e6d06ed"
      },
      "source": [
        "\"\"\"\n",
        "Your Code Here\n",
        "\"\"\"\n",
        "# get tokenizer\n",
        "tokenizer = data.utils.get_tokenizer(\"basic_english\")\n",
        "\n",
        "# define the text field for the dataset\n",
        "text = data.Field(sequential=True,\n",
        "                  lower=True, \n",
        "                  tokenize=tokenizer,\n",
        "                  init_token='<sos>', \n",
        "                  eos_token='<eos>',\n",
        "                  dtype=torch.long)\n",
        "\n",
        "# download the WikiText2 dataset\n",
        "train_Wiki2, val_Wiki2, test_Wiki2 = datasets.WikiText2.splits(text_field=text)\n",
        "\n",
        "# create vocabulary\n",
        "text.build_vocab(train_Wiki2)\n",
        "vocab = text.vocab\n",
        "\n",
        "# split the data into batches\n",
        "batch_size = 20\n",
        "train_loader = batchify(train_Wiki2, batch_size, text)\n",
        "val_loader = batchify(val_Wiki2, batch_size, text)\n",
        "test_loader = batchify(test_Wiki2, batch_size, text)\n",
        "display(HTML('<h4>Data loaders shapes:</h4>'))\n",
        "print(f'The train dataset shape is: {train_loader.shape}')\n",
        "print(f'The validation dataset shape is: {val_loader.shape}')\n",
        "print(f'The test dataset shape is: {test_loader.shape}')\n",
        "\n",
        "# display data samples\n",
        "display(HTML('<h4>Display data samples:</h4>'))\n",
        "n_samples = 2\n",
        "for i in range(n_samples):\n",
        "    tokens = train_loader[i]\n",
        "    print(f'Sample {i}:')\n",
        "    print(f'Tokens: {list(tokens.cpu().numpy())}')\n",
        "    print(\"Text: \", \" \".join([vocab.itos[t] for t in tokens]))\n",
        "    print('\\n')\n",
        "\n"
      ],
      "execution_count": 11,
      "outputs": [
        {
          "output_type": "stream",
          "text": [
            "downloading wikitext-2-v1.zip\n"
          ],
          "name": "stdout"
        },
        {
          "output_type": "stream",
          "text": [
            "wikitext-2-v1.zip: 100%|██████████| 4.48M/4.48M [00:00<00:00, 8.71MB/s]\n"
          ],
          "name": "stderr"
        },
        {
          "output_type": "stream",
          "text": [
            "extracting\n"
          ],
          "name": "stdout"
        },
        {
          "output_type": "display_data",
          "data": {
            "text/html": [
              "<h4>Data loaders shapes:</h4>"
            ],
            "text/plain": [
              "<IPython.core.display.HTML object>"
            ]
          },
          "metadata": {
            "tags": []
          }
        },
        {
          "output_type": "stream",
          "text": [
            "The train dataset shape is: torch.Size([104335, 20])\n",
            "The validation dataset shape is: torch.Size([10908, 20])\n",
            "The test dataset shape is: torch.Size([12310, 20])\n"
          ],
          "name": "stdout"
        },
        {
          "output_type": "display_data",
          "data": {
            "text/html": [
              "<h4>Display data samples:</h4>"
            ],
            "text/plain": [
              "<IPython.core.display.HTML object>"
            ]
          },
          "metadata": {
            "tags": []
          }
        },
        {
          "output_type": "stream",
          "text": [
            "Sample 0:\n",
            "Tokens: [3, 25, 1849, 570, 7, 5, 5, 9258, 4, 56, 0, 7, 6, 6634, 4, 6603, 6, 5, 65, 30]\n",
            "Text:  <eos> @ settlement heavy of , , lined the she <unk> of . interception the dried . , would his\n",
            "\n",
            "\n",
            "Sample 1:\n",
            "Tokens: [12, 66, 13, 4889, 458, 8, 1045, 21, 19094, 34, 147, 4, 0, 10, 2280, 2294, 58, 35, 2438, 4064]\n",
            "Text:  = 1 was rains ireland and starting with hairy had found the <unk> to possibility heads other which receive gift\n",
            "\n",
            "\n"
          ],
          "name": "stdout"
        }
      ]
    },
    {
      "cell_type": "markdown",
      "metadata": {
        "id": "lRfhYBV6Ss-e"
      },
      "source": [
        "### <img src=\"https://img.icons8.com/color/48/000000/code.png\" style=\"height:50px;display:inline\"> Task 2  - Preparing the  Data - Separating to Inputs and Targets\n",
        "---\n",
        "* For a language modeling task, the model needs the following words as `Target`.\n",
        "    * For example, for the senetence \"I have a nice dog\", the model will be given \"I have a\" as input, and \"nice dog\" as the target.\n",
        "* Implement (complete) the function `get_batch(source, i, bptt)`: it generates the input and target sequence for the transformer model. It subdivides the source data into chunks of length `bptt`.\n",
        "    * For example, for `bptt=2` and at `i=0`, the output of `data, target = get_batch(train_data, i=0, bptt=2)`: `data` will be of shape (2, 20), where the batch size is 20 and `target` will be of length 40 (the target for each element is two words, but we flatten `target`).\n",
        "    * Print a sample from `data` and `target`"
      ]
    },
    {
      "cell_type": "code",
      "metadata": {
        "id": "5fwmJAO6Ss-e",
        "colab": {
          "base_uri": "https://localhost:8080/"
        },
        "outputId": "96a672e1-6d3d-4bb5-d013-a6cf5554166a"
      },
      "source": [
        "\"\"\"\n",
        "Your Code Here\n",
        "\"\"\"\n",
        "def get_batch(source, i, bptt):\n",
        "    seq_len = min(bptt, len(source) - 1 - i)\n",
        "    data = source[i:i + seq_len]\n",
        "    target = source[i + 1:i + 1 + seq_len].view(-1)\n",
        "    return data, target\n",
        "\n",
        "data, target = get_batch(train_loader, i=0, bptt=2)\n",
        "print(f'The data shape {data.cpu().numpy().shape}, The target shape {target.cpu().numpy().shape}\\n')\n",
        "print(f\"Data:\\n {data.cpu().numpy()}\\n\")\n",
        "print(f\"Target:\\n {target.cpu().numpy()}\")"
      ],
      "execution_count": 12,
      "outputs": [
        {
          "output_type": "stream",
          "text": [
            "The data shape (2, 20), The target shape (40,)\n",
            "\n",
            "Data:\n",
            " [[    3    25  1849   570     7     5     5  9258     4    56     0     7\n",
            "      6  6634     4  6603     6     5    65    30]\n",
            " [   12    66    13  4889   458     8  1045    21 19094    34   147     4\n",
            "      0    10  2280  2294    58    35  2438  4064]]\n",
            "\n",
            "Target:\n",
            " [   12    66    13  4889   458     8  1045    21 19094    34   147     4\n",
            "     0    10  2280  2294    58    35  2438  4064  3852 13667  2962    68\n",
            "     6 28374    39   417     0  2034    29    88 27804   350     7    17\n",
            "  4811   902    33    20]\n"
          ],
          "name": "stdout"
        }
      ]
    },
    {
      "cell_type": "markdown",
      "metadata": {
        "id": "760tslmbSs-e"
      },
      "source": [
        "### <img src=\"https://img.icons8.com/color/48/000000/code.png\" style=\"height:50px;display:inline\"> Task 3  - Define Hyperparameters and Initialize the Model\n",
        "---\n",
        "* Define the following hyperparameters (`[a, b]` means in the range between `a` and `b`):\n",
        "    * Embedding size: choose from `[200, 250]`\n",
        "    * Number of hidden units: choose from `[200, 250]`\n",
        "    * Number of layers: choose from `[2, 4]`\n",
        "    * Number of attention heads: choose from `[2, 4]`\n",
        "    * Dropout: choose from `[0.0, 0.3]`\n",
        "    * Loss criterion: `nn.CrossEntropyLoss()`\n",
        "    * Optimizer: choose from `[SGD, Adam]`\n",
        "    * Learning rate: choose from `[5e-3, 5.0]`\n",
        "    * Learning Scheduler: `torch.optim.lr_scheduler.StepLR(optimizer, 1.0, gamma=0.95)`\n",
        "* Intialize an instance of `TransformerModel` (given) and send it to `device`. Note that you need to give it the number of tokens to define the output of the decoder. You should use the number of tokens in the vocabulary. Print the number of tokens,  print **all** the chosen hyper-parameters and print the model (`print(model`)."
      ]
    },
    {
      "cell_type": "code",
      "metadata": {
        "id": "S441OcJBSs-e"
      },
      "source": [
        "class PositionalEncoding(nn.Module):\n",
        "\n",
        "    def __init__(self, d_model, dropout=0.1, max_len=5000):\n",
        "        super(PositionalEncoding, self).__init__()\n",
        "        self.dropout = nn.Dropout(p=dropout)\n",
        "\n",
        "        pe = torch.zeros(max_len, d_model)\n",
        "        position = torch.arange(0, max_len, dtype=torch.float).unsqueeze(1)\n",
        "        div_term = torch.exp(torch.arange(0, d_model, 2).float() * (-math.log(10000.0) / d_model))\n",
        "        pe[:, 0::2] = torch.sin(position * div_term)\n",
        "        pe[:, 1::2] = torch.cos(position * div_term)\n",
        "        pe = pe.unsqueeze(0).transpose(0, 1)\n",
        "        self.register_buffer('pe', pe)\n",
        "\n",
        "    def forward(self, x):\n",
        "        x = x + self.pe[:x.size(0), :]\n",
        "        return self.dropout(x)\n",
        "    \n",
        "class TransformerModel(nn.Module):\n",
        "\n",
        "    def __init__(self, ntoken, ninp, nhead, nhid, nlayers, dropout=0.5):\n",
        "        super(TransformerModel, self).__init__()\n",
        "        self.pos_encoder = PositionalEncoding(ninp, dropout)\n",
        "        encoder_layers = TransformerEncoderLayer(ninp, nhead, nhid, dropout)\n",
        "        self.transformer_encoder = TransformerEncoder(encoder_layers, nlayers)\n",
        "        self.encoder = nn.Embedding(ntoken, ninp)\n",
        "        self.ninp = ninp\n",
        "        self.decoder = nn.Linear(ninp, ntoken)\n",
        "\n",
        "        self.init_weights()\n",
        "\n",
        "    def generate_square_subsequent_mask(self, sz):\n",
        "        mask = (torch.triu(torch.ones(sz, sz)) == 1).transpose(0, 1)\n",
        "        mask = mask.float().masked_fill(mask == 0, float('-inf')).masked_fill(mask == 1, float(0.0))\n",
        "        return mask\n",
        "\n",
        "    def init_weights(self):\n",
        "        initrange = 0.1\n",
        "        self.encoder.weight.data.uniform_(-initrange, initrange)\n",
        "        self.decoder.bias.data.zero_()\n",
        "        self.decoder.weight.data.uniform_(-initrange, initrange)\n",
        "\n",
        "    def forward(self, src, src_mask):\n",
        "        src = self.encoder(src) * math.sqrt(self.ninp)\n",
        "        src = self.pos_encoder(src)\n",
        "        output = self.transformer_encoder(src, src_mask)\n",
        "        output = self.decoder(output)\n",
        "        return output"
      ],
      "execution_count": 13,
      "outputs": []
    },
    {
      "cell_type": "code",
      "metadata": {
        "id": "6KsdV-MQSs-f",
        "colab": {
          "base_uri": "https://localhost:8080/",
          "height": 844
        },
        "outputId": "55f95cc2-0d65-45b2-a5ad-e80a0e7fdc53"
      },
      "source": [
        "\"\"\"\n",
        "Your Code Here\n",
        "\"\"\"\n",
        "# Hyperparameters\n",
        "emsize = 200              # embbeding size\n",
        "ntokens = len(vocab.stoi) # the size of vocabulary\n",
        "lr = 5.0                  # learning rate\n",
        "nlayers = 2               # number of layers\n",
        "nhid = 200                # number of hidden units\n",
        "nhead = 2                 # number of Attention heads\n",
        "dropout = 0.3             # dropout probability\n",
        "step_decay = 1.0          # Period of learning rate decay\n",
        "gamma = 0.95              # decay value for learning rate\n",
        "\n",
        "display(HTML('<h4>The Model Hyperparameters:</h4>'))\n",
        "print(f'Number of tokens in the vocabulary: {ntokens}')\n",
        "print(f'Embedding size: {emsize}')\n",
        "print(f'Number of Attention heads: {nhead}')\n",
        "print(f'Number of hidden uints: {nhid}')\n",
        "print(f'Number of layers: {nlayers}')\n",
        "print(f'Dropout: {dropout}')\n",
        "print(f'Step decay for learning rate: {step_decay}')\n",
        "print(f'Learning rate: {lr}')\n",
        "print(f'Decay value for learning rate: {gamma}')\n",
        "\n",
        "\n",
        "\n",
        "criterion = nn.CrossEntropyLoss()\n",
        "model = TransformerModel(ntokens, emsize, nhead, nhid, nlayers, dropout).to(device)\n",
        "optimizer = torch.optim.SGD(model.parameters(), lr=lr)\n",
        "scheduler = torch.optim.lr_scheduler.StepLR(optimizer, step_decay, gamma=gamma)\n",
        "\n",
        "display(HTML('<h4>The Model:</h4>'))\n",
        "print(model)\n"
      ],
      "execution_count": 106,
      "outputs": [
        {
          "output_type": "display_data",
          "data": {
            "text/html": [
              "<h4>The Model Hyperparameters:</h4>"
            ],
            "text/plain": [
              "<IPython.core.display.HTML object>"
            ]
          },
          "metadata": {
            "tags": []
          }
        },
        {
          "output_type": "stream",
          "text": [
            "Number of tokens in the vocabulary: 28785\n",
            "Embedding size: 200\n",
            "Number of Attention heads: 2\n",
            "Number of hidden uints: 200\n",
            "Number of layers: 2\n",
            "Dropout: 0.3\n",
            "Step decay for learning rate: 1.0\n",
            "Learning rate: 5.0\n",
            "Decay value for learning rate: 0.95\n"
          ],
          "name": "stdout"
        },
        {
          "output_type": "display_data",
          "data": {
            "text/html": [
              "<h4>The Model:</h4>"
            ],
            "text/plain": [
              "<IPython.core.display.HTML object>"
            ]
          },
          "metadata": {
            "tags": []
          }
        },
        {
          "output_type": "stream",
          "text": [
            "TransformerModel(\n",
            "  (pos_encoder): PositionalEncoding(\n",
            "    (dropout): Dropout(p=0.3, inplace=False)\n",
            "  )\n",
            "  (transformer_encoder): TransformerEncoder(\n",
            "    (layers): ModuleList(\n",
            "      (0): TransformerEncoderLayer(\n",
            "        (self_attn): MultiheadAttention(\n",
            "          (out_proj): _LinearWithBias(in_features=200, out_features=200, bias=True)\n",
            "        )\n",
            "        (linear1): Linear(in_features=200, out_features=200, bias=True)\n",
            "        (dropout): Dropout(p=0.3, inplace=False)\n",
            "        (linear2): Linear(in_features=200, out_features=200, bias=True)\n",
            "        (norm1): LayerNorm((200,), eps=1e-05, elementwise_affine=True)\n",
            "        (norm2): LayerNorm((200,), eps=1e-05, elementwise_affine=True)\n",
            "        (dropout1): Dropout(p=0.3, inplace=False)\n",
            "        (dropout2): Dropout(p=0.3, inplace=False)\n",
            "      )\n",
            "      (1): TransformerEncoderLayer(\n",
            "        (self_attn): MultiheadAttention(\n",
            "          (out_proj): _LinearWithBias(in_features=200, out_features=200, bias=True)\n",
            "        )\n",
            "        (linear1): Linear(in_features=200, out_features=200, bias=True)\n",
            "        (dropout): Dropout(p=0.3, inplace=False)\n",
            "        (linear2): Linear(in_features=200, out_features=200, bias=True)\n",
            "        (norm1): LayerNorm((200,), eps=1e-05, elementwise_affine=True)\n",
            "        (norm2): LayerNorm((200,), eps=1e-05, elementwise_affine=True)\n",
            "        (dropout1): Dropout(p=0.3, inplace=False)\n",
            "        (dropout2): Dropout(p=0.3, inplace=False)\n",
            "      )\n",
            "    )\n",
            "  )\n",
            "  (encoder): Embedding(28785, 200)\n",
            "  (decoder): Linear(in_features=200, out_features=28785, bias=True)\n",
            ")\n"
          ],
          "name": "stdout"
        }
      ]
    },
    {
      "cell_type": "markdown",
      "metadata": {
        "id": "afwPxELLSs-f"
      },
      "source": [
        "### <img src=\"https://img.icons8.com/color/48/000000/code.png\" style=\"height:50px;display:inline\"> Task 4  - Train and Evaluate the Language Model\n",
        "---\n",
        "* Fill in the missing line in the training code and train the model.\n",
        "* Use `bptt=35`.\n",
        "* Use the provided function to evaluate it on the validatation set (after each epoch) and on test test (after training is done). **Print and plot** the results (loss and perplexity).\n",
        "* If you see that the performance does not improve, go back to Task 3 and re-think you hyper-parameters."
      ]
    },
    {
      "cell_type": "code",
      "metadata": {
        "id": "HHvVYhc0Ss-f"
      },
      "source": [
        "def evaluate(eval_model, data_source):\n",
        "    eval_model.eval() # Turn on the evaluation mode\n",
        "    total_loss = 0.\n",
        "    ntokens = len(vocab.stoi)\n",
        "    src_mask = model.generate_square_subsequent_mask(bptt).to(device)\n",
        "    with torch.no_grad():\n",
        "        for i in range(0, data_source.size(0) - 1, bptt):\n",
        "            data, targets = get_batch(data_source, i, bptt)\n",
        "            if data.size(0) != bptt:\n",
        "                src_mask = model.generate_square_subsequent_mask(data.size(0)).to(device)\n",
        "            output = eval_model(data, src_mask)\n",
        "            output_flat = output.view(-1, ntokens)\n",
        "            total_loss += len(data) * criterion(output_flat, targets).item()\n",
        "    return total_loss / (len(data_source) - 1)"
      ],
      "execution_count": 107,
      "outputs": []
    },
    {
      "cell_type": "code",
      "metadata": {
        "id": "rvW6NQFOSs-f"
      },
      "source": [
        "\"\"\"\n",
        "Your Code Here\n",
        "\"\"\"\n",
        "def train(bptt, logger):\n",
        "    model.train() # Turn on the train mode\n",
        "    total_loss = 0.\n",
        "    epoch_total_loss = 0.\n",
        "    counter = 0\n",
        "    start_time = time.time()\n",
        "    ntokens =  len(vocab.stoi) #complete\n",
        "    src_mask = model.generate_square_subsequent_mask(bptt).to(device)\n",
        "    for batch, i in enumerate(range(0, train_loader.size(0) - 1, bptt)):\n",
        "        data, targets = get_batch(train_loader, i, bptt)\n",
        "        \n",
        "        if data.size(0) != bptt:\n",
        "            src_mask = model.generate_square_subsequent_mask(data.size(0)).to(device)\n",
        "            \n",
        "        output = model(data, src_mask) # complete\n",
        "        loss = criterion(output.view(-1, ntokens), targets) # complete\n",
        "        \n",
        "        optimizer.zero_grad()\n",
        "        loss.backward()\n",
        "        torch.nn.utils.clip_grad_norm_(model.parameters(), 0.5)\n",
        "        optimizer.step()\n",
        "\n",
        "        total_loss += loss.item()\n",
        "        log_interval = 200\n",
        "        if batch % log_interval == 0 and batch > 0:\n",
        "            cur_loss = total_loss / log_interval\n",
        "            epoch_total_loss += cur_loss\n",
        "            counter += 1\n",
        "            elapsed = time.time() - start_time\n",
        "            print('| epoch {:3d} | {:5d}/{:5d} batches | '\n",
        "                  'lr {:02.2f} | ms/batch {:5.2f} | '\n",
        "                  'loss {:5.2f} | ppl {:8.2f}'.format(\n",
        "                    epoch, batch, len(train_loader) // bptt, scheduler.get_last_lr()[0],\n",
        "                    elapsed * 1000 / log_interval,\n",
        "                    cur_loss, math.exp(cur_loss)))\n",
        "            total_loss = 0\n",
        "            start_time = time.time()\n",
        "    logger['train_loss'].append(epoch_total_loss / counter)"
      ],
      "execution_count": 108,
      "outputs": []
    },
    {
      "cell_type": "code",
      "metadata": {
        "colab": {
          "base_uri": "https://localhost:8080/"
        },
        "id": "qm2OoFVV1I7q",
        "outputId": "13363f66-d1af-4c6b-c47c-52c753c938d3"
      },
      "source": [
        "CHECKPOINT_DIR = 'Checkpoints'\n",
        "MODEL_NAME = 'LM_Transformer'\n",
        "\n",
        "# create checkpoint directory to save model results\n",
        "if not os.path.isdir(CHECKPOINT_DIR):\n",
        "    os.mkdir(CHECKPOINT_DIR)\n",
        "\n",
        "best_val_loss = float(\"inf\")\n",
        "epochs = 2\n",
        "best_model = None\n",
        "bptt=35\n",
        "logger = {'train_loss': [], \n",
        "          'val_loss': [], \n",
        "          'epochs': []}\n",
        "\n",
        "for epoch in range(1, epochs + 1):\n",
        "    epoch_start_time = time.time()\n",
        "    train(bptt=bptt, logger=logger)\n",
        "    val_loss = evaluate(model, val_loader)\n",
        "    logger['val_loss'].append(val_loss)\n",
        "    logger['epochs'].append(epoch)\n",
        "    print('-' * 89)\n",
        "    print('| end of epoch {:3d} | time: {:5.2f}s | valid loss {:5.2f} | '\n",
        "          'valid ppl {:8.2f}'.format(epoch, (time.time() - epoch_start_time),\n",
        "                                     val_loss, math.exp(val_loss)))\n",
        "    print('-' * 89)\n",
        "\n",
        "    if val_loss < best_val_loss:\n",
        "        best_val_loss = val_loss\n",
        "        best_model = model\n",
        "        \n",
        "        # save the model\n",
        "        state = {\n",
        "            'model': best_model.state_dict(),\n",
        "            'epoch': epoch,\n",
        "            'val_loss': val_loss,\n",
        "            'bptt': bptt,\n",
        "            'ntokens': ntokens, \n",
        "            'emsize': emsize, \n",
        "            'nhead': nhead, \n",
        "            'nhid': nhid, \n",
        "            'nlayers': nlayers, \n",
        "            'dropout': dropout,\n",
        "            'logger': logger\n",
        "        }\n",
        "        torch.save(state, f'{CHECKPOINT_DIR}/{MODEL_NAME}_{epoch}.pth')\n",
        "        print('-' * 89)\n",
        "        print('| Model was saved |')\n",
        "        print('-' * 89)\n",
        "\n",
        "    scheduler.step()"
      ],
      "execution_count": 109,
      "outputs": [
        {
          "output_type": "stream",
          "text": [
            "| epoch   1 |   200/ 2981 batches | lr 5.00 | ms/batch 15.86 | loss  7.99 | ppl  2944.90\n",
            "| epoch   1 |   400/ 2981 batches | lr 5.00 | ms/batch 15.43 | loss  6.83 | ppl   922.25\n",
            "| epoch   1 |   600/ 2981 batches | lr 5.00 | ms/batch 15.53 | loss  6.44 | ppl   627.35\n",
            "| epoch   1 |   800/ 2981 batches | lr 5.00 | ms/batch 15.54 | loss  6.30 | ppl   546.30\n",
            "| epoch   1 |  1000/ 2981 batches | lr 5.00 | ms/batch 15.56 | loss  6.20 | ppl   492.68\n",
            "| epoch   1 |  1200/ 2981 batches | lr 5.00 | ms/batch 15.61 | loss  6.18 | ppl   482.31\n",
            "| epoch   1 |  1400/ 2981 batches | lr 5.00 | ms/batch 15.62 | loss  6.12 | ppl   454.40\n",
            "| epoch   1 |  1600/ 2981 batches | lr 5.00 | ms/batch 15.66 | loss  6.13 | ppl   457.32\n",
            "| epoch   1 |  1800/ 2981 batches | lr 5.00 | ms/batch 15.67 | loss  6.05 | ppl   423.44\n",
            "| epoch   1 |  2000/ 2981 batches | lr 5.00 | ms/batch 15.70 | loss  6.05 | ppl   424.07\n",
            "| epoch   1 |  2200/ 2981 batches | lr 5.00 | ms/batch 15.69 | loss  5.95 | ppl   382.10\n",
            "| epoch   1 |  2400/ 2981 batches | lr 5.00 | ms/batch 15.69 | loss  5.99 | ppl   398.39\n",
            "| epoch   1 |  2600/ 2981 batches | lr 5.00 | ms/batch 15.72 | loss  5.99 | ppl   400.93\n",
            "| epoch   1 |  2800/ 2981 batches | lr 5.00 | ms/batch 15.78 | loss  5.91 | ppl   367.44\n",
            "-----------------------------------------------------------------------------------------\n",
            "| end of epoch   1 | time: 48.21s | valid loss  5.78 | valid ppl   322.36\n",
            "-----------------------------------------------------------------------------------------\n",
            "-----------------------------------------------------------------------------------------\n",
            "| Model was saved |\n",
            "-----------------------------------------------------------------------------------------\n",
            "| epoch   2 |   200/ 2981 batches | lr 4.75 | ms/batch 15.86 | loss  5.91 | ppl   368.07\n",
            "| epoch   2 |   400/ 2981 batches | lr 4.75 | ms/batch 15.76 | loss  5.88 | ppl   358.99\n",
            "| epoch   2 |   600/ 2981 batches | lr 4.75 | ms/batch 15.82 | loss  5.74 | ppl   311.05\n",
            "| epoch   2 |   800/ 2981 batches | lr 4.75 | ms/batch 15.93 | loss  5.78 | ppl   325.24\n",
            "| epoch   2 |  1000/ 2981 batches | lr 4.75 | ms/batch 15.83 | loss  5.74 | ppl   311.62\n",
            "| epoch   2 |  1200/ 2981 batches | lr 4.75 | ms/batch 15.83 | loss  5.78 | ppl   323.51\n",
            "| epoch   2 |  1400/ 2981 batches | lr 4.75 | ms/batch 15.89 | loss  5.78 | ppl   322.29\n",
            "| epoch   2 |  1600/ 2981 batches | lr 4.75 | ms/batch 15.89 | loss  5.80 | ppl   331.55\n",
            "| epoch   2 |  1800/ 2981 batches | lr 4.75 | ms/batch 15.89 | loss  5.74 | ppl   311.25\n",
            "| epoch   2 |  2000/ 2981 batches | lr 4.75 | ms/batch 15.97 | loss  5.78 | ppl   323.05\n",
            "| epoch   2 |  2200/ 2981 batches | lr 4.75 | ms/batch 15.96 | loss  5.66 | ppl   288.34\n",
            "| epoch   2 |  2400/ 2981 batches | lr 4.75 | ms/batch 15.97 | loss  5.74 | ppl   309.94\n",
            "| epoch   2 |  2600/ 2981 batches | lr 4.75 | ms/batch 15.99 | loss  5.75 | ppl   313.34\n",
            "| epoch   2 |  2800/ 2981 batches | lr 4.75 | ms/batch 16.04 | loss  5.68 | ppl   293.01\n",
            "-----------------------------------------------------------------------------------------\n",
            "| end of epoch   2 | time: 48.99s | valid loss  5.67 | valid ppl   290.87\n",
            "-----------------------------------------------------------------------------------------\n",
            "-----------------------------------------------------------------------------------------\n",
            "| Model was saved |\n",
            "-----------------------------------------------------------------------------------------\n"
          ],
          "name": "stdout"
        }
      ]
    },
    {
      "cell_type": "code",
      "metadata": {
        "colab": {
          "base_uri": "https://localhost:8080/"
        },
        "id": "AaxNlkC53zsz",
        "outputId": "6025451c-d48c-4fc5-ccd3-d269d742cb13"
      },
      "source": [
        "# evalute best model on test dataset\n",
        "test_loss = evaluate(best_model, test_loader)\n",
        "print('=' * 89)\n",
        "print('| End of training | test loss {:5.2f} | test ppl {:8.2f}'.format(\n",
        "    test_loss, math.exp(test_loss)))\n",
        "print('=' * 89)"
      ],
      "execution_count": 110,
      "outputs": [
        {
          "output_type": "stream",
          "text": [
            "=========================================================================================\n",
            "| End of training | test loss  5.58 | test ppl   266.05\n",
            "=========================================================================================\n"
          ],
          "name": "stdout"
        }
      ]
    },
    {
      "cell_type": "code",
      "metadata": {
        "colab": {
          "base_uri": "https://localhost:8080/",
          "height": 602
        },
        "id": "yIAtaAd5DVXp",
        "outputId": "bdce59be-b6e1-4b7c-a9f6-93259e4b8dcf"
      },
      "source": [
        "fig, ax = plt.subplots(1, 1, figsize=(15,8), dpi=200)\n",
        "fig.patch.set_facecolor('white')\n",
        "\n",
        "# plot accuracy\n",
        "p1 = ax.plot(logger['epochs'], logger['train_loss'], linewidth=2, label='train\\nloss')\n",
        "p2 = ax.plot(logger['epochs'], logger['val_loss'], linewidth=2, label='validation\\nloss')\n",
        "ax.set_xticks(range(0, logger['epochs'][-1] + 1, 2))\n",
        "ax.set_xticklabels(range(0, logger['epochs'][-1] + 1, 2))\n",
        "ax.set_xlabel('Epoch')\n",
        "ax.set_ylabel('Loss [%]')\n",
        "ax.set_title('Model Loss')\n",
        "ax.xaxis.grid()\n",
        "ax.legend()"
      ],
      "execution_count": 111,
      "outputs": [
        {
          "output_type": "execute_result",
          "data": {
            "text/plain": [
              "<matplotlib.legend.Legend at 0x7f8ca3ae3190>"
            ]
          },
          "metadata": {
            "tags": []
          },
          "execution_count": 111
        },
        {
          "output_type": "display_data",
          "data": {
            "image/png": "[encoded data removed]",
            "text/plain": [
              "<Figure size 3000x1600 with 1 Axes>"
            ]
          },
          "metadata": {
            "tags": []
          }
        }
      ]
    },
    {
      "cell_type": "code",
      "metadata": {
        "colab": {
          "base_uri": "https://localhost:8080/"
        },
        "id": "mzIF5mDFKIrB",
        "outputId": "ed5547d8-d386-4d02-96f5-ff9e997d536d"
      },
      "source": [
        "logger['train_loss']"
      ],
      "execution_count": 112,
      "outputs": [
        {
          "output_type": "execute_result",
          "data": {
            "text/plain": [
              "[6.293852002450399, 5.768769531760897]"
            ]
          },
          "metadata": {
            "tags": []
          },
          "execution_count": 112
        }
      ]
    },
    {
      "cell_type": "markdown",
      "metadata": {
        "id": "a2oHS9VsSs-g"
      },
      "source": [
        "### <img src=\"https://img.icons8.com/color/48/000000/code.png\" style=\"height:50px;display:inline\"> Task 5  - Generate Sentences\n",
        "---\n",
        "Use the following function to generate 3 sentences of length 20, and print them. Do they make sense? (you can compare generated sentences over epochs, to see if some logic is gained during training)."
      ]
    },
    {
      "cell_type": "code",
      "metadata": {
        "id": "-aYNNXCiSs-g"
      },
      "source": [
        "def generate(model, vocab, nwords=100, temp=1.0):\n",
        "    model.eval()\n",
        "    ntokens = len(vocab.stoi)\n",
        "    model_input = torch.randint(ntokens, (1, 1), dtype=torch.long).to(device)\n",
        "    words = []\n",
        "    with torch.no_grad():\n",
        "        for i in range(nwords):\n",
        "            output = model(model_input, None)\n",
        "            word_weights = output[-1].squeeze().div(temp).exp().cpu()\n",
        "            word_idx = torch.multinomial(word_weights, 1)[0]\n",
        "            word_tensor = torch.Tensor([[word_idx]]).long().to(device)\n",
        "            model_input = torch.cat([model_input, word_tensor], 0)\n",
        "            word = vocab.itos[word_idx]\n",
        "            words.append(word)\n",
        "    return words"
      ],
      "execution_count": 66,
      "outputs": []
    },
    {
      "cell_type": "code",
      "metadata": {
        "id": "cgcTYss8Ss-g",
        "colab": {
          "base_uri": "https://localhost:8080/"
        },
        "outputId": "881e7aac-904a-448c-c3a5-e820ac59041a"
      },
      "source": [
        "\"\"\"\n",
        "Your code Here\n",
        "\"\"\"\n",
        "\n",
        "# load saved model\n",
        "state = torch.load(f'{CHECKPOINT_DIR}/{MODEL_NAME}_{7}.pth', map_location=device)\n",
        "best_model = TransformerModel(state['ntokens'], \n",
        "                              state['emsize'], \n",
        "                              state['nhead'], \n",
        "                              state['nhid'], \n",
        "                              state['nlayers'], \n",
        "                              state['dropout']).to(device)\n",
        "\n",
        "best_model.load_state_dict(state['model'])\n",
        "\n",
        "nsentences = 3 # Number of sentences to generate\n",
        "\n",
        "for i in range(nsentences):\n",
        "  sentence = generate(best_model, vocab, nwords=20)\n",
        "  print(f'Sentence {i}:')\n",
        "  print(\" \".join(sentence), '\\n')    "
      ],
      "execution_count": 68,
      "outputs": [
        {
          "output_type": "stream",
          "text": [
            "Sentence 0:\n",
            "and scleroderma and power ( to ice protection involving an increasingly avalanche ) is found , surface eagle <unk> <unk> \n",
            "\n",
            "Sentence 1:\n",
            "<unk> , duchess were registered . it remained over the power . it is recorded by an american national contractor \n",
            "\n",
            "Sentence 2:\n",
            "ad minorities and destroyed of the number and ernie who lived in wisconsin and interstate and sports and the largest \n",
            "\n"
          ],
          "name": "stdout"
        }
      ]
    },
    {
      "cell_type": "markdown",
      "metadata": {
        "id": "QkBzqLP7Ss-g"
      },
      "source": [
        "## <img src=\"https://img.icons8.com/dusk/64/000000/prize.png\" style=\"height:50px;display:inline\"> Credits\n",
        "---\n",
        "* Icons made by <a href=\"https://www.flaticon.com/authors/becris\" title=\"Becris\">Becris</a> from <a href=\"https://www.flaticon.com/\" title=\"Flaticon\">www.flaticon.com</a>\n",
        "* Icons from <a href=\"https://icons8.com/\">Icons8.com</a> - https://icons8.com\n",
        "* Datasets from <a href=\"https://www.kaggle.com/\">Kaggle</a> - https://www.kaggle.com/"
      ]
    }
  ]
}