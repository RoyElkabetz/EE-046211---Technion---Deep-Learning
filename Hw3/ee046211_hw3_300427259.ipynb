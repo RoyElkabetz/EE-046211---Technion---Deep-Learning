{
  "nbformat": 4,
  "nbformat_minor": 0,
  "metadata": {
    "kernelspec": {
      "display_name": "Python 3",
      "language": "python",
      "name": "python3"
    },
    "language_info": {
      "codemirror_mode": {
        "name": "ipython",
        "version": 3
      },
      "file_extension": ".py",
      "mimetype": "text/x-python",
      "name": "python",
      "nbconvert_exporter": "python",
      "pygments_lexer": "ipython3",
      "version": "3.8.0"
    },
    "colab": {
      "name": "ee046211_hw3_300427259.ipynb",
      "provenance": []
    },
    "accelerator": "GPU"
  },
  "cells": [
    {
      "cell_type": "markdown",
      "metadata": {
        "id": "dzV9wsJ5pGhf"
      },
      "source": [
        "# <img src=\"https://img.icons8.com/bubbles/50/000000/mind-map.png\" style=\"height:50px;display:inline\"> EE 046211 - Technion - Deep Learning\n",
        "---\n",
        "\n",
        "## HW3 - Sequential Tasks and Training Methods\n",
        "---"
      ]
    },
    {
      "cell_type": "markdown",
      "metadata": {
        "id": "bq2c8X93pGhh"
      },
      "source": [
        "### <img src=\"https://img.icons8.com/clouds/96/000000/keyboard.png\" style=\"height:50px;display:inline\"> Keyboard Shortcuts\n",
        "---\n",
        "* Run current cell: **Ctrl + Enter**\n",
        "* Run current cell and move to the next: **Shift + Enter**\n",
        "* Show lines in a code cell: **Esc + L**\n",
        "* View function documentation: **Shift + Tab** inside the parenthesis or `help(name_of_module)`\n",
        "* New cell below: **Esc + B**\n",
        "* Delete cell: **Esc + D, D** (two D's)"
      ]
    },
    {
      "cell_type": "markdown",
      "metadata": {
        "id": "vZZybn3NpGhh"
      },
      "source": [
        "### <img src=\"https://img.icons8.com/bubbles/50/000000/information.png\" style=\"height:50px;display:inline\"> Students Information\n",
        "---\n",
        "* Fill in\n",
        "\n",
        "|Name     |Campus Email| ID  |\n",
        "|---------|--------------------------------|----------|\n",
        "|Roy Elkabetz| roy-e@campus.technion.ac.il| 300427259|\n"
      ]
    },
    {
      "cell_type": "markdown",
      "metadata": {
        "id": "dDK5zqhdpGhi"
      },
      "source": [
        "### <img src=\"https://img.icons8.com/bubbles/50/000000/upload-to-cloud.png\" style=\"height:50px;display:inline\"> Submission Guidelines\n",
        "---\n",
        "* Maximal garde: 100.\n",
        "* Submission only in **pairs**. \n",
        "    * Please make sure you have registered your group in Moodle (there is a group creation component on the Moodle where you need to create your group and assign members).\n",
        "* **No handwritten submissions.** You can choose whether to answer in a Markdown cell in this notebook or attach a PDF with your answers.\n",
        "* <a style='color:red'> SAVE THE NOTEBOOKS WITH THE OUTPUT, CODE CELLS THAT WERE NOT RUN WILL NOT GET ANY POINTS! </a>\n",
        "* What you have to submit:\n",
        "    * If you have answered the questions in the notebook, you should submit this file only, with the name: `ee046211_hw3_id1_id2.ipynb`.\n",
        "    * If you answered the questionss in a different file you should submit a `.zip` file with the name `ee046211_hw3_id1_id2.zip` with content:\n",
        "        * `ee046211_hw3_id1_id2.ipynb` - the code tasks\n",
        "        * `ee046211_hw3_id1_id2.pdf` - answers to questions.\n",
        "    * No other file-types (`.py`, `.docx`...) will be accepted.\n",
        "* Submission on the course website (Moodle).\n",
        "* **Latex in Colab** - in some cases, Latex equations may no be rendered. To avoid this, make sure to not use *bullets* in your answers (\"* some text here with Latex equations\" -> \"some text here with Latex equations\")."
      ]
    },
    {
      "cell_type": "markdown",
      "metadata": {
        "id": "pmSj_UufpGhi"
      },
      "source": [
        "### <img src=\"https://img.icons8.com/dusk/64/000000/online.png\" style=\"height:50px;display:inline\"> Working Online and Locally\n",
        "---\n",
        "* You can choose your working environment:\n",
        "    1. `Jupyter Notebook`, **locally** with <a href=\"https://www.anaconda.com/distribution/\">Anaconda</a> or **online** on <a href=\"https://colab.research.google.com/\">Google Colab</a>\n",
        "        * Colab also supports running code on GPU, so if you don't have one, Colab is the way to go. To enable GPU on Colab, in the menu: `Runtime`$\\rightarrow$ `Change Runtime Type` $\\rightarrow$`GPU`.\n",
        "    2. Python IDE such as <a href=\"https://www.jetbrains.com/pycharm/\">PyCharm</a> or <a href=\"https://code.visualstudio.com/\">Visual Studio Code</a>.\n",
        "        * Both allow editing and running Jupyter Notebooks.\n",
        "\n",
        "* Please refer to `Setting Up the Working Environment.pdf` on the Moodle or our GitHub (https://github.com/taldatech/ee046211-deep-learning) to help you get everything installed.\n",
        "* If you need any technical assistance, please go to our Piazza forum (`hw3` folder) and describe your problem (preferably with images)."
      ]
    },
    {
      "cell_type": "markdown",
      "metadata": {
        "id": "nlp1Fp4ppGhj"
      },
      "source": [
        "### <img src=\"https://img.icons8.com/bubbles/50/000000/checklist.png\" style=\"height:50px;display:inline\"> Agenda\n",
        "---\n",
        "\n",
        "* [Part 1 - Theory](#-Part-1---Theory)\n",
        "    * [Q1 - Deep NLP Case Study](#-Question-1--Deep-NLP-Case-Study)\n",
        "    * [Q2 -Layer Normalization](#-Question-2--Layer-Normalization)\n",
        "    * [Q3 - Batch Normalization](#-Question-3--Batch-Normalization)\n",
        "* [Part 2 - Code Assignments - Sequence-to-Sequence with Transformers](#-Part-2---Code-Assignments)\n",
        "    * [Task 1 - Task 1 - Loading and Observing the Data](#-Task-1----Loading-and-Observing-the-Data)\n",
        "    * [Task 2 - Preparing the Data - Separating to Inputs and Targets](#-Task-2----Preparing-the--Data---Separating-to-Inputs-and-Targets)\n",
        "    * [Task 3 - Define Hyperparameters and Initialize the Model](#-Task-3----Define-Hyperparameters-and-Initialize-the-Model)\n",
        "    * [Task 4 - Train and Evaluate the Language Model](#-Task-4----Train-and-Evaluate-the-Language-Model)\n",
        "    * [Task 5 - Generate Sentences](#-Task-5----Generate-Sentences)\n",
        "* [Credits](#-Credits)"
      ]
    },
    {
      "cell_type": "markdown",
      "metadata": {
        "id": "XKtSiQX_pGhj"
      },
      "source": [
        "### <img src=\"https://img.icons8.com/cute-clipart/64/000000/ball-point-pen.png\" style=\"height:50px;display:inline\"> Part 1 - Theory\n",
        "---\n",
        "* You can choose whether to answser these straight in the notebook (Markdown + Latex) or use another editor (Word, LyX, Latex, Overleaf...) and submit an additional PDF file, **but no handwritten submissions**.\n",
        "* You can attach additional figures (drawings, graphs,...) in a separate PDF file, just make sure to refer to them in your answers.\n",
        "\n",
        "* $\\large\\LaTeX$ <a href=\"https://kapeli.com/cheat_sheets/LaTeX_Math_Symbols.docset/Contents/Resources/Documents/index\">Cheat-Sheet</a> (to write equations)\n",
        "    * <a href=\"http://tug.ctan.org/info/latex-refsheet/LaTeX_RefSheet.pdf\">Another Cheat-Sheet</a>"
      ]
    },
    {
      "cell_type": "markdown",
      "metadata": {
        "id": "RsqSFZG1pGhj"
      },
      "source": [
        "## <img src=\"https://img.icons8.com/clouds/100/000000/question-mark.png\" style=\"height:50px;display:inline\"> Question 1 -Deep NLP Case Study\n",
        "---\n",
        "* You are consulting for a healthcare company. They provide you with clinical notes of the first encounter that each patient had with their doctor regarding a particular medical episode.\n",
        "* There are a total of 12 million patients and clinical notes. At the time that each clinical note was written, the underlying illnesses associated with the medical episode were unknown to the doctor. \n",
        "* The company provides you with the true set of illnesses associated with each medical episode and asks you to build a model that can infer these underlying illnesses using only the current clinical note and all previous clinical notes belonging to the patient.\n",
        "* The set of notes provided to you span 10 years; each patient therefore can have multiple clinical notes (medical episodes) in that period.\n",
        "* You also have a vector representation of each patient note (note-vector) which was built using a summation of the word vectors of the note.\n",
        "\n",
        "\n",
        "1. You assume that a patient’s past medical history is informative of their current illness. As such, you apply a recurrent neural network to predict the current illness based on the patient’s current and previous note-vectors. Explain why a recurrent neural network would yield better results than a feed-forward network in which your input is the summation of past and current note-vectors?\n",
        "\n",
        "2. A patient may have any number of illnesses from a list of 70,000 known medical illnesses. The output of your recurrent neural network will therefore be a vector with 70,000 elements. Each element in this output vector represents the probability that the patient has the illness that maps to that particular element. Illnesses are not mutually exclusive i.e. having one illness does not preclude you from having any other illnesses. Given this insight, is it better to have a sigmoid non-linearity or a softmax non-linearity as your output unit? Why?\n",
        "\n",
        "3. You try to figure out a better way to reduce the training and testing time of your model. You perform a run time analysis and observe that the computational bottleneck is in your output unit: the number of target illnesses is too high. Each illness in the list of 70,000 illnesses belongs to one of 300 classes (e.g. a migraine belongs to the neurological disorder class). He shares with you a dictionary which maps each illness to its corresponding class. How can you use this information to reduce the **time** complexity of your model?"
      ]
    },
    {
      "cell_type": "markdown",
      "metadata": {
        "id": "dkNkld8qSs-S"
      },
      "source": [
        "## <img src=\"https://img.icons8.com/clouds/100/26e07f/about.png\" style=\"height:50px;display:inline\">Question 1 - <span style=\"color: HotPink\">Solution</span>\n",
        "---\n",
        "\n",
        "1. Using a feed-forward network for that task would be to totaly ignore any time / sequential information about the patient's medical data which also would lead to disregarding any cause and effect between following events. Using an RNN would solve that problem by acquiring the sequential information from the order at which the vector notes are fed into the network.\n",
        "\n",
        "2. Because illnesses are not mutually exclusive, the probability of a paitient to have one illness could be (in general) independent of some other illnesses which can also accure. Using a softmax activation on the last layer would give us a probability distribution over the output vector (illnesses) such that the probability of having some illness would be on the expense of the other (which in general wouldn't be the case). For example, a paitent could torn his acl and have diarrhea at the same time without of this two ilnesses be conected in any way. Therefore, it would be better to use a sigmoid activation over the output layer which results in a mapping of any output unit into $[0, 1]$ which can be interpreted as the probability of he patient to have that specific illness.\n",
        "\n",
        "3. In order to reduce the time complexity of the model we can use the $300$ classes list as the output of the model with a sigmoid activation over each unit in the $300$ output vector. Thus, the model would (given the same input) output the probabilities of the patient to have an illness in one or more of the classes in the $300$ classes list. Then, defining some threshold for the probability of having an illness in some class we can then classify between the illnesses only for the classes who got a probability above that treshold.\n",
        "Althogh in this method we add another classifer ontop of the previouse model (which is time consuming) we also reduce the size of the model's output dramatically to $300$ from $70000$ units. Then, given some interesting classes with high probability we now look in a much smaller subspace of illnesses which on average would be of the size of $70000/300 \\approx 230$ classes."
      ]
    },
    {
      "cell_type": "markdown",
      "metadata": {
        "id": "PD06dr7FSs-S"
      },
      "source": [
        "## <img src=\"https://img.icons8.com/clouds/100/000000/question-mark.png\" style=\"height:50px;display:inline\"> Question 2 -Layer Normalization\n",
        "---\n",
        "\n",
        "1. When does Group Normalization is equivalent to Instance Normalization?\n",
        "2. When does Group Normalization is equivalent to Layer Normalization?\n",
        "3. For the following batch of $N=3$ 2D images with $C=3$ channels each, what is the output of:\n",
        "    * Batch Normalization\n",
        "    * Layer Normalization\n",
        "    * Instance Normalization\n",
        "\n",
        "\n",
        "* Use only the *mean* for the calculation, no need for the std (assume there are no learnable parameters).\n",
        "    \n",
        "$$ n=1: \\begin{bmatrix} 0 & 1 \\\\ 1 & 0 \\end{bmatrix}, \\begin{bmatrix} 1 & 0 \\\\ 0 & 1 \\end{bmatrix}, \\begin{bmatrix} 1 & 1 \\\\ 1 & 1 \\end{bmatrix} $$\n",
        "\n",
        "$$ n=2: \\begin{bmatrix} 0.5 & 0.5 \\\\ 0.5 & 0.5 \\end{bmatrix}, \\begin{bmatrix} 0.5 & 0 \\\\ 0.5 & 0 \\end{bmatrix}, \\begin{bmatrix} 0 & 0.5 \\\\ 0 & 0.5 \\end{bmatrix} $$\n",
        "\n",
        "$$ n=3: \\begin{bmatrix} 1 & 1 \\\\ 1 & 0.5 \\end{bmatrix}, \\begin{bmatrix} 0.5 & 1 \\\\ 0.5 & 1 \\end{bmatrix}, \\begin{bmatrix} 1 & 0.5 \\\\ 1 & 1 \\end{bmatrix} $$"
      ]
    },
    {
      "cell_type": "markdown",
      "metadata": {
        "id": "426vA9fpSs-T"
      },
      "source": [
        "## <img src=\"https://img.icons8.com/clouds/100/26e07f/about.png\" style=\"height:50px;display:inline\">Question 2 - <span style=\"color: HotPink\">Solution</span>\n",
        "---\n",
        "\n",
        "\n",
        "1. Instance Normalization means normalizing over the width and height dimensions while Group Normalization means normalizing over the width, height and some of the channels dimensions. Therefore, Group Normalization and Instance Normalization are equivalent when each group consists of a single channel.\n",
        "\n",
        "2. Layer Normalization means normalizing over the width, height and all channels of a specific layer. Therefore Group normalization and Layer normalization are equivalent when a group in a group normalization consists of all the channels in a specific layer.\n",
        "\n",
        "3. \n",
        " - **Batch Normalization:**\n",
        " \\begin{align}\n",
        "     C_1&: \\quad\\frac{2*1 + 4*0.5 + 3*1 + 1*0.5}{12}=\\frac{7.5}{12}=0.625\\\\\n",
        "     C_2&: \\quad\\frac{2*1 + 2*0.5 + 2*1 + 2*0.5}{12}=\\frac{6}{12}=0.5\\\\\n",
        "     C_3&: \\quad\\frac{4*1 + 2*0.5 + 3*1 + 1*0.5}{12}=\\frac{8.5}{12}=0.708\n",
        " \\end{align}\n",
        " \n",
        " Then, the output would be\n",
        " \\begin{align}\n",
        "     n=1&: \\begin{bmatrix} 0 & 1 \\\\ 1 & 0 \\end{bmatrix}-0.625, \\begin{bmatrix} 1 & 0 \\\\ 0 & 1 \\end{bmatrix}-0.5, \\begin{bmatrix} 1 & 1 \\\\ 1 & 1 \\end{bmatrix}-0.708\\\\\n",
        "     n=2&: \\begin{bmatrix} 0.5 & 0.5 \\\\ 0.5 & 0.5 \\end{bmatrix}-0.625, \\begin{bmatrix} 0.5 & 0 \\\\ 0.5 & 0 \\end{bmatrix}-0.5, \\begin{bmatrix} 0 & 0.5 \\\\ 0 & 0.5 \\end{bmatrix}-0.708\\\\\n",
        "     n=3&: \\begin{bmatrix} 1 & 1 \\\\ 1 & 0.5 \\end{bmatrix}-0.625, \\begin{bmatrix} 0.5 & 1 \\\\ 0.5 & 1 \\end{bmatrix}-0.5, \\begin{bmatrix} 1 & 0.5 \\\\ 1 & 1 \\end{bmatrix}-0.708\n",
        " \\end{align}\n",
        " \n",
        " Therefore,\n",
        " \\begin{align}\n",
        "     n=1&: \\begin{bmatrix} -0.625 & 0.375 \\\\ 0.375 & -0.625 \\end{bmatrix}, \\begin{bmatrix} 0.5 & -0.5 \\\\ -0.5 & 0.5 \\end{bmatrix}, \\begin{bmatrix} 0.292 & 0.292 \\\\ 0.292 & 0.292 \\end{bmatrix}\\\\\n",
        "     n=2&: \\begin{bmatrix} -0.125 & -0.125 \\\\ -0.125 & -0.125 \\end{bmatrix}, \\begin{bmatrix} 0 & -0.5 \\\\ 0 & -0.5 \\end{bmatrix}, \\begin{bmatrix} -0.708 & -0.208 \\\\ -0.708 & -0.208 \\end{bmatrix}\\\\\n",
        "     n=3&: \\begin{bmatrix} 0.375 & 0.375 \\\\ 0.375 & -0.125 \\end{bmatrix}, \\begin{bmatrix} 0 & 0.5 \\\\ 0 & 0.5 \\end{bmatrix}, \\begin{bmatrix} 0.292 & -0.208 \\\\ 0.292 & 0.292 \\end{bmatrix}\n",
        " \\end{align}\n",
        " \n",
        " - **Layer Normalization**\n",
        " \\begin{align}\n",
        "     n_1&: \\quad\\frac{2*1 + 2*1 + 4*1}{12}=\\frac{8}{12}=0.667\\\\\n",
        "     n_2&: \\quad\\frac{4*0.5 + 2*0.5 + 2*0.5}{12}=\\frac{4}{12}=0.333\\\\\n",
        "     n_3&: \\quad\\frac{3*1 + 1*0.5 + 2*1 + 2*0.5 + 3*1 + 1*0.5}{12}=\\frac{10}{12}=0.833\n",
        " \\end{align}\n",
        " \n",
        " Then, the output would be\n",
        " \\begin{align}\n",
        "     n=1&: \\begin{bmatrix} 0 & 1 \\\\ 1 & 0 \\end{bmatrix}-0.667, \\begin{bmatrix} 1 & 0 \\\\ 0 & 1 \\end{bmatrix}-0.667, \\begin{bmatrix} 1 & 1 \\\\ 1 & 1 \\end{bmatrix}-0.667\\\\\n",
        "     n=2&: \\begin{bmatrix} 0.5 & 0.5 \\\\ 0.5 & 0.5 \\end{bmatrix}-0.333, \\begin{bmatrix} 0.5 & 0 \\\\ 0.5 & 0 \\end{bmatrix}-0.333, \\begin{bmatrix} 0 & 0.5 \\\\ 0 & 0.5 \\end{bmatrix}-0.333\\\\\n",
        "     n=3&: \\begin{bmatrix} 1 & 1 \\\\ 1 & 0.5 \\end{bmatrix}-0.833, \\begin{bmatrix} 0.5 & 1 \\\\ 0.5 & 1 \\end{bmatrix}-0.833, \\begin{bmatrix} 1 & 0.5 \\\\ 1 & 1 \\end{bmatrix}-0.833\n",
        " \\end{align}\n",
        " \n",
        " Therefore,\n",
        " \\begin{align}\n",
        "     n=1&: \\begin{bmatrix} -0.667 & 0.333 \\\\ 0.333 & -0.667 \\end{bmatrix}, \\begin{bmatrix} 0.333 & -0.667 \\\\ -0.667 & 0.333 \\end{bmatrix}, \\begin{bmatrix} 0.333 & 0.333 \\\\ 0.333 & 0.333 \\end{bmatrix}\\\\\n",
        "     n=2&: \\begin{bmatrix} 0.167 & 0.167 \\\\ 0.167 & 0.167 \\end{bmatrix}, \\begin{bmatrix} 0.167 & -0.333 \\\\ 0.167 & -0.333 \\end{bmatrix}, \\begin{bmatrix} -0.333 & 0.167 \\\\ -0.333 & 0.167 \\end{bmatrix}\\\\\n",
        "     n=3&: \\begin{bmatrix} 0.167 & 0.167 \\\\ 0.167 & -0.333 \\end{bmatrix}, \\begin{bmatrix} -0.333 & 0.167 \\\\ -0.333 & 0.167 \\end{bmatrix}, \\begin{bmatrix} 0.167 & -0.333 \\\\ 0.167 & 0.167 \\end{bmatrix}\n",
        " \\end{align}\n",
        " \n",
        "  - **Instance Normalization**\n",
        "  \\begin{align}\n",
        "     n_1, C_1&: \\quad\\frac{2*1}{4}=0.5\\\\\n",
        "     n_1, C_2&: \\quad\\frac{2*1}{4}=0.5\\\\\n",
        "     n_1, C_3&: \\quad\\frac{4*1}{4}=1\\\\\n",
        "     n_2, C_1&: \\quad\\frac{4*0.5}{4}=0.5\\\\\n",
        "     n_2, C_2&: \\quad\\frac{2*0.5}{4}=0.25\\\\\n",
        "     n_2, C_3&: \\quad\\frac{2*0.5}{4}=0.25\\\\\n",
        "     n_3, C_1&: \\quad\\frac{3*1 + 1*0.5}{4}=0.875\\\\\n",
        "     n_3, C_2&: \\quad\\frac{2*1 + 2*0.5}{4}=0.75\\\\\n",
        "     n_3, C_3&: \\quad\\frac{3*1 + 1*0.5}{4}=0.875\n",
        " \\end{align}\n",
        " \n",
        " Then, the output would be\n",
        " \\begin{align}\n",
        "     n=1&: \n",
        "     \\begin{bmatrix} -0.5 & 0.5 \\\\ 0.5 & -0.5 \\end{bmatrix}, \n",
        "     \\begin{bmatrix} 0.5 & -0.5 \\\\ -0.5 & 0.5 \\end{bmatrix}, \n",
        "     \\begin{bmatrix} 0 & 0 \\\\ 0 & 0 \\end{bmatrix}\\\\\n",
        "     n=2&: \n",
        "     \\begin{bmatrix} 0 & 0 \\\\ 0 & 0 \\end{bmatrix}, \n",
        "     \\begin{bmatrix} 0.25 & -0.25 \\\\ 0.25 & -0.25 \\end{bmatrix}, \n",
        "     \\begin{bmatrix} -0.25 & 0.25 \\\\ -0.25 & 0.25 \\end{bmatrix}\\\\\n",
        "     n=3&: \n",
        "     \\begin{bmatrix} 0.125 & 0.125 \\\\ 0.125 & -0.375 \\end{bmatrix}, \n",
        "     \\begin{bmatrix} -0.25 & 0.25 \\\\ -0.25 & 0.25 \\end{bmatrix}, \n",
        "     \\begin{bmatrix} 0.125 & -0.375 \\\\ 0.125 & 0.125 \\end{bmatrix}\n",
        " \\end{align}\n",
        " "
      ]
    },
    {
      "cell_type": "code",
      "metadata": {
        "id": "MEhXAhNASs-V"
      },
      "source": [
        "# imports for the practice (you can add more if you need)\n",
        "import numpy as np\n",
        "import matplotlib.pyplot as plt\n",
        "import time\n",
        "import os\n",
        "import math\n",
        "\n",
        "# pytorch\n",
        "import torch\n",
        "import torch.nn as nn"
      ],
      "execution_count": null,
      "outputs": []
    },
    {
      "cell_type": "code",
      "metadata": {
        "id": "uQEo5gMeSs-a",
        "outputId": "761f4683-c486-408d-bb5e-faa3acfc7bca"
      },
      "source": [
        "# verifying Question 2.3 hand computation with code\n",
        "x1 = np.array([[[0, 1], [1., 0]], [[1, 0], [0, 1]], [[1, 1], [1, 1]]], dtype=np.float)\n",
        "x2 = np.array([[[0.5, 0.5], [0.5, 0.5]], [[0.5, 0], [0.5, 0]], [[0, 0.5], [0, 0.5]]], dtype=np.float)\n",
        "x3 = np.array([[[1, 1], [1, 0.5]], [[0.5, 1], [0.5, 1]], [[1, 0.5], [1, 1]]], dtype=np.float)\n",
        "x = torch.from_numpy(np.array([x1, x2, x3])).float()\n",
        "y = x.transpose(1, 0)\n",
        "batch = nn.BatchNorm2d(3, affine=False, momentum=1)\n",
        "batch_out = batch(x)\n",
        "print(f'The BatchNorm2D values for all channels, C1, C2, C3 are {batch.running_mean}')"
      ],
      "execution_count": null,
      "outputs": [
        {
          "output_type": "stream",
          "text": [
            "The BatchNorm2D values for all channels, C1, C2, C3 are tensor([0.6250, 0.5000, 0.7083])\n"
          ],
          "name": "stdout"
        }
      ]
    },
    {
      "cell_type": "markdown",
      "metadata": {
        "id": "MefRg8cPSs-c"
      },
      "source": [
        "## <img src=\"https://img.icons8.com/clouds/100/000000/question-mark.png\" style=\"height:50px;display:inline\"> Question 3 -Batch Normalization\n",
        "---\n",
        "This question relates to lectures 8-9 (from slide 9):\n",
        "\n",
        "Prove that **without** regularization, BatchNorm **scale invariance** for parameters $\\mathbf{w}$ implies:\n",
        "1. $\\nabla \\mathcal{L}(\\mathbf{w})^T\\mathbf{w} = 0$\n",
        "2. And under gradient flow dynamics ($\\dot{\\mathbf{w}} = -\\eta \\nabla \\mathcal{L}(\\mathbf{w})$) this implies (L2) norm conservation: $\\forall t: ||\\mathbf{w}(t)||^2 = C$\n",
        "\n",
        "Hint: see results from the multilayer networks lecture."
      ]
    },
    {
      "cell_type": "markdown",
      "metadata": {
        "id": "7D-14iM7pGhm"
      },
      "source": [
        "### <img src=\"https://img.icons8.com/officel/80/000000/code.png\" style=\"height:50px;display:inline\"> Part 2 - Code Assignments\n",
        "---\n",
        "* You must write your code in this notebook and save it with the output of all of the code cells.\n",
        "* Additional text can be added in Markdown cells.\n",
        "* You can use any other IDE you like (PyCharm, VSCode...) to write/debug your code, but for the submission you must copy it to this notebook, run the code and save the notebook with the output."
      ]
    },
    {
      "cell_type": "code",
      "metadata": {
        "id": "MPCh65i1mAqq",
        "colab": {
          "base_uri": "https://localhost:8080/"
        },
        "outputId": "022577dd-d4e6-4f16-d3f0-46cc32d7b215"
      },
      "source": [
        "# Get Telegram alert to phone when training finishes\n",
        "!pip install python-telegram-bot"
      ],
      "execution_count": null,
      "outputs": [
        {
          "output_type": "stream",
          "text": [
            "Requirement already satisfied: python-telegram-bot in /usr/local/lib/python3.7/dist-packages (13.6)\n",
            "Requirement already satisfied: cachetools==4.2.2 in /usr/local/lib/python3.7/dist-packages (from python-telegram-bot) (4.2.2)\n",
            "Requirement already satisfied: APScheduler==3.6.3 in /usr/local/lib/python3.7/dist-packages (from python-telegram-bot) (3.6.3)\n",
            "Requirement already satisfied: pytz>=2018.6 in /usr/local/lib/python3.7/dist-packages (from python-telegram-bot) (2018.9)\n",
            "Requirement already satisfied: certifi in /usr/local/lib/python3.7/dist-packages (from python-telegram-bot) (2020.12.5)\n",
            "Requirement already satisfied: tornado>=6.1 in /usr/local/lib/python3.7/dist-packages (from python-telegram-bot) (6.1)\n",
            "Requirement already satisfied: six>=1.4.0 in /usr/local/lib/python3.7/dist-packages (from APScheduler==3.6.3->python-telegram-bot) (1.15.0)\n",
            "Requirement already satisfied: tzlocal>=1.2 in /usr/local/lib/python3.7/dist-packages (from APScheduler==3.6.3->python-telegram-bot) (1.5.1)\n",
            "Requirement already satisfied: setuptools>=0.7 in /usr/local/lib/python3.7/dist-packages (from APScheduler==3.6.3->python-telegram-bot) (57.0.0)\n"
          ],
          "name": "stdout"
        }
      ]
    },
    {
      "cell_type": "code",
      "metadata": {
        "colab": {
          "base_uri": "https://localhost:8080/"
        },
        "id": "u8-Im9sGmHWm",
        "outputId": "be2d3257-4040-4f6c-9e45-6c8712a8b391"
      },
      "source": [
        "# mount drive for bot id and tokens\n",
        "from google.colab import drive\n",
        "drive.mount('/content/gdrive')\n",
        "\n",
        "import json\n",
        "import telegram\n",
        "\n",
        "def send_message(message):\n",
        "    \"This function sends a message to telegram acount\"\n",
        "    with open('/content/gdrive/MyDrive/telegram_bot_key.txt', 'r') as keys_file:\n",
        "        k = json.load(keys_file)\n",
        "        token = k['telegram_token']\n",
        "        chat_id = k['telegram_chat_id']\n",
        "    bot = telegram.Bot(token=token)\n",
        "    bot.sendMessage(chat_id=chat_id, text=message)\n",
        "\n",
        "send_message('Telegram pinger is connected.')"
      ],
      "execution_count": null,
      "outputs": [
        {
          "output_type": "stream",
          "text": [
            "Drive already mounted at /content/gdrive; to attempt to forcibly remount, call drive.mount(\"/content/gdrive\", force_remount=True).\n"
          ],
          "name": "stdout"
        }
      ]
    },
    {
      "cell_type": "code",
      "metadata": {
        "colab": {
          "base_uri": "https://localhost:8080/"
        },
        "id": "cccAc_TowfrD",
        "outputId": "f321bc09-521e-487f-93b9-2a7f09cdc0e2"
      },
      "source": [
        "pip install optuna"
      ],
      "execution_count": null,
      "outputs": [
        {
          "output_type": "stream",
          "text": [
            "Collecting optuna\n",
            "\u001b[?25l  Downloading https://files.pythonhosted.org/packages/1a/18/b49ca91cf592747e19f2d333c2a86cd7c81895b922a5a09adf6335471576/optuna-2.8.0-py3-none-any.whl (301kB)\n",
            "\u001b[K     |████████████████████████████████| 307kB 12.5MB/s \n",
            "\u001b[?25hCollecting cliff\n",
            "\u001b[?25l  Downloading https://files.pythonhosted.org/packages/87/11/aea1cacbd4cf8262809c4d6f95dcb3f2802594de1f51c5bd454d69bf15c5/cliff-3.8.0-py3-none-any.whl (80kB)\n",
            "\u001b[K     |████████████████████████████████| 81kB 8.3MB/s \n",
            "\u001b[?25hRequirement already satisfied: sqlalchemy>=1.1.0 in /usr/local/lib/python3.7/dist-packages (from optuna) (1.4.15)\n",
            "Requirement already satisfied: packaging>=20.0 in /usr/local/lib/python3.7/dist-packages (from optuna) (20.9)\n",
            "Collecting alembic\n",
            "\u001b[?25l  Downloading https://files.pythonhosted.org/packages/d5/80/ef186e599a57d0e4cb78fc76e0bfc2e6953fa9716b2a5cf2de0117ed8eb5/alembic-1.6.5-py2.py3-none-any.whl (164kB)\n",
            "\u001b[K     |████████████████████████████████| 174kB 24.6MB/s \n",
            "\u001b[?25hCollecting cmaes>=0.8.2\n",
            "  Downloading https://files.pythonhosted.org/packages/01/1f/43b01223a0366171f474320c6e966c39a11587287f098a5f09809b45e05f/cmaes-0.8.2-py3-none-any.whl\n",
            "Collecting colorlog\n",
            "  Downloading https://files.pythonhosted.org/packages/32/e6/e9ddc6fa1104fda718338b341e4b3dc31cd8039ab29e52fc73b508515361/colorlog-5.0.1-py2.py3-none-any.whl\n",
            "Requirement already satisfied: numpy in /usr/local/lib/python3.7/dist-packages (from optuna) (1.19.5)\n",
            "Requirement already satisfied: scipy!=1.4.0 in /usr/local/lib/python3.7/dist-packages (from optuna) (1.4.1)\n",
            "Requirement already satisfied: tqdm in /usr/local/lib/python3.7/dist-packages (from optuna) (4.41.1)\n",
            "Requirement already satisfied: PyYAML>=3.12 in /usr/local/lib/python3.7/dist-packages (from cliff->optuna) (3.13)\n",
            "Collecting stevedore>=2.0.1\n",
            "\u001b[?25l  Downloading https://files.pythonhosted.org/packages/d4/49/b602307aeac3df3384ff1fcd05da9c0376c622a6c48bb5325f28ab165b57/stevedore-3.3.0-py3-none-any.whl (49kB)\n",
            "\u001b[K     |████████████████████████████████| 51kB 6.1MB/s \n",
            "\u001b[?25hRequirement already satisfied: PrettyTable>=0.7.2 in /usr/local/lib/python3.7/dist-packages (from cliff->optuna) (2.1.0)\n",
            "Collecting cmd2>=1.0.0\n",
            "\u001b[?25l  Downloading https://files.pythonhosted.org/packages/d1/06/ea782764035efa0633b6353202f3f86b7c390fe11d4dfd33af9b49344130/cmd2-2.0.1-py3-none-any.whl (139kB)\n",
            "\u001b[K     |████████████████████████████████| 143kB 23.9MB/s \n",
            "\u001b[?25hCollecting pbr!=2.1.0,>=2.0.0\n",
            "\u001b[?25l  Downloading https://files.pythonhosted.org/packages/18/e0/1d4702dd81121d04a477c272d47ee5b6bc970d1a0990b11befa275c55cf2/pbr-5.6.0-py2.py3-none-any.whl (111kB)\n",
            "\u001b[K     |████████████████████████████████| 112kB 26.4MB/s \n",
            "\u001b[?25hRequirement already satisfied: pyparsing>=2.1.0 in /usr/local/lib/python3.7/dist-packages (from cliff->optuna) (2.4.7)\n",
            "Requirement already satisfied: importlib-metadata; python_version < \"3.8\" in /usr/local/lib/python3.7/dist-packages (from sqlalchemy>=1.1.0->optuna) (4.0.1)\n",
            "Requirement already satisfied: greenlet!=0.4.17; python_version >= \"3\" in /usr/local/lib/python3.7/dist-packages (from sqlalchemy>=1.1.0->optuna) (1.1.0)\n",
            "Collecting Mako\n",
            "\u001b[?25l  Downloading https://files.pythonhosted.org/packages/f3/54/dbc07fbb20865d3b78fdb7cf7fa713e2cba4f87f71100074ef2dc9f9d1f7/Mako-1.1.4-py2.py3-none-any.whl (75kB)\n",
            "\u001b[K     |████████████████████████████████| 81kB 9.0MB/s \n",
            "\u001b[?25hCollecting python-editor>=0.3\n",
            "  Downloading https://files.pythonhosted.org/packages/c6/d3/201fc3abe391bbae6606e6f1d598c15d367033332bd54352b12f35513717/python_editor-1.0.4-py3-none-any.whl\n",
            "Requirement already satisfied: python-dateutil in /usr/local/lib/python3.7/dist-packages (from alembic->optuna) (2.8.1)\n",
            "Requirement already satisfied: wcwidth in /usr/local/lib/python3.7/dist-packages (from PrettyTable>=0.7.2->cliff->optuna) (0.2.5)\n",
            "Requirement already satisfied: typing-extensions; python_version < \"3.8\" in /usr/local/lib/python3.7/dist-packages (from cmd2>=1.0.0->cliff->optuna) (3.7.4.3)\n",
            "Collecting colorama>=0.3.7\n",
            "  Downloading https://files.pythonhosted.org/packages/44/98/5b86278fbbf250d239ae0ecb724f8572af1c91f4a11edf4d36a206189440/colorama-0.4.4-py2.py3-none-any.whl\n",
            "Requirement already satisfied: attrs>=16.3.0 in /usr/local/lib/python3.7/dist-packages (from cmd2>=1.0.0->cliff->optuna) (21.2.0)\n",
            "Collecting pyperclip>=1.6\n",
            "  Downloading https://files.pythonhosted.org/packages/a7/2c/4c64579f847bd5d539803c8b909e54ba087a79d01bb3aba433a95879a6c5/pyperclip-1.8.2.tar.gz\n",
            "Requirement already satisfied: zipp>=0.5 in /usr/local/lib/python3.7/dist-packages (from importlib-metadata; python_version < \"3.8\"->sqlalchemy>=1.1.0->optuna) (3.4.1)\n",
            "Requirement already satisfied: MarkupSafe>=0.9.2 in /usr/local/lib/python3.7/dist-packages (from Mako->alembic->optuna) (2.0.1)\n",
            "Requirement already satisfied: six>=1.5 in /usr/local/lib/python3.7/dist-packages (from python-dateutil->alembic->optuna) (1.15.0)\n",
            "Building wheels for collected packages: pyperclip\n",
            "  Building wheel for pyperclip (setup.py) ... \u001b[?25l\u001b[?25hdone\n",
            "  Created wheel for pyperclip: filename=pyperclip-1.8.2-cp37-none-any.whl size=11136 sha256=5b85ffb632831feb3255ce7840b6d13715fa6229bfb0f7e0ba31255884140225\n",
            "  Stored in directory: /root/.cache/pip/wheels/25/af/b8/3407109267803f4015e1ee2ff23be0c8c19ce4008665931ee1\n",
            "Successfully built pyperclip\n",
            "Installing collected packages: pbr, stevedore, colorama, pyperclip, cmd2, cliff, Mako, python-editor, alembic, cmaes, colorlog, optuna\n",
            "Successfully installed Mako-1.1.4 alembic-1.6.5 cliff-3.8.0 cmaes-0.8.2 cmd2-2.0.1 colorama-0.4.4 colorlog-5.0.1 optuna-2.8.0 pbr-5.6.0 pyperclip-1.8.2 python-editor-1.0.4 stevedore-3.3.0\n"
          ],
          "name": "stdout"
        }
      ]
    },
    {
      "cell_type": "code",
      "metadata": {
        "id": "SL_itYmqSs-c",
        "colab": {
          "base_uri": "https://localhost:8080/"
        },
        "outputId": "ef0df357-88bc-4053-eb22-4dcd229310e3"
      },
      "source": [
        "# imports for the practice (you can add more if you need)\n",
        "import numpy as np\n",
        "import matplotlib.pyplot as plt\n",
        "import time\n",
        "import os\n",
        "import math\n",
        "from tqdm.autonotebook import tqdm\n",
        "from IPython.display import HTML, display, clear_output\n",
        "\n",
        "# pytorch\n",
        "import torch\n",
        "import torch.nn as nn\n",
        "import torchtext\n",
        "import torchtext.legacy.data as data\n",
        "import torchtext.legacy.datasets as datasets\n",
        "import torch.nn.functional as f\n",
        "from torch.nn import TransformerEncoder, TransformerEncoderLayer\n",
        "import torch.optim as optim\n",
        "from collections import Counter\n",
        "from torchtext.vocab import Vocab\n",
        "\n",
        "# optuna\n",
        "import optuna\n",
        "\n",
        "seed = 211\n",
        "np.random.seed(seed)\n",
        "torch.manual_seed(seed)\n",
        "\n",
        "print(f'torch {torch.__version__}')\n",
        "print('Device properties:')\n",
        "if torch.cuda.is_available():\n",
        "    device = torch.device(\"cuda\")\n",
        "    gpu_data = torch.cuda.get_device_properties(0)\n",
        "    gpu_name = gpu_data.name\n",
        "    gpu_mem  = f'{gpu_data.total_memory * 1e-9:.02f} Gb'\n",
        "    print(f'GPU: {gpu_name}\\nMemory: {gpu_mem}')\n",
        "else:\n",
        "    device = torch.device(\"cpu\")\n",
        "    print('CPU')"
      ],
      "execution_count": null,
      "outputs": [
        {
          "output_type": "stream",
          "text": [
            "/usr/local/lib/python3.7/dist-packages/ipykernel_launcher.py:7: TqdmExperimentalWarning: Using `tqdm.autonotebook.tqdm` in notebook mode. Use `tqdm.tqdm` instead to force console mode (e.g. in jupyter console)\n",
            "  import sys\n"
          ],
          "name": "stderr"
        },
        {
          "output_type": "stream",
          "text": [
            "torch 1.8.1+cu101\n",
            "Device properties:\n",
            "GPU: Tesla K80\n",
            "Memory: 12.00 Gb\n"
          ],
          "name": "stdout"
        }
      ]
    },
    {
      "cell_type": "markdown",
      "metadata": {
        "id": "rdVJJPJLSs-d"
      },
      "source": [
        "## <img src=\"https://img.icons8.com/bubbles/50/000000/workflow.png\" style=\"height:50px;display:inline\">  Sequence-to-Sequence with Transformers\n",
        "---\n",
        "* In this exercise, you are going to build a language model using PyTroch's Transformer module.\n",
        "* We will work with the **Wikitext-2** dataset: the WikiText language modeling dataset is a collection of over 100 million tokens extracted from the set of verified Good and Featured articles on Wikipedia.\n",
        "* After training, you will be able to generate senetences!"
      ]
    },
    {
      "cell_type": "markdown",
      "metadata": {
        "id": "qGa6HDzdSs-d"
      },
      "source": [
        "### <img src=\"https://img.icons8.com/color/48/000000/code.png\" style=\"height:50px;display:inline\"> Task 1  - Loading and Observing the Data\n",
        "---\n",
        "1. Initialize a text `data.Field` using `data.utils.get_tokenizer(\"basic_english\")`, `<sos>` and `<eos>` as start and end tokens, and consider only lower case words (`lower=True`).\n",
        "2. Load the train, valid and test *texts* using `datasets.WikiText2.splits` with your text data field from (1).\n",
        "3. Build a vocabulary using only the train data.\n",
        "4. Create the train, valid and test data using the provided `batchify` function.\n",
        "5. Use the `batchify` function with `batch_size=20` to create a data loader. Print the shape of the result.\n",
        "6. Print 2 train samples. Use the vocabulary you built to transfer between tokens to words."
      ]
    },
    {
      "cell_type": "code",
      "metadata": {
        "id": "HEoSv8-wSs-d"
      },
      "source": [
        "def batchify(data, bsz, text_field):\n",
        "    data = text_field.numericalize([data.examples[0].text])\n",
        "    # Divide the dataset into bsz parts.\n",
        "    nbatch = data.size(0) // bsz\n",
        "    # Trim off any extra elements that wouldn't cleanly fit (remainders).\n",
        "    data = data.narrow(0, 0, nbatch * bsz)\n",
        "    # Evenly divide the data across the bsz batches.\n",
        "    data = data.view(bsz, -1).t().contiguous()\n",
        "    return data.to(device)"
      ],
      "execution_count": null,
      "outputs": []
    },
    {
      "cell_type": "code",
      "metadata": {
        "colab": {
          "base_uri": "https://localhost:8080/",
          "height": 368
        },
        "id": "EVdQGasD_tEg",
        "outputId": "96268fb4-3ac9-4efb-8001-3a61933022eb"
      },
      "source": [
        "\"\"\"\n",
        "Your Code Here\n",
        "\"\"\"\n",
        "# get tokenizer\n",
        "tokenizer = data.utils.get_tokenizer(\"basic_english\")\n",
        "\n",
        "# define the text field for the dataset\n",
        "text = data.Field(sequential=True,\n",
        "                  lower=True, \n",
        "                  tokenize=tokenizer,\n",
        "                  init_token='<sos>', \n",
        "                  eos_token='<eos>',\n",
        "                  dtype=torch.long)\n",
        "\n",
        "# download the WikiText2 dataset\n",
        "train_Wiki2, val_Wiki2, test_Wiki2 = datasets.WikiText2.splits(text_field=text)\n",
        "\n",
        "# create vocabulary\n",
        "text.build_vocab(train_Wiki2)\n",
        "vocab = text.vocab\n",
        "\n",
        "# split the data into batches\n",
        "batch_size = 20\n",
        "train_loader = batchify(train_Wiki2, batch_size, text)\n",
        "val_loader = batchify(val_Wiki2, batch_size, text)\n",
        "test_loader = batchify(test_Wiki2, batch_size, text)\n",
        "display(HTML('<h4>Data loaders shapes:</h4>'))\n",
        "print(f'The train dataset shape is: {train_loader.shape}')\n",
        "print(f'The validation dataset shape is: {val_loader.shape}')\n",
        "print(f'The test dataset shape is: {test_loader.shape}')\n",
        "\n",
        "# display data samples\n",
        "display(HTML('<h4>Display data samples:</h4>'))\n",
        "n_samples = 2\n",
        "for i in range(n_samples):\n",
        "    tokens = train_loader[i]\n",
        "    print(f'Sample {i}:')\n",
        "    print(f'Tokens: {list(tokens.cpu().numpy())}')\n",
        "    print(\"Text: \", \" \".join([vocab.itos[t] for t in tokens]))\n",
        "    print('\\n')\n",
        "\n"
      ],
      "execution_count": null,
      "outputs": [
        {
          "output_type": "stream",
          "text": [
            "downloading wikitext-2-v1.zip\n"
          ],
          "name": "stdout"
        },
        {
          "output_type": "stream",
          "text": [
            "wikitext-2-v1.zip: 100%|██████████| 4.48M/4.48M [00:00<00:00, 6.72MB/s]\n"
          ],
          "name": "stderr"
        },
        {
          "output_type": "stream",
          "text": [
            "extracting\n"
          ],
          "name": "stdout"
        },
        {
          "output_type": "display_data",
          "data": {
            "text/html": [
              "<h4>Data loaders shapes:</h4>"
            ],
            "text/plain": [
              "<IPython.core.display.HTML object>"
            ]
          },
          "metadata": {
            "tags": []
          }
        },
        {
          "output_type": "stream",
          "text": [
            "The train dataset shape is: torch.Size([104335, 20])\n",
            "The validation dataset shape is: torch.Size([10908, 20])\n",
            "The test dataset shape is: torch.Size([12310, 20])\n"
          ],
          "name": "stdout"
        },
        {
          "output_type": "display_data",
          "data": {
            "text/html": [
              "<h4>Display data samples:</h4>"
            ],
            "text/plain": [
              "<IPython.core.display.HTML object>"
            ]
          },
          "metadata": {
            "tags": []
          }
        },
        {
          "output_type": "stream",
          "text": [
            "Sample 0:\n",
            "Tokens: [3, 25, 1849, 570, 7, 5, 5, 9258, 4, 56, 0, 7, 6, 6634, 4, 6603, 6, 5, 65, 30]\n",
            "Text:  <eos> @ settlement heavy of , , lined the she <unk> of . interception the dried . , would his\n",
            "\n",
            "\n",
            "Sample 1:\n",
            "Tokens: [12, 66, 13, 4889, 458, 8, 1045, 21, 19094, 34, 147, 4, 0, 10, 2280, 2294, 58, 35, 2438, 4064]\n",
            "Text:  = 1 was rains ireland and starting with hairy had found the <unk> to possibility heads other which receive gift\n",
            "\n",
            "\n"
          ],
          "name": "stdout"
        }
      ]
    },
    {
      "cell_type": "markdown",
      "metadata": {
        "id": "lRfhYBV6Ss-e"
      },
      "source": [
        "### <img src=\"https://img.icons8.com/color/48/000000/code.png\" style=\"height:50px;display:inline\"> Task 2  - Preparing the  Data - Separating to Inputs and Targets\n",
        "---\n",
        "* For a language modeling task, the model needs the following words as `Target`.\n",
        "    * For example, for the senetence \"I have a nice dog\", the model will be given \"I have a\" as input, and \"nice dog\" as the target.\n",
        "* Implement (complete) the function `get_batch(source, i, bptt)`: it generates the input and target sequence for the transformer model. It subdivides the source data into chunks of length `bptt`.\n",
        "    * For example, for `bptt=2` and at `i=0`, the output of `data, target = get_batch(train_data, i=0, bptt=2)`: `data` will be of shape (2, 20), where the batch size is 20 and `target` will be of length 40 (the target for each element is two words, but we flatten `target`).\n",
        "    * Print a sample from `data` and `target`"
      ]
    },
    {
      "cell_type": "code",
      "metadata": {
        "id": "5fwmJAO6Ss-e",
        "colab": {
          "base_uri": "https://localhost:8080/"
        },
        "outputId": "9b91b987-4eba-4e00-f776-1c7e5dc58303"
      },
      "source": [
        "\"\"\"\n",
        "Your Code Here\n",
        "\"\"\"\n",
        "def get_batch(source, i, bptt):\n",
        "    seq_len = min(bptt, len(source) - 1 - i)\n",
        "    data = source[i:i + seq_len]\n",
        "    target = source[i + 1:i + 1 + seq_len].view(-1)\n",
        "    return data, target\n",
        "\n",
        "data, target = get_batch(train_loader, i=0, bptt=2)\n",
        "print(f'The data shape {data.cpu().numpy().shape}, The target shape {target.cpu().numpy().shape}\\n')\n",
        "print(f\"Data:\\n {data.cpu().numpy()}\\n\")\n",
        "print(f\"Target:\\n {target.cpu().numpy()}\")"
      ],
      "execution_count": null,
      "outputs": [
        {
          "output_type": "stream",
          "text": [
            "The data shape (2, 20), The target shape (40,)\n",
            "\n",
            "Data:\n",
            " [[    3    25  1849   570     7     5     5  9258     4    56     0     7\n",
            "      6  6634     4  6603     6     5    65    30]\n",
            " [   12    66    13  4889   458     8  1045    21 19094    34   147     4\n",
            "      0    10  2280  2294    58    35  2438  4064]]\n",
            "\n",
            "Target:\n",
            " [   12    66    13  4889   458     8  1045    21 19094    34   147     4\n",
            "     0    10  2280  2294    58    35  2438  4064  3852 13667  2962    68\n",
            "     6 28374    39   417     0  2034    29    88 27804   350     7    17\n",
            "  4811   902    33    20]\n"
          ],
          "name": "stdout"
        }
      ]
    },
    {
      "cell_type": "markdown",
      "metadata": {
        "id": "760tslmbSs-e"
      },
      "source": [
        "### <img src=\"https://img.icons8.com/color/48/000000/code.png\" style=\"height:50px;display:inline\"> Task 3  - Define Hyperparameters and Initialize the Model\n",
        "---\n",
        "* Define the following hyperparameters (`[a, b]` means in the range between `a` and `b`):\n",
        "    * Embedding size: choose from `[200, 250]`\n",
        "    * Number of hidden units: choose from `[200, 250]`\n",
        "    * Number of layers: choose from `[2, 4]`\n",
        "    * Number of attention heads: choose from `[2, 4]`\n",
        "    * Dropout: choose from `[0.0, 0.3]`\n",
        "    * Loss criterion: `nn.CrossEntropyLoss()`\n",
        "    * Optimizer: choose from `[SGD, Adam]`\n",
        "    * Learning rate: choose from `[5e-3, 5.0]`\n",
        "    * Learning Scheduler: `torch.optim.lr_scheduler.StepLR(optimizer, 1.0, gamma=0.95)`\n",
        "* Intialize an instance of `TransformerModel` (given) and send it to `device`. Note that you need to give it the number of tokens to define the output of the decoder. You should use the number of tokens in the vocabulary. Print the number of tokens,  print **all** the chosen hyper-parameters and print the model (`print(model`)."
      ]
    },
    {
      "cell_type": "code",
      "metadata": {
        "id": "S441OcJBSs-e"
      },
      "source": [
        "class PositionalEncoding(nn.Module):\n",
        "\n",
        "    def __init__(self, d_model, dropout=0.1, max_len=5000):\n",
        "        super(PositionalEncoding, self).__init__()\n",
        "        self.dropout = nn.Dropout(p=dropout)\n",
        "\n",
        "        pe = torch.zeros(max_len, d_model)\n",
        "        position = torch.arange(0, max_len, dtype=torch.float).unsqueeze(1)\n",
        "        div_term = torch.exp(torch.arange(0, d_model, 2).float() * (-math.log(10000.0) / d_model))\n",
        "        pe[:, 0::2] = torch.sin(position * div_term)\n",
        "        pe[:, 1::2] = torch.cos(position * div_term)\n",
        "        pe = pe.unsqueeze(0).transpose(0, 1)\n",
        "        self.register_buffer('pe', pe)\n",
        "\n",
        "    def forward(self, x):\n",
        "        x = x + self.pe[:x.size(0), :]\n",
        "        return self.dropout(x)\n",
        "    \n",
        "class TransformerModel(nn.Module):\n",
        "\n",
        "    def __init__(self, ntoken, ninp, nhead, nhid, nlayers, dropout=0.5):\n",
        "        super(TransformerModel, self).__init__()\n",
        "        self.pos_encoder = PositionalEncoding(ninp, dropout)\n",
        "        encoder_layers = TransformerEncoderLayer(ninp, nhead, nhid, dropout)\n",
        "        self.transformer_encoder = TransformerEncoder(encoder_layers, nlayers)\n",
        "        self.encoder = nn.Embedding(ntoken, ninp)\n",
        "        self.ninp = ninp\n",
        "        self.decoder = nn.Linear(ninp, ntoken)\n",
        "\n",
        "        self.init_weights()\n",
        "\n",
        "    def generate_square_subsequent_mask(self, sz):\n",
        "        mask = (torch.triu(torch.ones(sz, sz)) == 1).transpose(0, 1)\n",
        "        mask = mask.float().masked_fill(mask == 0, float('-inf')).masked_fill(mask == 1, float(0.0))\n",
        "        return mask\n",
        "\n",
        "    def init_weights(self):\n",
        "        initrange = 0.1\n",
        "        self.encoder.weight.data.uniform_(-initrange, initrange)\n",
        "        self.decoder.bias.data.zero_()\n",
        "        self.decoder.weight.data.uniform_(-initrange, initrange)\n",
        "\n",
        "    def forward(self, src, src_mask):\n",
        "        src = self.encoder(src) * math.sqrt(self.ninp)\n",
        "        src = self.pos_encoder(src)\n",
        "        output = self.transformer_encoder(src, src_mask)\n",
        "        output = self.decoder(output)\n",
        "        return output"
      ],
      "execution_count": null,
      "outputs": []
    },
    {
      "cell_type": "code",
      "metadata": {
        "id": "6KsdV-MQSs-f",
        "colab": {
          "base_uri": "https://localhost:8080/",
          "height": 1000
        },
        "outputId": "5b89f067-b589-424c-a249-beb35e67e293"
      },
      "source": [
        "\"\"\"\n",
        "Your Code Here\n",
        "\"\"\"\n",
        "\n",
        "## The best Optuna results from the fine optimization process \n",
        "## at the buttom of the notebook.\n",
        "\"\"\"\n",
        "Study statistics: \n",
        "  Number of finished trials:  40\n",
        "  Number of pruned trials:  24\n",
        "  Number of complete trials:  16\n",
        "Best trial:\n",
        "  Value:  4.999077273145259\n",
        "  Params: \n",
        "    emsize: 240\n",
        "    lr: 2.9532273669338855\n",
        "    nlayers: 3\n",
        "    nhid: 214\n",
        "    nhead: 2\n",
        "    dropout: 0.0679924404226665\n",
        "    step_decay: 3\n",
        "    gamma: 0.11387398408524015\n",
        "\"\"\"\n",
        "\n",
        "# Hyperparameters\n",
        "emsize = 240              # embbeding size\n",
        "ntokens = len(vocab.stoi) # the size of vocabulary\n",
        "lr = 2.95                  # learning rate\n",
        "nlayers = 3               # number of layers\n",
        "nhid = 214                # number of hidden units\n",
        "nhead = 2                 # number of Attention heads\n",
        "dropout = 0.068             # dropout probability\n",
        "step_decay = 4          # Period of learning rate decay\n",
        "gamma = 0.514              # decay value for learning rate\n",
        "\n",
        "display(HTML('<h4>The Model Hyperparameters:</h4>'))\n",
        "print(f'Number of tokens in the vocabulary: {ntokens}')\n",
        "print(f'Embedding size: {emsize}')\n",
        "print(f'Number of Attention heads: {nhead}')\n",
        "print(f'Number of hidden uints: {nhid}')\n",
        "print(f'Number of layers: {nlayers}')\n",
        "print(f'Dropout: {dropout}')\n",
        "print(f'Step decay for learning rate: {step_decay}')\n",
        "print(f'Learning rate: {lr}')\n",
        "print(f'Decay value for learning rate: {gamma}')\n",
        "\n",
        "\n",
        "\n",
        "criterion = nn.CrossEntropyLoss()\n",
        "model = TransformerModel(ntokens, emsize, nhead, nhid, nlayers, dropout).to(device)\n",
        "optimizer = torch.optim.SGD(model.parameters(), lr=lr)\n",
        "scheduler = torch.optim.lr_scheduler.StepLR(optimizer, step_decay, gamma=gamma)\n",
        "\n",
        "display(HTML('<h4>The Model:</h4>'))\n",
        "print(model)"
      ],
      "execution_count": null,
      "outputs": [
        {
          "output_type": "display_data",
          "data": {
            "text/html": [
              "<h4>The Model Hyperparameters:</h4>"
            ],
            "text/plain": [
              "<IPython.core.display.HTML object>"
            ]
          },
          "metadata": {
            "tags": []
          }
        },
        {
          "output_type": "stream",
          "text": [
            "Number of tokens in the vocabulary: 28785\n",
            "Embedding size: 240\n",
            "Number of Attention heads: 2\n",
            "Number of hidden uints: 214\n",
            "Number of layers: 3\n",
            "Dropout: 0.068\n",
            "Step decay for learning rate: 4\n",
            "Learning rate: 2.95\n",
            "Decay value for learning rate: 0.514\n"
          ],
          "name": "stdout"
        },
        {
          "output_type": "display_data",
          "data": {
            "text/html": [
              "<h4>The Model:</h4>"
            ],
            "text/plain": [
              "<IPython.core.display.HTML object>"
            ]
          },
          "metadata": {
            "tags": []
          }
        },
        {
          "output_type": "stream",
          "text": [
            "TransformerModel(\n",
            "  (pos_encoder): PositionalEncoding(\n",
            "    (dropout): Dropout(p=0.068, inplace=False)\n",
            "  )\n",
            "  (transformer_encoder): TransformerEncoder(\n",
            "    (layers): ModuleList(\n",
            "      (0): TransformerEncoderLayer(\n",
            "        (self_attn): MultiheadAttention(\n",
            "          (out_proj): _LinearWithBias(in_features=240, out_features=240, bias=True)\n",
            "        )\n",
            "        (linear1): Linear(in_features=240, out_features=214, bias=True)\n",
            "        (dropout): Dropout(p=0.068, inplace=False)\n",
            "        (linear2): Linear(in_features=214, out_features=240, bias=True)\n",
            "        (norm1): LayerNorm((240,), eps=1e-05, elementwise_affine=True)\n",
            "        (norm2): LayerNorm((240,), eps=1e-05, elementwise_affine=True)\n",
            "        (dropout1): Dropout(p=0.068, inplace=False)\n",
            "        (dropout2): Dropout(p=0.068, inplace=False)\n",
            "      )\n",
            "      (1): TransformerEncoderLayer(\n",
            "        (self_attn): MultiheadAttention(\n",
            "          (out_proj): _LinearWithBias(in_features=240, out_features=240, bias=True)\n",
            "        )\n",
            "        (linear1): Linear(in_features=240, out_features=214, bias=True)\n",
            "        (dropout): Dropout(p=0.068, inplace=False)\n",
            "        (linear2): Linear(in_features=214, out_features=240, bias=True)\n",
            "        (norm1): LayerNorm((240,), eps=1e-05, elementwise_affine=True)\n",
            "        (norm2): LayerNorm((240,), eps=1e-05, elementwise_affine=True)\n",
            "        (dropout1): Dropout(p=0.068, inplace=False)\n",
            "        (dropout2): Dropout(p=0.068, inplace=False)\n",
            "      )\n",
            "      (2): TransformerEncoderLayer(\n",
            "        (self_attn): MultiheadAttention(\n",
            "          (out_proj): _LinearWithBias(in_features=240, out_features=240, bias=True)\n",
            "        )\n",
            "        (linear1): Linear(in_features=240, out_features=214, bias=True)\n",
            "        (dropout): Dropout(p=0.068, inplace=False)\n",
            "        (linear2): Linear(in_features=214, out_features=240, bias=True)\n",
            "        (norm1): LayerNorm((240,), eps=1e-05, elementwise_affine=True)\n",
            "        (norm2): LayerNorm((240,), eps=1e-05, elementwise_affine=True)\n",
            "        (dropout1): Dropout(p=0.068, inplace=False)\n",
            "        (dropout2): Dropout(p=0.068, inplace=False)\n",
            "      )\n",
            "    )\n",
            "  )\n",
            "  (encoder): Embedding(28785, 240)\n",
            "  (decoder): Linear(in_features=240, out_features=28785, bias=True)\n",
            ")\n"
          ],
          "name": "stdout"
        }
      ]
    },
    {
      "cell_type": "markdown",
      "metadata": {
        "id": "afwPxELLSs-f"
      },
      "source": [
        "### <img src=\"https://img.icons8.com/color/48/000000/code.png\" style=\"height:50px;display:inline\"> Task 4  - Train and Evaluate the Language Model\n",
        "---\n",
        "* Fill in the missing line in the training code and train the model.\n",
        "* Use `bptt=35`.\n",
        "* Use the provided function to evaluate it on the validatation set (after each epoch) and on test test (after training is done). **Print and plot** the results (loss and perplexity).\n",
        "* If you see that the performance does not improve, go back to Task 3 and re-think you hyper-parameters."
      ]
    },
    {
      "cell_type": "code",
      "metadata": {
        "id": "HHvVYhc0Ss-f"
      },
      "source": [
        "def evaluate(eval_model, data_source):\n",
        "    eval_model.eval() # Turn on the evaluation mode\n",
        "    total_loss = 0.\n",
        "    ntokens = len(vocab.stoi)\n",
        "    src_mask = model.generate_square_subsequent_mask(bptt).to(device)\n",
        "    with torch.no_grad():\n",
        "        for i in range(0, data_source.size(0) - 1, bptt):\n",
        "            data, targets = get_batch(data_source, i, bptt)\n",
        "            if data.size(0) != bptt:\n",
        "                src_mask = model.generate_square_subsequent_mask(data.size(0)).to(device)\n",
        "            output = eval_model(data, src_mask)\n",
        "            output_flat = output.view(-1, ntokens)\n",
        "            total_loss += len(data) * criterion(output_flat, targets).item()\n",
        "    return total_loss / (len(data_source) - 1)"
      ],
      "execution_count": null,
      "outputs": []
    },
    {
      "cell_type": "code",
      "metadata": {
        "id": "rvW6NQFOSs-f"
      },
      "source": [
        "\"\"\"\n",
        "Your Code Here\n",
        "\"\"\"\n",
        "def train(bptt, logger):\n",
        "    model.train() # Turn on the train mode\n",
        "    total_loss = 0.\n",
        "    epoch_total_loss = 0.\n",
        "    counter = 0\n",
        "    start_time = time.time()\n",
        "    ntokens =  len(vocab.stoi) #complete\n",
        "    src_mask = model.generate_square_subsequent_mask(bptt).to(device)\n",
        "    for batch, i in enumerate(range(0, train_loader.size(0) - 1, bptt)):\n",
        "        data, targets = get_batch(train_loader, i, bptt)\n",
        "        \n",
        "        if data.size(0) != bptt:\n",
        "            src_mask = model.generate_square_subsequent_mask(data.size(0)).to(device)\n",
        "            \n",
        "        output = model(data, src_mask) # complete\n",
        "        loss = criterion(output.view(-1, ntokens), targets) # complete\n",
        "        \n",
        "        optimizer.zero_grad()\n",
        "        loss.backward()\n",
        "        torch.nn.utils.clip_grad_norm_(model.parameters(), 0.5)\n",
        "        optimizer.step()\n",
        "\n",
        "        total_loss += loss.item()\n",
        "        log_interval = 200\n",
        "        if batch % log_interval == 0 and batch > 0:\n",
        "            cur_loss = total_loss / log_interval\n",
        "            epoch_total_loss += cur_loss\n",
        "            counter += 1\n",
        "            elapsed = time.time() - start_time\n",
        "            print('| epoch {:3d} | {:5d}/{:5d} batches | '\n",
        "                  'lr {:02.2f} | ms/batch {:5.2f} | '\n",
        "                  'loss {:5.2f} | ppl {:8.2f}'.format(\n",
        "                    epoch, batch, len(train_loader) // bptt, scheduler.get_last_lr()[0],\n",
        "                    elapsed * 1000 / log_interval,\n",
        "                    cur_loss, math.exp(cur_loss)))\n",
        "            total_loss = 0\n",
        "            start_time = time.time()\n",
        "    logger['train_loss'].append(epoch_total_loss / counter)"
      ],
      "execution_count": null,
      "outputs": []
    },
    {
      "cell_type": "code",
      "metadata": {
        "colab": {
          "base_uri": "https://localhost:8080/"
        },
        "id": "qm2OoFVV1I7q",
        "outputId": "9d653086-859b-49b0-a8d5-47e3d453ea3a"
      },
      "source": [
        "CHECKPOINT_DIR = '/content/gdrive/MyDrive/Checkpoints'\n",
        "MODEL_NAME = 'LM_Transformer'\n",
        "\n",
        "# create checkpoint directory to save model results\n",
        "if not os.path.isdir(CHECKPOINT_DIR):\n",
        "    os.mkdir(CHECKPOINT_DIR)\n",
        "\n",
        "best_val_loss = float(\"inf\")\n",
        "epochs = 30\n",
        "best_model = None\n",
        "bptt=35\n",
        "logger = {'train_loss': [], \n",
        "          'val_loss': [], \n",
        "          'epochs': []}\n",
        "\n",
        "for epoch in range(1, epochs + 1):\n",
        "    epoch_start_time = time.time()\n",
        "    train(bptt=bptt, logger=logger)\n",
        "    val_loss = evaluate(model, val_loader)\n",
        "    logger['val_loss'].append(val_loss)\n",
        "    logger['epochs'].append(epoch)\n",
        "    print('-' * 89)\n",
        "    print('| end of epoch {:3d} | time: {:5.2f}s | valid loss {:5.2f} | '\n",
        "          'valid ppl {:8.2f}'.format(epoch, (time.time() - epoch_start_time),\n",
        "                                     val_loss, math.exp(val_loss)))\n",
        "    print('-' * 89)\n",
        "\n",
        "    if val_loss < best_val_loss:\n",
        "        best_val_loss = val_loss\n",
        "        best_model = model\n",
        "        \n",
        "        # save the model\n",
        "        state = {\n",
        "            'model': best_model.state_dict(),\n",
        "            'epoch': epoch,\n",
        "            'val_loss': val_loss,\n",
        "            'bptt': bptt,\n",
        "            'ntokens': ntokens, \n",
        "            'emsize': emsize, \n",
        "            'nhead': nhead, \n",
        "            'nhid': nhid, \n",
        "            'nlayers': nlayers, \n",
        "            'dropout': dropout,\n",
        "            'logger': logger\n",
        "        }\n",
        "        torch.save(state, f'{CHECKPOINT_DIR}/{MODEL_NAME}_{epoch}.pth')\n",
        "        print('-' * 89)\n",
        "        print('| Model was saved |')\n",
        "        print('-' * 89)\n",
        "\n",
        "    scheduler.step()\n",
        "\n",
        "# send a message to my phone when training is done\n",
        "send_message('The training process of the LM_transformer is done.')"
      ],
      "execution_count": null,
      "outputs": [
        {
          "output_type": "stream",
          "text": [
            "| epoch   1 |   200/ 2981 batches | lr 2.95 | ms/batch 42.77 | loss  7.65 | ppl  2096.47\n",
            "| epoch   1 |   400/ 2981 batches | lr 2.95 | ms/batch 42.00 | loss  6.65 | ppl   776.40\n",
            "| epoch   1 |   600/ 2981 batches | lr 2.95 | ms/batch 41.99 | loss  6.26 | ppl   524.43\n",
            "| epoch   1 |   800/ 2981 batches | lr 2.95 | ms/batch 41.99 | loss  6.13 | ppl   459.63\n",
            "| epoch   1 |  1000/ 2981 batches | lr 2.95 | ms/batch 41.94 | loss  6.00 | ppl   402.89\n",
            "| epoch   1 |  1200/ 2981 batches | lr 2.95 | ms/batch 42.02 | loss  5.95 | ppl   382.11\n",
            "| epoch   1 |  1400/ 2981 batches | lr 2.95 | ms/batch 42.02 | loss  5.88 | ppl   358.23\n",
            "| epoch   1 |  1600/ 2981 batches | lr 2.95 | ms/batch 41.99 | loss  5.88 | ppl   359.09\n",
            "| epoch   1 |  1800/ 2981 batches | lr 2.95 | ms/batch 41.97 | loss  5.77 | ppl   320.49\n",
            "| epoch   1 |  2000/ 2981 batches | lr 2.95 | ms/batch 41.89 | loss  5.76 | ppl   316.01\n",
            "| epoch   1 |  2200/ 2981 batches | lr 2.95 | ms/batch 41.90 | loss  5.63 | ppl   277.48\n",
            "| epoch   1 |  2400/ 2981 batches | lr 2.95 | ms/batch 41.90 | loss  5.67 | ppl   290.94\n",
            "| epoch   1 |  2600/ 2981 batches | lr 2.95 | ms/batch 41.93 | loss  5.67 | ppl   289.27\n",
            "| epoch   1 |  2800/ 2981 batches | lr 2.95 | ms/batch 41.82 | loss  5.56 | ppl   260.14\n",
            "-----------------------------------------------------------------------------------------\n",
            "| end of epoch   1 | time: 129.25s | valid loss  5.52 | valid ppl   250.58\n",
            "-----------------------------------------------------------------------------------------\n",
            "-----------------------------------------------------------------------------------------\n",
            "| Model was saved |\n",
            "-----------------------------------------------------------------------------------------\n",
            "| epoch   2 |   200/ 2981 batches | lr 2.95 | ms/batch 42.07 | loss  5.54 | ppl   255.12\n",
            "| epoch   2 |   400/ 2981 batches | lr 2.95 | ms/batch 42.03 | loss  5.52 | ppl   250.29\n",
            "| epoch   2 |   600/ 2981 batches | lr 2.95 | ms/batch 41.86 | loss  5.31 | ppl   202.09\n",
            "| epoch   2 |   800/ 2981 batches | lr 2.95 | ms/batch 41.89 | loss  5.34 | ppl   209.14\n",
            "| epoch   2 |  1000/ 2981 batches | lr 2.95 | ms/batch 41.84 | loss  5.28 | ppl   196.88\n",
            "| epoch   2 |  1200/ 2981 batches | lr 2.95 | ms/batch 41.95 | loss  5.30 | ppl   201.16\n",
            "| epoch   2 |  1400/ 2981 batches | lr 2.95 | ms/batch 41.89 | loss  5.32 | ppl   203.40\n",
            "| epoch   2 |  1600/ 2981 batches | lr 2.95 | ms/batch 41.84 | loss  5.36 | ppl   212.46\n",
            "| epoch   2 |  1800/ 2981 batches | lr 2.95 | ms/batch 41.86 | loss  5.27 | ppl   193.55\n",
            "| epoch   2 |  2000/ 2981 batches | lr 2.95 | ms/batch 41.83 | loss  5.28 | ppl   196.37\n",
            "| epoch   2 |  2200/ 2981 batches | lr 2.95 | ms/batch 41.91 | loss  5.15 | ppl   172.59\n",
            "| epoch   2 |  2400/ 2981 batches | lr 2.95 | ms/batch 41.93 | loss  5.23 | ppl   186.61\n",
            "| epoch   2 |  2600/ 2981 batches | lr 2.95 | ms/batch 41.82 | loss  5.24 | ppl   188.56\n",
            "| epoch   2 |  2800/ 2981 batches | lr 2.95 | ms/batch 41.78 | loss  5.15 | ppl   173.15\n",
            "-----------------------------------------------------------------------------------------\n",
            "| end of epoch   2 | time: 128.89s | valid loss  5.31 | valid ppl   202.64\n",
            "-----------------------------------------------------------------------------------------\n",
            "-----------------------------------------------------------------------------------------\n",
            "| Model was saved |\n",
            "-----------------------------------------------------------------------------------------\n",
            "| epoch   3 |   200/ 2981 batches | lr 2.95 | ms/batch 42.09 | loss  5.18 | ppl   177.69\n",
            "| epoch   3 |   400/ 2981 batches | lr 2.95 | ms/batch 42.13 | loss  5.19 | ppl   179.81\n",
            "| epoch   3 |   600/ 2981 batches | lr 2.95 | ms/batch 41.94 | loss  4.96 | ppl   142.86\n",
            "| epoch   3 |   800/ 2981 batches | lr 2.95 | ms/batch 41.80 | loss  5.02 | ppl   151.22\n",
            "| epoch   3 |  1000/ 2981 batches | lr 2.95 | ms/batch 41.80 | loss  4.98 | ppl   145.25\n",
            "| epoch   3 |  1200/ 2981 batches | lr 2.95 | ms/batch 41.79 | loss  5.01 | ppl   149.30\n",
            "| epoch   3 |  1400/ 2981 batches | lr 2.95 | ms/batch 41.85 | loss  5.04 | ppl   154.70\n",
            "| epoch   3 |  1600/ 2981 batches | lr 2.95 | ms/batch 41.77 | loss  5.09 | ppl   162.82\n",
            "| epoch   3 |  1800/ 2981 batches | lr 2.95 | ms/batch 41.76 | loss  5.00 | ppl   149.08\n",
            "| epoch   3 |  2000/ 2981 batches | lr 2.95 | ms/batch 41.72 | loss  5.02 | ppl   151.74\n",
            "| epoch   3 |  2200/ 2981 batches | lr 2.95 | ms/batch 41.88 | loss  4.89 | ppl   132.34\n",
            "| epoch   3 |  2400/ 2981 batches | lr 2.95 | ms/batch 41.87 | loss  4.97 | ppl   144.53\n",
            "| epoch   3 |  2600/ 2981 batches | lr 2.95 | ms/batch 41.86 | loss  4.99 | ppl   147.23\n",
            "| epoch   3 |  2800/ 2981 batches | lr 2.95 | ms/batch 41.86 | loss  4.92 | ppl   136.39\n",
            "-----------------------------------------------------------------------------------------\n",
            "| end of epoch   3 | time: 128.83s | valid loss  5.29 | valid ppl   197.93\n",
            "-----------------------------------------------------------------------------------------\n",
            "-----------------------------------------------------------------------------------------\n",
            "| Model was saved |\n",
            "-----------------------------------------------------------------------------------------\n",
            "| epoch   4 |   200/ 2981 batches | lr 2.95 | ms/batch 42.11 | loss  4.95 | ppl   141.09\n",
            "| epoch   4 |   400/ 2981 batches | lr 2.95 | ms/batch 41.97 | loss  4.97 | ppl   143.35\n",
            "| epoch   4 |   600/ 2981 batches | lr 2.95 | ms/batch 41.94 | loss  4.75 | ppl   115.45\n",
            "| epoch   4 |   800/ 2981 batches | lr 2.95 | ms/batch 41.88 | loss  4.80 | ppl   122.04\n",
            "| epoch   4 |  1000/ 2981 batches | lr 2.95 | ms/batch 41.79 | loss  4.77 | ppl   118.08\n",
            "| epoch   4 |  1200/ 2981 batches | lr 2.95 | ms/batch 41.92 | loss  4.80 | ppl   121.04\n",
            "| epoch   4 |  1400/ 2981 batches | lr 2.95 | ms/batch 41.78 | loss  4.84 | ppl   126.58\n",
            "| epoch   4 |  1600/ 2981 batches | lr 2.95 | ms/batch 41.83 | loss  4.90 | ppl   134.64\n",
            "| epoch   4 |  1800/ 2981 batches | lr 2.95 | ms/batch 41.80 | loss  4.82 | ppl   123.53\n",
            "| epoch   4 |  2000/ 2981 batches | lr 2.95 | ms/batch 41.82 | loss  4.83 | ppl   125.51\n",
            "| epoch   4 |  2200/ 2981 batches | lr 2.95 | ms/batch 41.79 | loss  4.69 | ppl   108.70\n",
            "| epoch   4 |  2400/ 2981 batches | lr 2.95 | ms/batch 41.81 | loss  4.79 | ppl   119.88\n",
            "| epoch   4 |  2600/ 2981 batches | lr 2.95 | ms/batch 41.74 | loss  4.81 | ppl   123.34\n",
            "| epoch   4 |  2800/ 2981 batches | lr 2.95 | ms/batch 41.86 | loss  4.74 | ppl   114.12\n",
            "-----------------------------------------------------------------------------------------\n",
            "| end of epoch   4 | time: 128.79s | valid loss  5.24 | valid ppl   189.12\n",
            "-----------------------------------------------------------------------------------------\n",
            "-----------------------------------------------------------------------------------------\n",
            "| Model was saved |\n",
            "-----------------------------------------------------------------------------------------\n",
            "| epoch   5 |   200/ 2981 batches | lr 1.52 | ms/batch 42.01 | loss  4.71 | ppl   111.42\n",
            "| epoch   5 |   400/ 2981 batches | lr 1.52 | ms/batch 42.04 | loss  4.71 | ppl   111.35\n",
            "| epoch   5 |   600/ 2981 batches | lr 1.52 | ms/batch 41.82 | loss  4.48 | ppl    88.53\n",
            "| epoch   5 |   800/ 2981 batches | lr 1.52 | ms/batch 41.83 | loss  4.54 | ppl    93.28\n",
            "| epoch   5 |  1000/ 2981 batches | lr 1.52 | ms/batch 41.81 | loss  4.49 | ppl    89.40\n",
            "| epoch   5 |  1200/ 2981 batches | lr 1.52 | ms/batch 41.80 | loss  4.52 | ppl    91.69\n",
            "| epoch   5 |  1400/ 2981 batches | lr 1.52 | ms/batch 41.87 | loss  4.55 | ppl    94.73\n",
            "| epoch   5 |  1600/ 2981 batches | lr 1.52 | ms/batch 41.85 | loss  4.61 | ppl   100.05\n",
            "| epoch   5 |  1800/ 2981 batches | lr 1.52 | ms/batch 41.81 | loss  4.52 | ppl    91.91\n",
            "| epoch   5 |  2000/ 2981 batches | lr 1.52 | ms/batch 41.84 | loss  4.53 | ppl    92.47\n",
            "| epoch   5 |  2200/ 2981 batches | lr 1.52 | ms/batch 41.87 | loss  4.37 | ppl    79.21\n",
            "| epoch   5 |  2400/ 2981 batches | lr 1.52 | ms/batch 41.83 | loss  4.46 | ppl    86.31\n",
            "| epoch   5 |  2600/ 2981 batches | lr 1.52 | ms/batch 41.84 | loss  4.49 | ppl    89.02\n",
            "| epoch   5 |  2800/ 2981 batches | lr 1.52 | ms/batch 41.84 | loss  4.41 | ppl    82.25\n",
            "-----------------------------------------------------------------------------------------\n",
            "| end of epoch   5 | time: 128.81s | valid loss  5.13 | valid ppl   169.03\n",
            "-----------------------------------------------------------------------------------------\n",
            "-----------------------------------------------------------------------------------------\n",
            "| Model was saved |\n",
            "-----------------------------------------------------------------------------------------\n",
            "| epoch   6 |   200/ 2981 batches | lr 1.52 | ms/batch 42.11 | loss  4.53 | ppl    93.12\n",
            "| epoch   6 |   400/ 2981 batches | lr 1.52 | ms/batch 42.05 | loss  4.56 | ppl    95.16\n",
            "| epoch   6 |   600/ 2981 batches | lr 1.52 | ms/batch 41.83 | loss  4.33 | ppl    75.99\n",
            "| epoch   6 |   800/ 2981 batches | lr 1.52 | ms/batch 41.86 | loss  4.39 | ppl    80.58\n",
            "| epoch   6 |  1000/ 2981 batches | lr 1.52 | ms/batch 41.94 | loss  4.36 | ppl    78.01\n",
            "| epoch   6 |  1200/ 2981 batches | lr 1.52 | ms/batch 41.92 | loss  4.39 | ppl    80.52\n",
            "| epoch   6 |  1400/ 2981 batches | lr 1.52 | ms/batch 41.98 | loss  4.43 | ppl    83.52\n",
            "| epoch   6 |  1600/ 2981 batches | lr 1.52 | ms/batch 41.98 | loss  4.48 | ppl    88.29\n",
            "| epoch   6 |  1800/ 2981 batches | lr 1.52 | ms/batch 41.86 | loss  4.41 | ppl    81.95\n",
            "| epoch   6 |  2000/ 2981 batches | lr 1.52 | ms/batch 41.80 | loss  4.41 | ppl    82.62\n",
            "| epoch   6 |  2200/ 2981 batches | lr 1.52 | ms/batch 41.88 | loss  4.27 | ppl    71.20\n",
            "| epoch   6 |  2400/ 2981 batches | lr 1.52 | ms/batch 41.92 | loss  4.35 | ppl    77.39\n",
            "| epoch   6 |  2600/ 2981 batches | lr 1.52 | ms/batch 41.96 | loss  4.39 | ppl    80.36\n",
            "| epoch   6 |  2800/ 2981 batches | lr 1.52 | ms/batch 42.03 | loss  4.31 | ppl    74.58\n",
            "-----------------------------------------------------------------------------------------\n",
            "| end of epoch   6 | time: 129.03s | valid loss  5.14 | valid ppl   170.74\n",
            "-----------------------------------------------------------------------------------------\n",
            "| epoch   7 |   200/ 2981 batches | lr 1.52 | ms/batch 42.17 | loss  4.42 | ppl    83.15\n",
            "| epoch   7 |   400/ 2981 batches | lr 1.52 | ms/batch 41.87 | loss  4.44 | ppl    84.78\n",
            "| epoch   7 |   600/ 2981 batches | lr 1.52 | ms/batch 41.78 | loss  4.22 | ppl    68.28\n",
            "| epoch   7 |   800/ 2981 batches | lr 1.52 | ms/batch 41.85 | loss  4.28 | ppl    72.40\n",
            "| epoch   7 |  1000/ 2981 batches | lr 1.52 | ms/batch 41.91 | loss  4.26 | ppl    70.46\n",
            "| epoch   7 |  1200/ 2981 batches | lr 1.52 | ms/batch 41.84 | loss  4.28 | ppl    72.57\n",
            "| epoch   7 |  1400/ 2981 batches | lr 1.52 | ms/batch 41.92 | loss  4.32 | ppl    75.18\n",
            "| epoch   7 |  1600/ 2981 batches | lr 1.52 | ms/batch 41.93 | loss  4.38 | ppl    80.07\n",
            "| epoch   7 |  1800/ 2981 batches | lr 1.52 | ms/batch 41.79 | loss  4.31 | ppl    74.61\n",
            "| epoch   7 |  2000/ 2981 batches | lr 1.52 | ms/batch 41.77 | loss  4.32 | ppl    75.15\n",
            "| epoch   7 |  2200/ 2981 batches | lr 1.52 | ms/batch 41.90 | loss  4.17 | ppl    64.61\n",
            "| epoch   7 |  2400/ 2981 batches | lr 1.52 | ms/batch 41.87 | loss  4.25 | ppl    70.42\n",
            "| epoch   7 |  2600/ 2981 batches | lr 1.52 | ms/batch 41.93 | loss  4.30 | ppl    73.65\n",
            "| epoch   7 |  2800/ 2981 batches | lr 1.52 | ms/batch 41.95 | loss  4.22 | ppl    68.33\n",
            "-----------------------------------------------------------------------------------------\n",
            "| end of epoch   7 | time: 128.91s | valid loss  5.16 | valid ppl   173.37\n",
            "-----------------------------------------------------------------------------------------\n",
            "| epoch   8 |   200/ 2981 batches | lr 1.52 | ms/batch 42.16 | loss  4.32 | ppl    75.44\n",
            "| epoch   8 |   400/ 2981 batches | lr 1.52 | ms/batch 41.95 | loss  4.35 | ppl    77.27\n",
            "| epoch   8 |   600/ 2981 batches | lr 1.52 | ms/batch 41.90 | loss  4.13 | ppl    62.30\n",
            "| epoch   8 |   800/ 2981 batches | lr 1.52 | ms/batch 41.93 | loss  4.19 | ppl    65.83\n",
            "| epoch   8 |  1000/ 2981 batches | lr 1.52 | ms/batch 41.86 | loss  4.17 | ppl    64.89\n",
            "| epoch   8 |  1200/ 2981 batches | lr 1.52 | ms/batch 41.91 | loss  4.20 | ppl    66.78\n",
            "| epoch   8 |  1400/ 2981 batches | lr 1.52 | ms/batch 41.94 | loss  4.24 | ppl    69.14\n",
            "| epoch   8 |  1600/ 2981 batches | lr 1.52 | ms/batch 41.85 | loss  4.30 | ppl    73.66\n",
            "| epoch   8 |  1800/ 2981 batches | lr 1.52 | ms/batch 41.82 | loss  4.23 | ppl    68.61\n",
            "| epoch   8 |  2000/ 2981 batches | lr 1.52 | ms/batch 41.93 | loss  4.24 | ppl    69.21\n",
            "| epoch   8 |  2200/ 2981 batches | lr 1.52 | ms/batch 41.85 | loss  4.09 | ppl    59.47\n",
            "| epoch   8 |  2400/ 2981 batches | lr 1.52 | ms/batch 41.91 | loss  4.17 | ppl    64.84\n",
            "| epoch   8 |  2600/ 2981 batches | lr 1.52 | ms/batch 41.89 | loss  4.22 | ppl    68.09\n",
            "| epoch   8 |  2800/ 2981 batches | lr 1.52 | ms/batch 41.97 | loss  4.14 | ppl    63.08\n",
            "-----------------------------------------------------------------------------------------\n",
            "| end of epoch   8 | time: 128.98s | valid loss  5.16 | valid ppl   174.74\n",
            "-----------------------------------------------------------------------------------------\n",
            "| epoch   9 |   200/ 2981 batches | lr 0.78 | ms/batch 42.12 | loss  4.23 | ppl    68.89\n",
            "| epoch   9 |   400/ 2981 batches | lr 0.78 | ms/batch 41.84 | loss  4.24 | ppl    69.27\n",
            "| epoch   9 |   600/ 2981 batches | lr 0.78 | ms/batch 41.82 | loss  4.02 | ppl    55.51\n",
            "| epoch   9 |   800/ 2981 batches | lr 0.78 | ms/batch 41.90 | loss  4.07 | ppl    58.82\n",
            "| epoch   9 |  1000/ 2981 batches | lr 0.78 | ms/batch 41.82 | loss  4.05 | ppl    57.14\n",
            "| epoch   9 |  1200/ 2981 batches | lr 0.78 | ms/batch 41.79 | loss  4.06 | ppl    58.08\n",
            "| epoch   9 |  1400/ 2981 batches | lr 0.78 | ms/batch 41.87 | loss  4.09 | ppl    59.69\n",
            "| epoch   9 |  1600/ 2981 batches | lr 0.78 | ms/batch 41.81 | loss  4.15 | ppl    63.27\n",
            "| epoch   9 |  1800/ 2981 batches | lr 0.78 | ms/batch 41.84 | loss  4.08 | ppl    58.93\n",
            "| epoch   9 |  2000/ 2981 batches | lr 0.78 | ms/batch 41.95 | loss  4.08 | ppl    59.20\n",
            "| epoch   9 |  2200/ 2981 batches | lr 0.78 | ms/batch 41.89 | loss  3.92 | ppl    50.32\n",
            "| epoch   9 |  2400/ 2981 batches | lr 0.78 | ms/batch 41.98 | loss  4.00 | ppl    54.48\n",
            "| epoch   9 |  2600/ 2981 batches | lr 0.78 | ms/batch 41.96 | loss  4.04 | ppl    56.87\n",
            "| epoch   9 |  2800/ 2981 batches | lr 0.78 | ms/batch 41.86 | loss  3.97 | ppl    52.75\n",
            "-----------------------------------------------------------------------------------------\n",
            "| end of epoch   9 | time: 128.92s | valid loss  5.15 | valid ppl   171.90\n",
            "-----------------------------------------------------------------------------------------\n",
            "| epoch  10 |   200/ 2981 batches | lr 0.78 | ms/batch 42.16 | loss  4.13 | ppl    62.22\n",
            "| epoch  10 |   400/ 2981 batches | lr 0.78 | ms/batch 41.83 | loss  4.15 | ppl    63.55\n",
            "| epoch  10 |   600/ 2981 batches | lr 0.78 | ms/batch 41.91 | loss  3.94 | ppl    51.27\n",
            "| epoch  10 |   800/ 2981 batches | lr 0.78 | ms/batch 41.83 | loss  4.00 | ppl    54.44\n",
            "| epoch  10 |  1000/ 2981 batches | lr 0.78 | ms/batch 41.86 | loss  3.97 | ppl    53.17\n",
            "| epoch  10 |  1200/ 2981 batches | lr 0.78 | ms/batch 41.79 | loss  4.00 | ppl    54.43\n",
            "| epoch  10 |  1400/ 2981 batches | lr 0.78 | ms/batch 41.84 | loss  4.03 | ppl    55.99\n",
            "| epoch  10 |  1600/ 2981 batches | lr 0.78 | ms/batch 41.78 | loss  4.09 | ppl    59.46\n",
            "| epoch  10 |  1800/ 2981 batches | lr 0.78 | ms/batch 41.86 | loss  4.02 | ppl    55.75\n",
            "| epoch  10 |  2000/ 2981 batches | lr 0.78 | ms/batch 41.82 | loss  4.03 | ppl    56.08\n",
            "| epoch  10 |  2200/ 2981 batches | lr 0.78 | ms/batch 41.80 | loss  3.87 | ppl    47.96\n",
            "| epoch  10 |  2400/ 2981 batches | lr 0.78 | ms/batch 41.83 | loss  3.95 | ppl    51.93\n",
            "| epoch  10 |  2600/ 2981 batches | lr 0.78 | ms/batch 41.95 | loss  3.99 | ppl    54.11\n",
            "| epoch  10 |  2800/ 2981 batches | lr 0.78 | ms/batch 41.91 | loss  3.93 | ppl    50.71\n",
            "-----------------------------------------------------------------------------------------\n",
            "| end of epoch  10 | time: 128.84s | valid loss  5.16 | valid ppl   174.47\n",
            "-----------------------------------------------------------------------------------------\n",
            "| epoch  11 |   200/ 2981 batches | lr 0.78 | ms/batch 42.10 | loss  4.07 | ppl    58.60\n",
            "| epoch  11 |   400/ 2981 batches | lr 0.78 | ms/batch 41.86 | loss  4.09 | ppl    60.03\n",
            "| epoch  11 |   600/ 2981 batches | lr 0.78 | ms/batch 41.81 | loss  3.88 | ppl    48.51\n",
            "| epoch  11 |   800/ 2981 batches | lr 0.78 | ms/batch 41.82 | loss  3.94 | ppl    51.46\n",
            "| epoch  11 |  1000/ 2981 batches | lr 0.78 | ms/batch 41.89 | loss  3.92 | ppl    50.57\n",
            "| epoch  11 |  1200/ 2981 batches | lr 0.78 | ms/batch 41.85 | loss  3.94 | ppl    51.67\n",
            "| epoch  11 |  1400/ 2981 batches | lr 0.78 | ms/batch 41.89 | loss  3.97 | ppl    53.08\n",
            "| epoch  11 |  1600/ 2981 batches | lr 0.78 | ms/batch 41.91 | loss  4.03 | ppl    56.39\n",
            "| epoch  11 |  1800/ 2981 batches | lr 0.78 | ms/batch 41.94 | loss  3.97 | ppl    53.07\n",
            "| epoch  11 |  2000/ 2981 batches | lr 0.78 | ms/batch 41.91 | loss  3.98 | ppl    53.41\n",
            "| epoch  11 |  2200/ 2981 batches | lr 0.78 | ms/batch 41.88 | loss  3.82 | ppl    45.58\n",
            "| epoch  11 |  2400/ 2981 batches | lr 0.78 | ms/batch 41.84 | loss  3.91 | ppl    49.68\n",
            "| epoch  11 |  2600/ 2981 batches | lr 0.78 | ms/batch 41.90 | loss  3.95 | ppl    52.04\n",
            "| epoch  11 |  2800/ 2981 batches | lr 0.78 | ms/batch 41.92 | loss  3.88 | ppl    48.43\n",
            "-----------------------------------------------------------------------------------------\n",
            "| end of epoch  11 | time: 128.93s | valid loss  5.19 | valid ppl   179.00\n",
            "-----------------------------------------------------------------------------------------\n",
            "| epoch  12 |   200/ 2981 batches | lr 0.78 | ms/batch 42.23 | loss  4.02 | ppl    55.79\n",
            "| epoch  12 |   400/ 2981 batches | lr 0.78 | ms/batch 41.90 | loss  4.04 | ppl    56.90\n",
            "| epoch  12 |   600/ 2981 batches | lr 0.78 | ms/batch 41.85 | loss  3.83 | ppl    46.28\n",
            "| epoch  12 |   800/ 2981 batches | lr 0.78 | ms/batch 41.89 | loss  3.89 | ppl    48.91\n",
            "| epoch  12 |  1000/ 2981 batches | lr 0.78 | ms/batch 41.91 | loss  3.87 | ppl    48.11\n",
            "| epoch  12 |  1200/ 2981 batches | lr 0.78 | ms/batch 41.92 | loss  3.90 | ppl    49.38\n",
            "| epoch  12 |  1400/ 2981 batches | lr 0.78 | ms/batch 41.95 | loss  3.92 | ppl    50.62\n",
            "| epoch  12 |  1600/ 2981 batches | lr 0.78 | ms/batch 41.79 | loss  3.99 | ppl    53.93\n",
            "| epoch  12 |  1800/ 2981 batches | lr 0.78 | ms/batch 41.98 | loss  3.93 | ppl    50.80\n",
            "| epoch  12 |  2000/ 2981 batches | lr 0.78 | ms/batch 41.83 | loss  3.93 | ppl    51.05\n",
            "| epoch  12 |  2200/ 2981 batches | lr 0.78 | ms/batch 41.89 | loss  3.78 | ppl    43.85\n",
            "| epoch  12 |  2400/ 2981 batches | lr 0.78 | ms/batch 41.90 | loss  3.86 | ppl    47.39\n",
            "| epoch  12 |  2600/ 2981 batches | lr 0.78 | ms/batch 41.89 | loss  3.91 | ppl    49.79\n",
            "| epoch  12 |  2800/ 2981 batches | lr 0.78 | ms/batch 41.80 | loss  3.84 | ppl    46.50\n",
            "-----------------------------------------------------------------------------------------\n",
            "| end of epoch  12 | time: 128.94s | valid loss  5.20 | valid ppl   181.11\n",
            "-----------------------------------------------------------------------------------------\n",
            "| epoch  13 |   200/ 2981 batches | lr 0.40 | ms/batch 42.15 | loss  3.99 | ppl    53.98\n",
            "| epoch  13 |   400/ 2981 batches | lr 0.40 | ms/batch 41.83 | loss  4.00 | ppl    54.82\n",
            "| epoch  13 |   600/ 2981 batches | lr 0.40 | ms/batch 41.88 | loss  3.79 | ppl    44.41\n",
            "| epoch  13 |   800/ 2981 batches | lr 0.40 | ms/batch 41.95 | loss  3.85 | ppl    46.84\n",
            "| epoch  13 |  1000/ 2981 batches | lr 0.40 | ms/batch 41.82 | loss  3.83 | ppl    45.99\n",
            "| epoch  13 |  1200/ 2981 batches | lr 0.40 | ms/batch 41.80 | loss  3.84 | ppl    46.61\n",
            "| epoch  13 |  1400/ 2981 batches | lr 0.40 | ms/batch 41.84 | loss  3.86 | ppl    47.37\n",
            "| epoch  13 |  1600/ 2981 batches | lr 0.40 | ms/batch 41.85 | loss  3.92 | ppl    50.42\n",
            "| epoch  13 |  1800/ 2981 batches | lr 0.40 | ms/batch 41.82 | loss  3.85 | ppl    47.14\n",
            "| epoch  13 |  2000/ 2981 batches | lr 0.40 | ms/batch 41.92 | loss  3.86 | ppl    47.51\n",
            "| epoch  13 |  2200/ 2981 batches | lr 0.40 | ms/batch 41.85 | loss  3.70 | ppl    40.34\n",
            "| epoch  13 |  2400/ 2981 batches | lr 0.40 | ms/batch 41.77 | loss  3.78 | ppl    43.66\n",
            "| epoch  13 |  2600/ 2981 batches | lr 0.40 | ms/batch 41.85 | loss  3.82 | ppl    45.46\n",
            "| epoch  13 |  2800/ 2981 batches | lr 0.40 | ms/batch 41.80 | loss  3.75 | ppl    42.48\n",
            "-----------------------------------------------------------------------------------------\n",
            "| end of epoch  13 | time: 128.86s | valid loss  5.18 | valid ppl   177.88\n",
            "-----------------------------------------------------------------------------------------\n",
            "| epoch  14 |   200/ 2981 batches | lr 0.40 | ms/batch 42.12 | loss  3.94 | ppl    51.25\n",
            "| epoch  14 |   400/ 2981 batches | lr 0.40 | ms/batch 41.92 | loss  3.95 | ppl    51.98\n",
            "| epoch  14 |   600/ 2981 batches | lr 0.40 | ms/batch 41.85 | loss  3.75 | ppl    42.40\n",
            "| epoch  14 |   800/ 2981 batches | lr 0.40 | ms/batch 41.97 | loss  3.80 | ppl    44.74\n",
            "| epoch  14 |  1000/ 2981 batches | lr 0.40 | ms/batch 41.86 | loss  3.79 | ppl    44.09\n",
            "| epoch  14 |  1200/ 2981 batches | lr 0.40 | ms/batch 41.85 | loss  3.81 | ppl    45.08\n",
            "| epoch  14 |  1400/ 2981 batches | lr 0.40 | ms/batch 41.98 | loss  3.83 | ppl    46.03\n",
            "| epoch  14 |  1600/ 2981 batches | lr 0.40 | ms/batch 41.89 | loss  3.88 | ppl    48.65\n",
            "| epoch  14 |  1800/ 2981 batches | lr 0.40 | ms/batch 41.98 | loss  3.83 | ppl    45.93\n",
            "| epoch  14 |  2000/ 2981 batches | lr 0.40 | ms/batch 41.87 | loss  3.83 | ppl    46.20\n",
            "| epoch  14 |  2200/ 2981 batches | lr 0.40 | ms/batch 41.95 | loss  3.67 | ppl    39.23\n",
            "| epoch  14 |  2400/ 2981 batches | lr 0.40 | ms/batch 41.82 | loss  3.75 | ppl    42.54\n",
            "| epoch  14 |  2600/ 2981 batches | lr 0.40 | ms/batch 41.87 | loss  3.79 | ppl    44.46\n",
            "| epoch  14 |  2800/ 2981 batches | lr 0.40 | ms/batch 41.96 | loss  3.73 | ppl    41.61\n",
            "-----------------------------------------------------------------------------------------\n",
            "| end of epoch  14 | time: 128.98s | valid loss  5.19 | valid ppl   179.90\n",
            "-----------------------------------------------------------------------------------------\n",
            "| epoch  15 |   200/ 2981 batches | lr 0.40 | ms/batch 42.13 | loss  3.90 | ppl    49.44\n",
            "| epoch  15 |   400/ 2981 batches | lr 0.40 | ms/batch 41.95 | loss  3.92 | ppl    50.50\n",
            "| epoch  15 |   600/ 2981 batches | lr 0.40 | ms/batch 41.76 | loss  3.72 | ppl    41.16\n",
            "| epoch  15 |   800/ 2981 batches | lr 0.40 | ms/batch 41.83 | loss  3.77 | ppl    43.44\n",
            "| epoch  15 |  1000/ 2981 batches | lr 0.40 | ms/batch 41.87 | loss  3.76 | ppl    43.03\n",
            "| epoch  15 |  1200/ 2981 batches | lr 0.40 | ms/batch 41.97 | loss  3.78 | ppl    43.61\n",
            "| epoch  15 |  1400/ 2981 batches | lr 0.40 | ms/batch 41.84 | loss  3.80 | ppl    44.53\n",
            "| epoch  15 |  1600/ 2981 batches | lr 0.40 | ms/batch 41.80 | loss  3.86 | ppl    47.30\n",
            "| epoch  15 |  1800/ 2981 batches | lr 0.40 | ms/batch 41.80 | loss  3.81 | ppl    44.98\n",
            "| epoch  15 |  2000/ 2981 batches | lr 0.40 | ms/batch 41.96 | loss  3.81 | ppl    45.24\n",
            "| epoch  15 |  2200/ 2981 batches | lr 0.40 | ms/batch 41.93 | loss  3.65 | ppl    38.44\n",
            "| epoch  15 |  2400/ 2981 batches | lr 0.40 | ms/batch 41.80 | loss  3.73 | ppl    41.49\n",
            "| epoch  15 |  2600/ 2981 batches | lr 0.40 | ms/batch 41.84 | loss  3.78 | ppl    43.61\n",
            "| epoch  15 |  2800/ 2981 batches | lr 0.40 | ms/batch 42.03 | loss  3.70 | ppl    40.61\n",
            "-----------------------------------------------------------------------------------------\n",
            "| end of epoch  15 | time: 128.90s | valid loss  5.20 | valid ppl   181.27\n",
            "-----------------------------------------------------------------------------------------\n",
            "| epoch  16 |   200/ 2981 batches | lr 0.40 | ms/batch 42.16 | loss  3.87 | ppl    48.00\n",
            "| epoch  16 |   400/ 2981 batches | lr 0.40 | ms/batch 41.92 | loss  3.89 | ppl    48.79\n",
            "| epoch  16 |   600/ 2981 batches | lr 0.40 | ms/batch 41.94 | loss  3.69 | ppl    39.91\n",
            "| epoch  16 |   800/ 2981 batches | lr 0.40 | ms/batch 41.93 | loss  3.74 | ppl    42.29\n",
            "| epoch  16 |  1000/ 2981 batches | lr 0.40 | ms/batch 41.93 | loss  3.73 | ppl    41.88\n",
            "| epoch  16 |  1200/ 2981 batches | lr 0.40 | ms/batch 41.97 | loss  3.75 | ppl    42.44\n",
            "| epoch  16 |  1400/ 2981 batches | lr 0.40 | ms/batch 41.92 | loss  3.77 | ppl    43.49\n",
            "| epoch  16 |  1600/ 2981 batches | lr 0.40 | ms/batch 41.88 | loss  3.83 | ppl    46.18\n",
            "| epoch  16 |  1800/ 2981 batches | lr 0.40 | ms/batch 41.90 | loss  3.78 | ppl    43.79\n",
            "| epoch  16 |  2000/ 2981 batches | lr 0.40 | ms/batch 41.83 | loss  3.79 | ppl    44.19\n",
            "| epoch  16 |  2200/ 2981 batches | lr 0.40 | ms/batch 41.96 | loss  3.63 | ppl    37.55\n",
            "| epoch  16 |  2400/ 2981 batches | lr 0.40 | ms/batch 41.88 | loss  3.70 | ppl    40.50\n",
            "| epoch  16 |  2600/ 2981 batches | lr 0.40 | ms/batch 41.92 | loss  3.75 | ppl    42.50\n",
            "| epoch  16 |  2800/ 2981 batches | lr 0.40 | ms/batch 41.89 | loss  3.69 | ppl    39.91\n",
            "-----------------------------------------------------------------------------------------\n",
            "| end of epoch  16 | time: 129.01s | valid loss  5.22 | valid ppl   184.11\n",
            "-----------------------------------------------------------------------------------------\n",
            "| epoch  17 |   200/ 2981 batches | lr 0.21 | ms/batch 42.17 | loss  3.87 | ppl    47.99\n",
            "| epoch  17 |   400/ 2981 batches | lr 0.21 | ms/batch 41.94 | loss  3.89 | ppl    49.07\n",
            "| epoch  17 |   600/ 2981 batches | lr 0.21 | ms/batch 41.89 | loss  3.69 | ppl    39.85\n",
            "| epoch  17 |   800/ 2981 batches | lr 0.21 | ms/batch 41.94 | loss  3.74 | ppl    42.08\n",
            "| epoch  17 |  1000/ 2981 batches | lr 0.21 | ms/batch 41.87 | loss  3.73 | ppl    41.56\n",
            "| epoch  17 |  1200/ 2981 batches | lr 0.21 | ms/batch 41.90 | loss  3.74 | ppl    42.02\n",
            "| epoch  17 |  1400/ 2981 batches | lr 0.21 | ms/batch 41.92 | loss  3.75 | ppl    42.65\n",
            "| epoch  17 |  1600/ 2981 batches | lr 0.21 | ms/batch 41.93 | loss  3.81 | ppl    45.20\n",
            "| epoch  17 |  1800/ 2981 batches | lr 0.21 | ms/batch 41.90 | loss  3.75 | ppl    42.68\n",
            "| epoch  17 |  2000/ 2981 batches | lr 0.21 | ms/batch 41.92 | loss  3.76 | ppl    43.00\n",
            "| epoch  17 |  2200/ 2981 batches | lr 0.21 | ms/batch 42.03 | loss  3.59 | ppl    36.41\n",
            "| epoch  17 |  2400/ 2981 batches | lr 0.21 | ms/batch 41.88 | loss  3.67 | ppl    39.13\n",
            "| epoch  17 |  2600/ 2981 batches | lr 0.21 | ms/batch 41.84 | loss  3.71 | ppl    40.94\n",
            "| epoch  17 |  2800/ 2981 batches | lr 0.21 | ms/batch 41.88 | loss  3.65 | ppl    38.41\n",
            "-----------------------------------------------------------------------------------------\n",
            "| end of epoch  17 | time: 129.04s | valid loss  5.20 | valid ppl   180.45\n",
            "-----------------------------------------------------------------------------------------\n",
            "| epoch  18 |   200/ 2981 batches | lr 0.21 | ms/batch 42.14 | loss  3.85 | ppl    46.81\n",
            "| epoch  18 |   400/ 2981 batches | lr 0.21 | ms/batch 41.96 | loss  3.86 | ppl    47.43\n",
            "| epoch  18 |   600/ 2981 batches | lr 0.21 | ms/batch 41.90 | loss  3.66 | ppl    38.91\n",
            "| epoch  18 |   800/ 2981 batches | lr 0.21 | ms/batch 41.81 | loss  3.71 | ppl    41.00\n",
            "| epoch  18 |  1000/ 2981 batches | lr 0.21 | ms/batch 41.84 | loss  3.70 | ppl    40.47\n",
            "| epoch  18 |  1200/ 2981 batches | lr 0.21 | ms/batch 41.85 | loss  3.71 | ppl    41.05\n",
            "| epoch  18 |  1400/ 2981 batches | lr 0.21 | ms/batch 41.95 | loss  3.73 | ppl    41.60\n",
            "| epoch  18 |  1600/ 2981 batches | lr 0.21 | ms/batch 41.88 | loss  3.79 | ppl    44.45\n",
            "| epoch  18 |  1800/ 2981 batches | lr 0.21 | ms/batch 41.86 | loss  3.74 | ppl    41.97\n",
            "| epoch  18 |  2000/ 2981 batches | lr 0.21 | ms/batch 42.00 | loss  3.75 | ppl    42.42\n",
            "| epoch  18 |  2200/ 2981 batches | lr 0.21 | ms/batch 41.90 | loss  3.58 | ppl    36.04\n",
            "| epoch  18 |  2400/ 2981 batches | lr 0.21 | ms/batch 41.90 | loss  3.66 | ppl    38.74\n",
            "| epoch  18 |  2600/ 2981 batches | lr 0.21 | ms/batch 41.84 | loss  3.70 | ppl    40.41\n",
            "| epoch  18 |  2800/ 2981 batches | lr 0.21 | ms/batch 41.96 | loss  3.64 | ppl    38.18\n",
            "-----------------------------------------------------------------------------------------\n",
            "| end of epoch  18 | time: 128.97s | valid loss  5.20 | valid ppl   181.68\n",
            "-----------------------------------------------------------------------------------------\n",
            "| epoch  19 |   200/ 2981 batches | lr 0.21 | ms/batch 42.09 | loss  3.82 | ppl    45.73\n",
            "| epoch  19 |   400/ 2981 batches | lr 0.21 | ms/batch 42.05 | loss  3.84 | ppl    46.52\n",
            "| epoch  19 |   600/ 2981 batches | lr 0.21 | ms/batch 41.90 | loss  3.65 | ppl    38.37\n",
            "| epoch  19 |   800/ 2981 batches | lr 0.21 | ms/batch 41.89 | loss  3.69 | ppl    40.22\n",
            "| epoch  19 |  1000/ 2981 batches | lr 0.21 | ms/batch 41.91 | loss  3.68 | ppl    39.83\n",
            "| epoch  19 |  1200/ 2981 batches | lr 0.21 | ms/batch 41.96 | loss  3.70 | ppl    40.47\n",
            "| epoch  19 |  1400/ 2981 batches | lr 0.21 | ms/batch 41.88 | loss  3.71 | ppl    41.05\n",
            "| epoch  19 |  1600/ 2981 batches | lr 0.21 | ms/batch 41.89 | loss  3.77 | ppl    43.51\n",
            "| epoch  19 |  1800/ 2981 batches | lr 0.21 | ms/batch 41.90 | loss  3.72 | ppl    41.34\n",
            "| epoch  19 |  2000/ 2981 batches | lr 0.21 | ms/batch 41.87 | loss  3.73 | ppl    41.85\n",
            "| epoch  19 |  2200/ 2981 batches | lr 0.21 | ms/batch 41.89 | loss  3.57 | ppl    35.52\n",
            "| epoch  19 |  2400/ 2981 batches | lr 0.21 | ms/batch 41.90 | loss  3.64 | ppl    38.09\n",
            "| epoch  19 |  2600/ 2981 batches | lr 0.21 | ms/batch 41.98 | loss  3.69 | ppl    39.99\n",
            "| epoch  19 |  2800/ 2981 batches | lr 0.21 | ms/batch 41.86 | loss  3.63 | ppl    37.71\n",
            "-----------------------------------------------------------------------------------------\n",
            "| end of epoch  19 | time: 129.00s | valid loss  5.21 | valid ppl   182.80\n",
            "-----------------------------------------------------------------------------------------\n",
            "| epoch  20 |   200/ 2981 batches | lr 0.21 | ms/batch 42.24 | loss  3.81 | ppl    44.97\n",
            "| epoch  20 |   400/ 2981 batches | lr 0.21 | ms/batch 41.86 | loss  3.83 | ppl    45.83\n",
            "| epoch  20 |   600/ 2981 batches | lr 0.21 | ms/batch 41.87 | loss  3.63 | ppl    37.71\n",
            "| epoch  20 |   800/ 2981 batches | lr 0.21 | ms/batch 41.81 | loss  3.68 | ppl    39.73\n",
            "| epoch  20 |  1000/ 2981 batches | lr 0.21 | ms/batch 41.88 | loss  3.67 | ppl    39.12\n",
            "| epoch  20 |  1200/ 2981 batches | lr 0.21 | ms/batch 41.77 | loss  3.68 | ppl    39.78\n",
            "| epoch  20 |  1400/ 2981 batches | lr 0.21 | ms/batch 41.86 | loss  3.70 | ppl    40.53\n",
            "| epoch  20 |  1600/ 2981 batches | lr 0.21 | ms/batch 41.83 | loss  3.76 | ppl    42.91\n",
            "| epoch  20 |  1800/ 2981 batches | lr 0.21 | ms/batch 41.91 | loss  3.71 | ppl    40.93\n",
            "| epoch  20 |  2000/ 2981 batches | lr 0.21 | ms/batch 41.85 | loss  3.72 | ppl    41.25\n",
            "| epoch  20 |  2200/ 2981 batches | lr 0.21 | ms/batch 41.81 | loss  3.56 | ppl    35.12\n",
            "| epoch  20 |  2400/ 2981 batches | lr 0.21 | ms/batch 41.89 | loss  3.63 | ppl    37.72\n",
            "| epoch  20 |  2600/ 2981 batches | lr 0.21 | ms/batch 41.81 | loss  3.68 | ppl    39.48\n",
            "| epoch  20 |  2800/ 2981 batches | lr 0.21 | ms/batch 41.76 | loss  3.62 | ppl    37.20\n",
            "-----------------------------------------------------------------------------------------\n",
            "| end of epoch  20 | time: 128.86s | valid loss  5.21 | valid ppl   183.55\n",
            "-----------------------------------------------------------------------------------------\n",
            "| epoch  21 |   200/ 2981 batches | lr 0.11 | ms/batch 42.09 | loss  3.82 | ppl    45.63\n",
            "| epoch  21 |   400/ 2981 batches | lr 0.11 | ms/batch 41.80 | loss  3.85 | ppl    46.97\n",
            "| epoch  21 |   600/ 2981 batches | lr 0.11 | ms/batch 41.84 | loss  3.65 | ppl    38.31\n",
            "| epoch  21 |   800/ 2981 batches | lr 0.11 | ms/batch 41.85 | loss  3.70 | ppl    40.38\n",
            "| epoch  21 |  1000/ 2981 batches | lr 0.11 | ms/batch 41.88 | loss  3.68 | ppl    39.80\n",
            "| epoch  21 |  1200/ 2981 batches | lr 0.11 | ms/batch 41.94 | loss  3.70 | ppl    40.32\n",
            "| epoch  21 |  1400/ 2981 batches | lr 0.11 | ms/batch 41.80 | loss  3.71 | ppl    40.74\n",
            "| epoch  21 |  1600/ 2981 batches | lr 0.11 | ms/batch 41.80 | loss  3.77 | ppl    43.24\n",
            "| epoch  21 |  1800/ 2981 batches | lr 0.11 | ms/batch 41.77 | loss  3.71 | ppl    41.01\n",
            "| epoch  21 |  2000/ 2981 batches | lr 0.11 | ms/batch 41.83 | loss  3.72 | ppl    41.26\n",
            "| epoch  21 |  2200/ 2981 batches | lr 0.11 | ms/batch 41.84 | loss  3.55 | ppl    34.86\n",
            "| epoch  21 |  2400/ 2981 batches | lr 0.11 | ms/batch 41.86 | loss  3.62 | ppl    37.43\n",
            "| epoch  21 |  2600/ 2981 batches | lr 0.11 | ms/batch 41.81 | loss  3.66 | ppl    39.05\n",
            "| epoch  21 |  2800/ 2981 batches | lr 0.11 | ms/batch 41.98 | loss  3.61 | ppl    36.90\n",
            "-----------------------------------------------------------------------------------------\n",
            "| end of epoch  21 | time: 128.84s | valid loss  5.20 | valid ppl   181.47\n",
            "-----------------------------------------------------------------------------------------\n",
            "| epoch  22 |   200/ 2981 batches | lr 0.11 | ms/batch 42.07 | loss  3.81 | ppl    45.02\n",
            "| epoch  22 |   400/ 2981 batches | lr 0.11 | ms/batch 41.78 | loss  3.83 | ppl    45.97\n",
            "| epoch  22 |   600/ 2981 batches | lr 0.11 | ms/batch 41.88 | loss  3.63 | ppl    37.53\n",
            "| epoch  22 |   800/ 2981 batches | lr 0.11 | ms/batch 41.87 | loss  3.68 | ppl    39.71\n",
            "| epoch  22 |  1000/ 2981 batches | lr 0.11 | ms/batch 41.79 | loss  3.67 | ppl    39.31\n",
            "| epoch  22 |  1200/ 2981 batches | lr 0.11 | ms/batch 42.06 | loss  3.68 | ppl    39.74\n",
            "| epoch  22 |  1400/ 2981 batches | lr 0.11 | ms/batch 41.90 | loss  3.70 | ppl    40.27\n",
            "| epoch  22 |  1600/ 2981 batches | lr 0.11 | ms/batch 41.91 | loss  3.75 | ppl    42.64\n",
            "| epoch  22 |  1800/ 2981 batches | lr 0.11 | ms/batch 41.87 | loss  3.70 | ppl    40.54\n",
            "| epoch  22 |  2000/ 2981 batches | lr 0.11 | ms/batch 41.88 | loss  3.71 | ppl    40.80\n",
            "| epoch  22 |  2200/ 2981 batches | lr 0.11 | ms/batch 41.85 | loss  3.55 | ppl    34.68\n",
            "| epoch  22 |  2400/ 2981 batches | lr 0.11 | ms/batch 41.86 | loss  3.62 | ppl    37.24\n",
            "| epoch  22 |  2600/ 2981 batches | lr 0.11 | ms/batch 41.99 | loss  3.66 | ppl    38.92\n",
            "| epoch  22 |  2800/ 2981 batches | lr 0.11 | ms/batch 42.00 | loss  3.60 | ppl    36.73\n",
            "-----------------------------------------------------------------------------------------\n",
            "| end of epoch  22 | time: 128.94s | valid loss  5.21 | valid ppl   182.25\n",
            "-----------------------------------------------------------------------------------------\n",
            "| epoch  23 |   200/ 2981 batches | lr 0.11 | ms/batch 42.10 | loss  3.79 | ppl    44.42\n",
            "| epoch  23 |   400/ 2981 batches | lr 0.11 | ms/batch 41.95 | loss  3.82 | ppl    45.38\n",
            "| epoch  23 |   600/ 2981 batches | lr 0.11 | ms/batch 41.90 | loss  3.62 | ppl    37.20\n",
            "| epoch  23 |   800/ 2981 batches | lr 0.11 | ms/batch 41.94 | loss  3.67 | ppl    39.29\n",
            "| epoch  23 |  1000/ 2981 batches | lr 0.11 | ms/batch 41.89 | loss  3.66 | ppl    38.90\n",
            "| epoch  23 |  1200/ 2981 batches | lr 0.11 | ms/batch 41.89 | loss  3.67 | ppl    39.36\n",
            "| epoch  23 |  1400/ 2981 batches | lr 0.11 | ms/batch 41.88 | loss  3.69 | ppl    39.92\n",
            "| epoch  23 |  1600/ 2981 batches | lr 0.11 | ms/batch 41.98 | loss  3.75 | ppl    42.43\n",
            "| epoch  23 |  1800/ 2981 batches | lr 0.11 | ms/batch 41.89 | loss  3.70 | ppl    40.33\n",
            "| epoch  23 |  2000/ 2981 batches | lr 0.11 | ms/batch 41.91 | loss  3.70 | ppl    40.53\n",
            "| epoch  23 |  2200/ 2981 batches | lr 0.11 | ms/batch 41.93 | loss  3.54 | ppl    34.48\n",
            "| epoch  23 |  2400/ 2981 batches | lr 0.11 | ms/batch 41.90 | loss  3.61 | ppl    36.92\n",
            "| epoch  23 |  2600/ 2981 batches | lr 0.11 | ms/batch 41.95 | loss  3.66 | ppl    38.78\n",
            "| epoch  23 |  2800/ 2981 batches | lr 0.11 | ms/batch 41.90 | loss  3.60 | ppl    36.51\n",
            "-----------------------------------------------------------------------------------------\n",
            "| end of epoch  23 | time: 129.03s | valid loss  5.21 | valid ppl   182.34\n",
            "-----------------------------------------------------------------------------------------\n",
            "| epoch  24 |   200/ 2981 batches | lr 0.11 | ms/batch 42.11 | loss  3.78 | ppl    43.83\n",
            "| epoch  24 |   400/ 2981 batches | lr 0.11 | ms/batch 41.89 | loss  3.80 | ppl    44.84\n",
            "| epoch  24 |   600/ 2981 batches | lr 0.11 | ms/batch 41.76 | loss  3.61 | ppl    36.94\n",
            "| epoch  24 |   800/ 2981 batches | lr 0.11 | ms/batch 41.91 | loss  3.66 | ppl    39.04\n",
            "| epoch  24 |  1000/ 2981 batches | lr 0.11 | ms/batch 41.95 | loss  3.65 | ppl    38.64\n",
            "| epoch  24 |  1200/ 2981 batches | lr 0.11 | ms/batch 41.78 | loss  3.66 | ppl    39.00\n",
            "| epoch  24 |  1400/ 2981 batches | lr 0.11 | ms/batch 41.87 | loss  3.68 | ppl    39.55\n",
            "| epoch  24 |  1600/ 2981 batches | lr 0.11 | ms/batch 41.82 | loss  3.74 | ppl    42.01\n",
            "| epoch  24 |  1800/ 2981 batches | lr 0.11 | ms/batch 41.94 | loss  3.69 | ppl    39.96\n",
            "| epoch  24 |  2000/ 2981 batches | lr 0.11 | ms/batch 41.91 | loss  3.70 | ppl    40.36\n",
            "| epoch  24 |  2200/ 2981 batches | lr 0.11 | ms/batch 41.90 | loss  3.54 | ppl    34.35\n",
            "| epoch  24 |  2400/ 2981 batches | lr 0.11 | ms/batch 41.93 | loss  3.60 | ppl    36.74\n",
            "| epoch  24 |  2600/ 2981 batches | lr 0.11 | ms/batch 41.98 | loss  3.65 | ppl    38.49\n",
            "| epoch  24 |  2800/ 2981 batches | lr 0.11 | ms/batch 41.87 | loss  3.59 | ppl    36.40\n",
            "-----------------------------------------------------------------------------------------\n",
            "| end of epoch  24 | time: 128.92s | valid loss  5.21 | valid ppl   183.37\n",
            "-----------------------------------------------------------------------------------------\n",
            "| epoch  25 |   200/ 2981 batches | lr 0.05 | ms/batch 42.24 | loss  3.81 | ppl    44.97\n",
            "| epoch  25 |   400/ 2981 batches | lr 0.05 | ms/batch 41.95 | loss  3.83 | ppl    46.17\n",
            "| epoch  25 |   600/ 2981 batches | lr 0.05 | ms/batch 41.80 | loss  3.63 | ppl    37.83\n",
            "| epoch  25 |   800/ 2981 batches | lr 0.05 | ms/batch 41.85 | loss  3.69 | ppl    40.14\n",
            "| epoch  25 |  1000/ 2981 batches | lr 0.05 | ms/batch 41.82 | loss  3.68 | ppl    39.54\n",
            "| epoch  25 |  1200/ 2981 batches | lr 0.05 | ms/batch 41.91 | loss  3.69 | ppl    39.96\n",
            "| epoch  25 |  1400/ 2981 batches | lr 0.05 | ms/batch 41.96 | loss  3.70 | ppl    40.28\n",
            "| epoch  25 |  1600/ 2981 batches | lr 0.05 | ms/batch 41.97 | loss  3.75 | ppl    42.63\n",
            "| epoch  25 |  1800/ 2981 batches | lr 0.05 | ms/batch 41.97 | loss  3.70 | ppl    40.56\n",
            "| epoch  25 |  2000/ 2981 batches | lr 0.05 | ms/batch 42.03 | loss  3.70 | ppl    40.58\n",
            "| epoch  25 |  2200/ 2981 batches | lr 0.05 | ms/batch 41.93 | loss  3.54 | ppl    34.50\n",
            "| epoch  25 |  2400/ 2981 batches | lr 0.05 | ms/batch 41.92 | loss  3.61 | ppl    36.99\n",
            "| epoch  25 |  2600/ 2981 batches | lr 0.05 | ms/batch 41.89 | loss  3.65 | ppl    38.54\n",
            "| epoch  25 |  2800/ 2981 batches | lr 0.05 | ms/batch 42.00 | loss  3.60 | ppl    36.45\n",
            "-----------------------------------------------------------------------------------------\n",
            "| end of epoch  25 | time: 129.09s | valid loss  5.20 | valid ppl   180.38\n",
            "-----------------------------------------------------------------------------------------\n",
            "| epoch  26 |   200/ 2981 batches | lr 0.05 | ms/batch 42.24 | loss  3.80 | ppl    44.55\n",
            "| epoch  26 |   400/ 2981 batches | lr 0.05 | ms/batch 42.09 | loss  3.82 | ppl    45.48\n",
            "| epoch  26 |   600/ 2981 batches | lr 0.05 | ms/batch 42.11 | loss  3.62 | ppl    37.37\n",
            "| epoch  26 |   800/ 2981 batches | lr 0.05 | ms/batch 41.97 | loss  3.68 | ppl    39.75\n",
            "| epoch  26 |  1000/ 2981 batches | lr 0.05 | ms/batch 41.90 | loss  3.66 | ppl    38.87\n",
            "| epoch  26 |  1200/ 2981 batches | lr 0.05 | ms/batch 42.04 | loss  3.68 | ppl    39.48\n",
            "| epoch  26 |  1400/ 2981 batches | lr 0.05 | ms/batch 42.02 | loss  3.69 | ppl    39.94\n",
            "| epoch  26 |  1600/ 2981 batches | lr 0.05 | ms/batch 41.98 | loss  3.74 | ppl    42.30\n",
            "| epoch  26 |  1800/ 2981 batches | lr 0.05 | ms/batch 41.94 | loss  3.69 | ppl    40.24\n",
            "| epoch  26 |  2000/ 2981 batches | lr 0.05 | ms/batch 41.97 | loss  3.70 | ppl    40.50\n",
            "| epoch  26 |  2200/ 2981 batches | lr 0.05 | ms/batch 42.05 | loss  3.54 | ppl    34.51\n",
            "| epoch  26 |  2400/ 2981 batches | lr 0.05 | ms/batch 42.04 | loss  3.61 | ppl    36.96\n",
            "| epoch  26 |  2600/ 2981 batches | lr 0.05 | ms/batch 41.97 | loss  3.65 | ppl    38.54\n",
            "| epoch  26 |  2800/ 2981 batches | lr 0.05 | ms/batch 42.03 | loss  3.60 | ppl    36.43\n",
            "-----------------------------------------------------------------------------------------\n",
            "| end of epoch  26 | time: 129.27s | valid loss  5.20 | valid ppl   181.02\n",
            "-----------------------------------------------------------------------------------------\n",
            "| epoch  27 |   200/ 2981 batches | lr 0.05 | ms/batch 42.31 | loss  3.79 | ppl    44.36\n",
            "| epoch  27 |   400/ 2981 batches | lr 0.05 | ms/batch 41.87 | loss  3.81 | ppl    45.15\n",
            "| epoch  27 |   600/ 2981 batches | lr 0.05 | ms/batch 41.94 | loss  3.61 | ppl    37.05\n",
            "| epoch  27 |   800/ 2981 batches | lr 0.05 | ms/batch 41.82 | loss  3.68 | ppl    39.56\n",
            "| epoch  27 |  1000/ 2981 batches | lr 0.05 | ms/batch 41.90 | loss  3.66 | ppl    38.79\n",
            "| epoch  27 |  1200/ 2981 batches | lr 0.05 | ms/batch 41.89 | loss  3.67 | ppl    39.22\n",
            "| epoch  27 |  1400/ 2981 batches | lr 0.05 | ms/batch 42.07 | loss  3.68 | ppl    39.78\n",
            "| epoch  27 |  1600/ 2981 batches | lr 0.05 | ms/batch 41.86 | loss  3.74 | ppl    42.13\n",
            "| epoch  27 |  1800/ 2981 batches | lr 0.05 | ms/batch 41.89 | loss  3.69 | ppl    39.97\n",
            "| epoch  27 |  2000/ 2981 batches | lr 0.05 | ms/batch 41.92 | loss  3.69 | ppl    40.19\n",
            "| epoch  27 |  2200/ 2981 batches | lr 0.05 | ms/batch 41.92 | loss  3.53 | ppl    34.27\n",
            "| epoch  27 |  2400/ 2981 batches | lr 0.05 | ms/batch 41.82 | loss  3.60 | ppl    36.72\n",
            "| epoch  27 |  2600/ 2981 batches | lr 0.05 | ms/batch 41.96 | loss  3.65 | ppl    38.49\n",
            "| epoch  27 |  2800/ 2981 batches | lr 0.05 | ms/batch 41.81 | loss  3.59 | ppl    36.36\n",
            "-----------------------------------------------------------------------------------------\n",
            "| end of epoch  27 | time: 129.04s | valid loss  5.20 | valid ppl   181.19\n",
            "-----------------------------------------------------------------------------------------\n",
            "| epoch  28 |   200/ 2981 batches | lr 0.05 | ms/batch 42.20 | loss  3.78 | ppl    43.87\n",
            "| epoch  28 |   400/ 2981 batches | lr 0.05 | ms/batch 41.91 | loss  3.80 | ppl    44.91\n",
            "| epoch  28 |   600/ 2981 batches | lr 0.05 | ms/batch 41.88 | loss  3.60 | ppl    36.74\n",
            "| epoch  28 |   800/ 2981 batches | lr 0.05 | ms/batch 41.96 | loss  3.67 | ppl    39.25\n",
            "| epoch  28 |  1000/ 2981 batches | lr 0.05 | ms/batch 41.84 | loss  3.65 | ppl    38.43\n",
            "| epoch  28 |  1200/ 2981 batches | lr 0.05 | ms/batch 41.95 | loss  3.66 | ppl    38.98\n",
            "| epoch  28 |  1400/ 2981 batches | lr 0.05 | ms/batch 41.99 | loss  3.68 | ppl    39.57\n",
            "| epoch  28 |  1600/ 2981 batches | lr 0.05 | ms/batch 41.91 | loss  3.74 | ppl    41.91\n",
            "| epoch  28 |  1800/ 2981 batches | lr 0.05 | ms/batch 41.80 | loss  3.68 | ppl    39.76\n",
            "| epoch  28 |  2000/ 2981 batches | lr 0.05 | ms/batch 41.89 | loss  3.69 | ppl    40.03\n",
            "| epoch  28 |  2200/ 2981 batches | lr 0.05 | ms/batch 41.92 | loss  3.53 | ppl    34.16\n",
            "| epoch  28 |  2400/ 2981 batches | lr 0.05 | ms/batch 41.87 | loss  3.60 | ppl    36.75\n",
            "| epoch  28 |  2600/ 2981 batches | lr 0.05 | ms/batch 41.89 | loss  3.65 | ppl    38.48\n",
            "| epoch  28 |  2800/ 2981 batches | lr 0.05 | ms/batch 41.89 | loss  3.59 | ppl    36.24\n",
            "-----------------------------------------------------------------------------------------\n",
            "| end of epoch  28 | time: 128.97s | valid loss  5.20 | valid ppl   181.34\n",
            "-----------------------------------------------------------------------------------------\n",
            "| epoch  29 |   200/ 2981 batches | lr 0.03 | ms/batch 42.00 | loss  3.80 | ppl    44.82\n",
            "| epoch  29 |   400/ 2981 batches | lr 0.03 | ms/batch 41.93 | loss  3.83 | ppl    46.15\n",
            "| epoch  29 |   600/ 2981 batches | lr 0.03 | ms/batch 41.86 | loss  3.63 | ppl    37.67\n",
            "| epoch  29 |   800/ 2981 batches | lr 0.03 | ms/batch 41.83 | loss  3.71 | ppl    40.66\n",
            "| epoch  29 |  1000/ 2981 batches | lr 0.03 | ms/batch 41.76 | loss  3.67 | ppl    39.34\n",
            "| epoch  29 |  1200/ 2981 batches | lr 0.03 | ms/batch 41.94 | loss  3.68 | ppl    39.57\n",
            "| epoch  29 |  1400/ 2981 batches | lr 0.03 | ms/batch 41.97 | loss  3.70 | ppl    40.25\n",
            "| epoch  29 |  1600/ 2981 batches | lr 0.03 | ms/batch 41.93 | loss  3.75 | ppl    42.64\n",
            "| epoch  29 |  1800/ 2981 batches | lr 0.03 | ms/batch 41.83 | loss  3.70 | ppl    40.40\n",
            "| epoch  29 |  2000/ 2981 batches | lr 0.03 | ms/batch 41.85 | loss  3.71 | ppl    40.65\n",
            "| epoch  29 |  2200/ 2981 batches | lr 0.03 | ms/batch 41.93 | loss  3.54 | ppl    34.56\n",
            "| epoch  29 |  2400/ 2981 batches | lr 0.03 | ms/batch 41.89 | loss  3.62 | ppl    37.36\n",
            "| epoch  29 |  2600/ 2981 batches | lr 0.03 | ms/batch 41.96 | loss  3.66 | ppl    38.69\n",
            "| epoch  29 |  2800/ 2981 batches | lr 0.03 | ms/batch 41.88 | loss  3.60 | ppl    36.73\n",
            "-----------------------------------------------------------------------------------------\n",
            "| end of epoch  29 | time: 128.93s | valid loss  5.19 | valid ppl   178.62\n",
            "-----------------------------------------------------------------------------------------\n",
            "| epoch  30 |   200/ 2981 batches | lr 0.03 | ms/batch 42.17 | loss  3.80 | ppl    44.48\n",
            "| epoch  30 |   400/ 2981 batches | lr 0.03 | ms/batch 41.91 | loss  3.82 | ppl    45.64\n",
            "| epoch  30 |   600/ 2981 batches | lr 0.03 | ms/batch 41.86 | loss  3.62 | ppl    37.41\n",
            "| epoch  30 |   800/ 2981 batches | lr 0.03 | ms/batch 41.87 | loss  3.69 | ppl    40.12\n",
            "| epoch  30 |  1000/ 2981 batches | lr 0.03 | ms/batch 41.92 | loss  3.67 | ppl    39.21\n",
            "| epoch  30 |  1200/ 2981 batches | lr 0.03 | ms/batch 41.98 | loss  3.67 | ppl    39.43\n",
            "| epoch  30 |  1400/ 2981 batches | lr 0.03 | ms/batch 41.91 | loss  3.69 | ppl    40.07\n",
            "| epoch  30 |  1600/ 2981 batches | lr 0.03 | ms/batch 41.94 | loss  3.75 | ppl    42.54\n",
            "| epoch  30 |  1800/ 2981 batches | lr 0.03 | ms/batch 41.88 | loss  3.70 | ppl    40.27\n",
            "| epoch  30 |  2000/ 2981 batches | lr 0.03 | ms/batch 41.89 | loss  3.70 | ppl    40.44\n",
            "| epoch  30 |  2200/ 2981 batches | lr 0.03 | ms/batch 41.93 | loss  3.54 | ppl    34.39\n",
            "| epoch  30 |  2400/ 2981 batches | lr 0.03 | ms/batch 41.91 | loss  3.61 | ppl    37.04\n",
            "| epoch  30 |  2600/ 2981 batches | lr 0.03 | ms/batch 41.93 | loss  3.65 | ppl    38.51\n",
            "| epoch  30 |  2800/ 2981 batches | lr 0.03 | ms/batch 41.90 | loss  3.60 | ppl    36.66\n",
            "-----------------------------------------------------------------------------------------\n",
            "| end of epoch  30 | time: 129.03s | valid loss  5.19 | valid ppl   178.66\n",
            "-----------------------------------------------------------------------------------------\n"
          ],
          "name": "stdout"
        }
      ]
    },
    {
      "cell_type": "code",
      "metadata": {
        "colab": {
          "base_uri": "https://localhost:8080/"
        },
        "id": "whujgP2kvJzt",
        "outputId": "ad23bb12-c70c-4eba-ae9b-60cef680b01e"
      },
      "source": [
        "# save the model\n",
        "state = {\n",
        "    'model': model.state_dict(),\n",
        "    'epoch': epoch,\n",
        "    'val_loss': val_loss,\n",
        "    'bptt': bptt,\n",
        "    'ntokens': ntokens, \n",
        "    'emsize': emsize, \n",
        "    'nhead': nhead, \n",
        "    'nhid': nhid, \n",
        "    'nlayers': nlayers, \n",
        "    'dropout': dropout,\n",
        "    'logger': logger\n",
        "}\n",
        "torch.save(state, f'{CHECKPOINT_DIR}/{MODEL_NAME}_{epoch}.pth')\n",
        "print('-' * 89)\n",
        "print('| Model was saved |')\n",
        "print('-' * 89)"
      ],
      "execution_count": null,
      "outputs": [
        {
          "output_type": "stream",
          "text": [
            "-----------------------------------------------------------------------------------------\n",
            "| Model was saved |\n",
            "-----------------------------------------------------------------------------------------\n"
          ],
          "name": "stdout"
        }
      ]
    },
    {
      "cell_type": "code",
      "metadata": {
        "colab": {
          "base_uri": "https://localhost:8080/"
        },
        "id": "AaxNlkC53zsz",
        "outputId": "cbda4c62-8ae0-46d2-bff5-880574578fe6"
      },
      "source": [
        "# evalute best model on test dataset\n",
        "test_loss = evaluate(best_model, test_loader)\n",
        "print('=' * 89)\n",
        "print('| End of training | test loss {:5.2f} | test ppl {:8.2f}'.format(\n",
        "    test_loss, math.exp(test_loss)))\n",
        "print('=' * 89)"
      ],
      "execution_count": null,
      "outputs": [
        {
          "output_type": "stream",
          "text": [
            "=========================================================================================\n",
            "| End of training | test loss  5.11 | test ppl   165.11\n",
            "=========================================================================================\n"
          ],
          "name": "stdout"
        }
      ]
    },
    {
      "cell_type": "code",
      "metadata": {
        "colab": {
          "base_uri": "https://localhost:8080/",
          "height": 602
        },
        "id": "yIAtaAd5DVXp",
        "outputId": "a642b23e-8840-4ce3-db1b-54fb718f8014"
      },
      "source": [
        "fig, ax = plt.subplots(1, 1, figsize=(15,8), dpi=200)\n",
        "fig.patch.set_facecolor('white')\n",
        "\n",
        "# plot accuracy\n",
        "p1 = ax.plot(logger['epochs'], logger['train_loss'], linewidth=2, label='train\\nloss')\n",
        "p2 = ax.plot(logger['epochs'], logger['val_loss'], linewidth=2, label='validation\\nloss')\n",
        "ax.set_xticks(range(0, logger['epochs'][-1] + 1, 2))\n",
        "ax.set_xticklabels(range(0, logger['epochs'][-1] + 1, 2))\n",
        "ax.set_xlabel('Epoch')\n",
        "ax.set_ylabel('Loss [%]')\n",
        "ax.set_title('Model Loss')\n",
        "ax.xaxis.grid()\n",
        "ax.legend()"
      ],
      "execution_count": null,
      "outputs": [
        {
          "output_type": "execute_result",
          "data": {
            "text/plain": [
              "<matplotlib.legend.Legend at 0x7fc8c9df4ed0>"
            ]
          },
          "metadata": {
            "tags": []
          },
          "execution_count": 40
        },
        {
          "output_type": "display_data",
          "data": {
            "image/png": "[encoded data removed]",
            "text/plain": [
              "<Figure size 3000x1600 with 1 Axes>"
            ]
          },
          "metadata": {
            "tags": []
          }
        }
      ]
    },
    {
      "cell_type": "markdown",
      "metadata": {
        "id": "a2oHS9VsSs-g"
      },
      "source": [
        "### <img src=\"https://img.icons8.com/color/48/000000/code.png\" style=\"height:50px;display:inline\"> Task 5  - Generate Sentences\n",
        "---\n",
        "Use the following function to generate 3 sentences of length 20, and print them. Do they make sense? (you can compare generated sentences over epochs, to see if some logic is gained during training)."
      ]
    },
    {
      "cell_type": "code",
      "metadata": {
        "id": "-aYNNXCiSs-g"
      },
      "source": [
        "def generate(model, vocab, nwords=100, temp=1.0):\n",
        "    model.eval()\n",
        "    ntokens = len(vocab.stoi)\n",
        "    model_input = torch.randint(ntokens, (1, 1), dtype=torch.long).to(device)\n",
        "    words = []\n",
        "    with torch.no_grad():\n",
        "        for i in range(nwords):\n",
        "            output = model(model_input, None)\n",
        "            word_weights = output[-1].squeeze().div(temp).exp().cpu()\n",
        "            word_idx = torch.multinomial(word_weights, 1)[0]\n",
        "            word_tensor = torch.Tensor([[word_idx]]).long().to(device)\n",
        "            model_input = torch.cat([model_input, word_tensor], 0)\n",
        "            word = vocab.itos[word_idx]\n",
        "            words.append(word)\n",
        "    return words"
      ],
      "execution_count": null,
      "outputs": []
    },
    {
      "cell_type": "code",
      "metadata": {
        "id": "cgcTYss8Ss-g",
        "colab": {
          "base_uri": "https://localhost:8080/"
        },
        "outputId": "01260b54-b0d9-4fb7-da61-adf804727199"
      },
      "source": [
        "\"\"\"\n",
        "Your code Here\n",
        "\"\"\"\n",
        "\n",
        "# load saved model\n",
        "state = torch.load(f'{CHECKPOINT_DIR}/{MODEL_NAME}_{30}.pth', map_location=device)\n",
        "best_model = TransformerModel(state['ntokens'], \n",
        "                              state['emsize'], \n",
        "                              state['nhead'], \n",
        "                              state['nhid'], \n",
        "                              state['nlayers'], \n",
        "                              state['dropout']).to(device)\n",
        "\n",
        "best_model.load_state_dict(state['model'])\n",
        "\n",
        "nsentences = 3 # Number of sentences to generate\n",
        "\n",
        "for i in range(nsentences):\n",
        "  sentence = generate(best_model, vocab, nwords=20)\n",
        "  print(f'Sentence {i}:')\n",
        "  print(\" \".join(sentence), '\\n')    "
      ],
      "execution_count": null,
      "outputs": [
        {
          "output_type": "stream",
          "text": [
            "Sentence 0:\n",
            "to discover that the player knocks him inside facing the difficulty entirely . facing . after , degrom threw a \n",
            "\n",
            "Sentence 1:\n",
            "in 1913 , and 1914 . mosley attended the 1919 – 31 victory over moscow , the following day , \n",
            "\n",
            "Sentence 2:\n",
            "encountered with its fragile declaration of independence and cold war . jurchen forces had reached a peak strength of 140 \n",
            "\n"
          ],
          "name": "stdout"
        }
      ]
    },
    {
      "cell_type": "markdown",
      "metadata": {
        "id": "qBy9tYqiv-rX"
      },
      "source": [
        "## Using Optuna for hyperparameters optimization\n"
      ]
    },
    {
      "cell_type": "code",
      "metadata": {
        "id": "d2r-FezUs-5T"
      },
      "source": [
        "\"\"\"\n",
        "Your Code Here\n",
        "\"\"\"\n",
        "epochs = 7\n",
        "ntokens = len(vocab.stoi)         # the size of vocabulary\n",
        "\n",
        "\n",
        "def objective(trial):\n",
        "    # get hyperparameters values with optuna\n",
        "    emsize = trial.suggest_categorical(\"emsize\", (216, 240))    # embbeding size\n",
        "    lr = trial.suggest_float(\"lr\", 1.5, 3)              # learning rate\n",
        "    nlayers = trial.suggest_int(\"nlayers\", 2, 4)        # number of layers\n",
        "    nhid = trial.suggest_int(\"nhid\", 200, 250)          # number of hidden units\n",
        "    nhead = trial.suggest_int(\"nhead\", 2, 4)            # number of Attention heads\n",
        "    dropout = trial.suggest_float(\"dropout\", 0.01, 0.3) # dropout probability\n",
        "    step_decay = trial.suggest_int(\"step_decay\", 1, 4)  # Period of learning rate decay\n",
        "    gamma = trial.suggest_float(\"gamma\", 0.1, 0.8)      # decay value for learning rate\n",
        "    #optimizer_name = trial.suggest_categorical(\"optimizer\", [\"Adam\", \"SGD\"]) # optimizer \n",
        "\n",
        "\n",
        "    # Generate the model optimizer and scheduler\n",
        "    model = TransformerModel(ntokens, emsize, nhead, nhid, nlayers, dropout).to(device)\n",
        "    #optimizer = getattr(optim, optimizer_name)(model.parameters(), lr=lr)\n",
        "    optimizer = torch.optim.SGD(model.parameters(), lr=lr)\n",
        "    scheduler = torch.optim.lr_scheduler.StepLR(optimizer, step_decay, gamma=gamma)\n",
        "\n",
        "    best_val_loss = float(\"inf\")\n",
        "    bptt=35\n",
        "\n",
        "    for epoch in range(1, epochs + 1):\n",
        "        epoch_start_time = time.time()\n",
        "        \n",
        "        # train model\n",
        "        model.train() # Turn on the train mode\n",
        "        train_total_loss = 0.\n",
        "        start_time = time.time()\n",
        "        src_mask = model.generate_square_subsequent_mask(bptt).to(device)\n",
        "        for batch, i in enumerate(range(0, train_loader.size(0) - 1, bptt)):\n",
        "            data, targets = get_batch(train_loader, i, bptt)\n",
        "            \n",
        "            if data.size(0) != bptt:\n",
        "                src_mask = model.generate_square_subsequent_mask(data.size(0)).to(device)\n",
        "                \n",
        "            output = model(data, src_mask) # complete\n",
        "            loss = criterion(output.view(-1, ntokens), targets) # complete\n",
        "            \n",
        "            optimizer.zero_grad()\n",
        "            loss.backward()\n",
        "            torch.nn.utils.clip_grad_norm_(model.parameters(), 0.5)\n",
        "            optimizer.step()\n",
        "\n",
        "            train_total_loss += loss.item()\n",
        "            log_interval = 200\n",
        "            if batch % log_interval == 0 and batch > 0:\n",
        "                cur_loss = train_total_loss / log_interval\n",
        "                elapsed = time.time() - start_time\n",
        "                # print('| epoch {:3d} | {:5d}/{:5d} batches | '\n",
        "                #       'lr {:02.2f} | ms/batch {:5.2f} | '\n",
        "                #       'loss {:5.2f} '.format(\n",
        "                #         epoch, batch, len(train_loader) // bptt, scheduler.get_last_lr()[0],\n",
        "                #         elapsed * 1000 / log_interval,\n",
        "                #         cur_loss))\n",
        "                train_total_loss = 0\n",
        "                start_time = time.time()\n",
        "        \n",
        "        # evaluate the model\n",
        "        model.eval() # Turn on the evaluation mode\n",
        "        val_total_loss = 0.\n",
        "        src_mask = model.generate_square_subsequent_mask(bptt).to(device)\n",
        "        with torch.no_grad():\n",
        "            for i in range(0, val_loader.size(0) - 1, bptt):\n",
        "                data, targets = get_batch(val_loader, i, bptt)\n",
        "                if data.size(0) != bptt:\n",
        "                    src_mask = model.generate_square_subsequent_mask(data.size(0)).to(device)\n",
        "                output = model(data, src_mask)\n",
        "                output_flat = output.view(-1, ntokens)\n",
        "                val_total_loss += len(data) * criterion(output_flat, targets).item()\n",
        "        val_loss = val_total_loss / (len(val_loader) - 1)\n",
        "\n",
        "        # print('-' * 89)\n",
        "        # print('| end of epoch {:3d} | time: {:5.2f}s | valid loss {:5.2f} '.format(epoch, (time.time() - epoch_start_time),\n",
        "        #                                 val_loss))\n",
        "        # print('-' * 89)\n",
        "\n",
        "        # report back to Optuna how far it is (epoch-wise) into the trial and how well it is doing (accuracy)\n",
        "        trial.report(val_loss, epoch)  \n",
        "\n",
        "        # then, Optuna can decide if the trial should be pruned\n",
        "        # Handle pruning based on the intermediate value.\n",
        "        if trial.should_prune():\n",
        "            send_message('Trial-{} was pruned at epoch {}.\\nValidation loss: {}'.format(trial.number, epoch, val_loss))\n",
        "            raise optuna.exceptions.TrialPruned()\n",
        "\n",
        "        # make a scheduler step\n",
        "        scheduler.step()\n",
        "\n",
        "    send_message('Trial-{} was done.\\nValidation loss: {}\\nParameters:\\n {}'.format(trial.number, val_loss, trial.params))\n",
        "    return val_loss"
      ],
      "execution_count": null,
      "outputs": []
    },
    {
      "cell_type": "markdown",
      "metadata": {
        "id": "MfKaUx0swVUa"
      },
      "source": [
        "### coarse optimization"
      ]
    },
    {
      "cell_type": "code",
      "metadata": {
        "colab": {
          "base_uri": "https://localhost:8080/"
        },
        "id": "5vY_pVOvuwOQ",
        "outputId": "81731d02-85ef-43a3-ab04-f6bd7ad1ab6b"
      },
      "source": [
        "# now we can run the experiment\n",
        "sampler = optuna.samplers.TPESampler()\n",
        "study = optuna.create_study(study_name=\"LM_Transformer\", direction=\"minimize\", sampler=sampler)\n",
        "study.optimize(objective, n_trials=40, timeout=42000)\n",
        "\n",
        "pruned_trials = [t for t in study.trials if t.state == optuna.trial.TrialState.PRUNED]\n",
        "complete_trials = [t for t in study.trials if t.state == optuna.trial.TrialState.COMPLETE]\n",
        "\n",
        "print(\"Study statistics: \")\n",
        "print(\"  Number of finished trials: \", len(study.trials))\n",
        "print(\"  Number of pruned trials: \", len(pruned_trials))\n",
        "print(\"  Number of complete trials: \", len(complete_trials))\n",
        "\n",
        "print(\"Best trial:\")\n",
        "trial = study.best_trial\n",
        "\n",
        "print(\"  Value: \", trial.value)\n",
        "\n",
        "print(\"  Params: \")\n",
        "for key, value in trial.params.items():\n",
        "    print(\"    {}: {}\".format(key, value))\n",
        "\n",
        "# send a message to my phone when training is done\n",
        "send_message('The optuna optimization process of the LM_transformer model hypereparameters is done.')"
      ],
      "execution_count": null,
      "outputs": [
        {
          "output_type": "stream",
          "text": [
            "\u001b[32m[I 2021-06-11 22:12:12,474]\u001b[0m A new study created in memory with name: LM_Transformer\u001b[0m\n",
            "\u001b[32m[I 2021-06-11 22:23:09,316]\u001b[0m Trial 0 finished with value: 6.741337957703095 and parameters: {'lr': 0.007764457379688287, 'nlayers': 2, 'nhid': 236, 'nhead': 2, 'dropout': 0.03922642721135107, 'step_decay': 3, 'gamma': 0.36435682347597437, 'optimizer': 'Adam'}. Best is trial 0 with value: 6.741337957703095.\u001b[0m\n",
            "\u001b[32m[I 2021-06-11 22:33:34,214]\u001b[0m Trial 1 finished with value: 5.128520877396054 and parameters: {'lr': 2.387173203654453, 'nlayers': 4, 'nhid': 207, 'nhead': 4, 'dropout': 0.177540143242814, 'step_decay': 2, 'gamma': 0.9177936870923482, 'optimizer': 'SGD'}. Best is trial 1 with value: 5.128520877396054.\u001b[0m\n",
            "\u001b[32m[I 2021-06-11 22:42:29,117]\u001b[0m Trial 2 finished with value: 6.112331306091684 and parameters: {'lr': 0.0243258695297438, 'nlayers': 2, 'nhid': 207, 'nhead': 3, 'dropout': 0.076328829331683, 'step_decay': 2, 'gamma': 0.6593860528855764, 'optimizer': 'SGD'}. Best is trial 1 with value: 5.128520877396054.\u001b[0m\n",
            "\u001b[32m[I 2021-06-11 22:51:24,428]\u001b[0m Trial 3 finished with value: 5.339962076657719 and parameters: {'lr': 1.5765946604748022, 'nlayers': 2, 'nhid': 237, 'nhead': 2, 'dropout': 0.023127421068645362, 'step_decay': 5, 'gamma': 0.9157047834905634, 'optimizer': 'SGD'}. Best is trial 1 with value: 5.128520877396054.\u001b[0m\n",
            "\u001b[32m[I 2021-06-11 23:00:21,291]\u001b[0m Trial 4 finished with value: 5.170516538064771 and parameters: {'lr': 0.5788349844316911, 'nlayers': 2, 'nhid': 246, 'nhead': 3, 'dropout': 0.1577129706547955, 'step_decay': 5, 'gamma': 0.8889972666217885, 'optimizer': 'SGD'}. Best is trial 1 with value: 5.128520877396054.\u001b[0m\n",
            "\u001b[32m[I 2021-06-11 23:01:33,823]\u001b[0m Trial 5 pruned. \u001b[0m\n",
            "\u001b[32m[I 2021-06-11 23:02:27,863]\u001b[0m Trial 6 pruned. \u001b[0m\n",
            "\u001b[32m[I 2021-06-11 23:03:41,254]\u001b[0m Trial 7 pruned. \u001b[0m\n",
            "\u001b[32m[I 2021-06-11 23:04:47,701]\u001b[0m Trial 8 pruned. \u001b[0m\n",
            "\u001b[32m[I 2021-06-11 23:06:00,464]\u001b[0m Trial 9 pruned. \u001b[0m\n",
            "\u001b[32m[I 2021-06-11 23:16:25,239]\u001b[0m Trial 10 finished with value: 5.222396758558595 and parameters: {'lr': 4.1140107860092545, 'nlayers': 4, 'nhid': 203, 'nhead': 4, 'dropout': 0.29310646195730417, 'step_decay': 1, 'gamma': 0.37452903170220364, 'optimizer': 'SGD'}. Best is trial 1 with value: 5.128520877396054.\u001b[0m\n",
            "\u001b[32m[I 2021-06-11 23:17:28,462]\u001b[0m Trial 11 pruned. \u001b[0m\n",
            "\u001b[32m[I 2021-06-11 23:18:31,540]\u001b[0m Trial 12 pruned. \u001b[0m\n",
            "\u001b[32m[I 2021-06-11 23:28:56,136]\u001b[0m Trial 13 finished with value: 5.244832754331865 and parameters: {'lr': 3.308096201302672, 'nlayers': 4, 'nhid': 212, 'nhead': 4, 'dropout': 0.09860143683211935, 'step_decay': 4, 'gamma': 0.9493109865877933, 'optimizer': 'SGD'}. Best is trial 1 with value: 5.128520877396054.\u001b[0m\n",
            "\u001b[32m[I 2021-06-11 23:29:56,028]\u001b[0m Trial 14 pruned. \u001b[0m\n",
            "\u001b[32m[I 2021-06-11 23:30:55,578]\u001b[0m Trial 15 pruned. \u001b[0m\n",
            "\u001b[32m[I 2021-06-11 23:41:20,185]\u001b[0m Trial 16 finished with value: 5.032201233296627 and parameters: {'lr': 1.319620190858124, 'nlayers': 4, 'nhid': 200, 'nhead': 3, 'dropout': 0.16867628112573016, 'step_decay': 3, 'gamma': 0.46694718853081485, 'optimizer': 'SGD'}. Best is trial 16 with value: 5.032201233296627.\u001b[0m\n",
            "\u001b[32m[I 2021-06-11 23:51:44,846]\u001b[0m Trial 17 finished with value: 5.006040703925726 and parameters: {'lr': 1.809465610299424, 'nlayers': 4, 'nhid': 201, 'nhead': 4, 'dropout': 0.1793637541865675, 'step_decay': 3, 'gamma': 0.47795124902783, 'optimizer': 'SGD'}. Best is trial 17 with value: 5.006040703925726.\u001b[0m\n",
            "\u001b[32m[I 2021-06-11 23:52:47,892]\u001b[0m Trial 18 pruned. \u001b[0m\n",
            "\u001b[32m[I 2021-06-12 00:03:12,478]\u001b[0m Trial 19 finished with value: 5.018577386251541 and parameters: {'lr': 1.2386085132605098, 'nlayers': 4, 'nhid': 202, 'nhead': 4, 'dropout': 0.11636103908512342, 'step_decay': 4, 'gamma': 0.4749247781717138, 'optimizer': 'SGD'}. Best is trial 17 with value: 5.006040703925726.\u001b[0m\n",
            "\u001b[32m[I 2021-06-12 00:06:20,390]\u001b[0m Trial 20 pruned. \u001b[0m\n",
            "\u001b[32m[I 2021-06-12 00:07:23,474]\u001b[0m Trial 21 pruned. \u001b[0m\n",
            "\u001b[32m[I 2021-06-12 00:08:26,518]\u001b[0m Trial 22 pruned. \u001b[0m\n",
            "\u001b[32m[I 2021-06-12 00:11:34,336]\u001b[0m Trial 23 pruned. \u001b[0m\n",
            "\u001b[32m[I 2021-06-12 00:12:37,381]\u001b[0m Trial 24 pruned. \u001b[0m\n",
            "\u001b[32m[I 2021-06-12 00:13:40,503]\u001b[0m Trial 25 pruned. \u001b[0m\n",
            "\u001b[32m[I 2021-06-12 00:14:40,092]\u001b[0m Trial 26 pruned. \u001b[0m\n",
            "\u001b[32m[I 2021-06-12 00:25:04,847]\u001b[0m Trial 27 finished with value: 4.982590959261633 and parameters: {'lr': 2.2331678335436838, 'nlayers': 4, 'nhid': 210, 'nhead': 4, 'dropout': 0.1710362710131689, 'step_decay': 3, 'gamma': 0.3177143922830437, 'optimizer': 'SGD'}. Best is trial 27 with value: 4.982590959261633.\u001b[0m\n",
            "\u001b[32m[I 2021-06-12 00:35:29,479]\u001b[0m Trial 28 finished with value: 4.997933280252673 and parameters: {'lr': 2.243832936030727, 'nlayers': 4, 'nhid': 209, 'nhead': 4, 'dropout': 0.11549028684318853, 'step_decay': 4, 'gamma': 0.33182558156587544, 'optimizer': 'SGD'}. Best is trial 27 with value: 4.982590959261633.\u001b[0m\n",
            "\u001b[32m[I 2021-06-12 00:36:41,194]\u001b[0m Trial 29 pruned. \u001b[0m\n",
            "\u001b[32m[I 2021-06-12 00:37:44,298]\u001b[0m Trial 30 pruned. \u001b[0m\n",
            "\u001b[32m[I 2021-06-12 00:48:08,954]\u001b[0m Trial 31 finished with value: 5.017538515513962 and parameters: {'lr': 2.7034807749240035, 'nlayers': 4, 'nhid': 210, 'nhead': 4, 'dropout': 0.11541508267124655, 'step_decay': 4, 'gamma': 0.3543788131912465, 'optimizer': 'SGD'}. Best is trial 27 with value: 4.982590959261633.\u001b[0m\n",
            "\u001b[32m[I 2021-06-12 00:58:33,550]\u001b[0m Trial 32 finished with value: 5.00938675324246 and parameters: {'lr': 2.6330509012991166, 'nlayers': 4, 'nhid': 210, 'nhead': 4, 'dropout': 0.1399011463835829, 'step_decay': 4, 'gamma': 0.3439718468129084, 'optimizer': 'SGD'}. Best is trial 27 with value: 4.982590959261633.\u001b[0m\n",
            "\u001b[32m[I 2021-06-12 01:08:58,175]\u001b[0m Trial 33 finished with value: 4.989878662218146 and parameters: {'lr': 2.3067235739392733, 'nlayers': 4, 'nhid': 205, 'nhead': 4, 'dropout': 0.14478546238651746, 'step_decay': 2, 'gamma': 0.4109323815341397, 'optimizer': 'SGD'}. Best is trial 27 with value: 4.982590959261633.\u001b[0m\n",
            "\u001b[32m[I 2021-06-12 01:10:01,368]\u001b[0m Trial 34 pruned. \u001b[0m\n",
            "\u001b[32m[I 2021-06-12 01:20:26,051]\u001b[0m Trial 35 finished with value: 5.002594138498954 and parameters: {'lr': 1.9516672307077594, 'nlayers': 4, 'nhid': 207, 'nhead': 4, 'dropout': 0.08445076738638245, 'step_decay': 2, 'gamma': 0.4162068844013416, 'optimizer': 'SGD'}. Best is trial 27 with value: 4.982590959261633.\u001b[0m\n",
            "\u001b[32m[I 2021-06-12 01:21:29,162]\u001b[0m Trial 36 pruned. \u001b[0m\n",
            "\u001b[32m[I 2021-06-12 01:31:53,850]\u001b[0m Trial 37 pruned. \u001b[0m\n"
          ],
          "name": "stderr"
        }
      ]
    },
    {
      "cell_type": "markdown",
      "metadata": {
        "id": "09plaAnKwXik"
      },
      "source": [
        "### Fine optimization"
      ]
    },
    {
      "cell_type": "code",
      "metadata": {
        "colab": {
          "base_uri": "https://localhost:8080/"
        },
        "id": "kafHlBjgxV53",
        "outputId": "f4c23df5-e7ee-4ac8-fcd3-b75c8f92648e"
      },
      "source": [
        "# now we can run the experiment\n",
        "sampler = optuna.samplers.TPESampler()\n",
        "study = optuna.create_study(study_name=\"LM_Transformer\", direction=\"minimize\", sampler=sampler)\n",
        "study.optimize(objective, n_trials=40, timeout=42000)\n",
        "\n",
        "pruned_trials = [t for t in study.trials if t.state == optuna.trial.TrialState.PRUNED]\n",
        "complete_trials = [t for t in study.trials if t.state == optuna.trial.TrialState.COMPLETE]\n",
        "\n",
        "print(\"Study statistics: \")\n",
        "print(\"  Number of finished trials: \", len(study.trials))\n",
        "print(\"  Number of pruned trials: \", len(pruned_trials))\n",
        "print(\"  Number of complete trials: \", len(complete_trials))\n",
        "\n",
        "print(\"Best trial:\")\n",
        "trial = study.best_trial\n",
        "\n",
        "print(\"  Value: \", trial.value)\n",
        "\n",
        "print(\"  Params: \")\n",
        "for key, value in trial.params.items():\n",
        "    print(\"    {}: {}\".format(key, value))\n",
        "\n",
        "# send a message to my phone when training is done\n",
        "send_message('The optuna optimization process of the LM_transformer model hypereparameters is done.')"
      ],
      "execution_count": null,
      "outputs": [
        {
          "output_type": "stream",
          "text": [
            "\u001b[32m[I 2021-06-12 16:18:54,343]\u001b[0m A new study created in memory with name: LM_Transformer\u001b[0m\n",
            "\u001b[32m[I 2021-06-12 16:33:30,591]\u001b[0m Trial 0 finished with value: 5.160392798653464 and parameters: {'emsize': 216, 'lr': 2.12165323781079, 'nlayers': 3, 'nhid': 248, 'nhead': 4, 'dropout': 0.2915723945731309, 'step_decay': 3, 'gamma': 0.6416670741578635}. Best is trial 0 with value: 5.160392798653464.\u001b[0m\n",
            "\u001b[32m[I 2021-06-12 16:49:22,996]\u001b[0m Trial 1 finished with value: 5.142858905360298 and parameters: {'emsize': 216, 'lr': 2.637413636581579, 'nlayers': 4, 'nhid': 208, 'nhead': 4, 'dropout': 0.20763145610103886, 'step_decay': 4, 'gamma': 0.71538465981417}. Best is trial 1 with value: 5.142858905360298.\u001b[0m\n",
            "\u001b[32m[I 2021-06-12 17:03:27,311]\u001b[0m Trial 2 finished with value: 5.097587898910521 and parameters: {'emsize': 240, 'lr': 2.387677644711462, 'nlayers': 2, 'nhid': 224, 'nhead': 4, 'dropout': 0.13071221255279464, 'step_decay': 1, 'gamma': 0.48350324497600083}. Best is trial 2 with value: 5.097587898910521.\u001b[0m\n",
            "\u001b[32m[I 2021-06-12 17:17:02,189]\u001b[0m Trial 3 finished with value: 5.056086655376571 and parameters: {'emsize': 216, 'lr': 2.269584192805545, 'nlayers': 2, 'nhid': 212, 'nhead': 4, 'dropout': 0.18428227745382458, 'step_decay': 3, 'gamma': 0.12413634025588427}. Best is trial 3 with value: 5.056086655376571.\u001b[0m\n",
            "\u001b[32m[I 2021-06-12 17:31:34,474]\u001b[0m Trial 4 finished with value: 5.097297099854842 and parameters: {'emsize': 216, 'lr': 2.549911034301068, 'nlayers': 3, 'nhid': 201, 'nhead': 4, 'dropout': 0.17933945966567108, 'step_decay': 4, 'gamma': 0.3947811906548898}. Best is trial 3 with value: 5.056086655376571.\u001b[0m\n",
            "\u001b[32m[I 2021-06-12 17:33:31,790]\u001b[0m Trial 5 pruned. \u001b[0m\n",
            "\u001b[32m[I 2021-06-12 17:35:53,122]\u001b[0m Trial 6 pruned. \u001b[0m\n",
            "\u001b[32m[I 2021-06-12 17:52:16,374]\u001b[0m Trial 7 finished with value: 5.040194518539682 and parameters: {'emsize': 240, 'lr': 2.3207393953966555, 'nlayers': 4, 'nhid': 223, 'nhead': 4, 'dropout': 0.17838446802589364, 'step_decay': 2, 'gamma': 0.4743508121114588}. Best is trial 7 with value: 5.040194518539682.\u001b[0m\n",
            "\u001b[32m[I 2021-06-12 18:08:09,524]\u001b[0m Trial 8 finished with value: 5.073691824261358 and parameters: {'emsize': 216, 'lr': 2.287093387840854, 'nlayers': 4, 'nhid': 244, 'nhead': 3, 'dropout': 0.12737238602582715, 'step_decay': 2, 'gamma': 0.7935650311509738}. Best is trial 7 with value: 5.040194518539682.\u001b[0m\n",
            "\u001b[32m[I 2021-06-12 18:13:59,746]\u001b[0m Trial 9 pruned. \u001b[0m\n",
            "\u001b[32m[I 2021-06-12 18:23:21,056]\u001b[0m Trial 10 pruned. \u001b[0m\n",
            "\u001b[32m[I 2021-06-12 18:38:28,114]\u001b[0m Trial 11 finished with value: 4.999077273145259 and parameters: {'emsize': 240, 'lr': 2.9532273669338855, 'nlayers': 3, 'nhid': 214, 'nhead': 2, 'dropout': 0.0679924404226665, 'step_decay': 3, 'gamma': 0.11387398408524015}. Best is trial 11 with value: 4.999077273145259.\u001b[0m\n",
            "\u001b[32m[I 2021-06-12 18:53:33,265]\u001b[0m Trial 12 finished with value: 5.050836703927486 and parameters: {'emsize': 240, 'lr': 2.9622135423592324, 'nlayers': 3, 'nhid': 214, 'nhead': 2, 'dropout': 0.056899715509401996, 'step_decay': 3, 'gamma': 0.2997542639883056}. Best is trial 11 with value: 4.999077273145259.\u001b[0m\n",
            "\u001b[32m[I 2021-06-12 19:02:10,451]\u001b[0m Trial 13 pruned. \u001b[0m\n",
            "\u001b[32m[I 2021-06-12 19:11:32,605]\u001b[0m Trial 14 pruned. \u001b[0m\n",
            "\u001b[32m[I 2021-06-12 19:13:44,183]\u001b[0m Trial 15 pruned. \u001b[0m\n",
            "\u001b[32m[I 2021-06-12 19:30:16,077]\u001b[0m Trial 16 finished with value: 5.038435943799724 and parameters: {'emsize': 240, 'lr': 1.8987226073837598, 'nlayers': 4, 'nhid': 218, 'nhead': 3, 'dropout': 0.014873939951602883, 'step_decay': 2, 'gamma': 0.1861770576322967}. Best is trial 11 with value: 4.999077273145259.\u001b[0m\n",
            "\u001b[32m[I 2021-06-12 19:45:27,423]\u001b[0m Trial 17 finished with value: 5.043236000679738 and parameters: {'emsize': 240, 'lr': 1.8061677484693233, 'nlayers': 3, 'nhid': 207, 'nhead': 3, 'dropout': 0.011936434833965514, 'step_decay': 3, 'gamma': 0.19002183514091936}. Best is trial 11 with value: 4.999077273145259.\u001b[0m\n",
            "\u001b[32m[I 2021-06-12 20:01:55,131]\u001b[0m Trial 18 finished with value: 5.0459569167443785 and parameters: {'emsize': 240, 'lr': 1.9290057349096748, 'nlayers': 4, 'nhid': 218, 'nhead': 2, 'dropout': 0.044769626229443873, 'step_decay': 2, 'gamma': 0.11073534413029781}. Best is trial 11 with value: 4.999077273145259.\u001b[0m\n",
            "\u001b[32m[I 2021-06-12 20:17:07,464]\u001b[0m Trial 19 finished with value: 5.035496179371364 and parameters: {'emsize': 240, 'lr': 1.5138890839453072, 'nlayers': 3, 'nhid': 206, 'nhead': 3, 'dropout': 0.037402275487701496, 'step_decay': 3, 'gamma': 0.20473743771164046}. Best is trial 11 with value: 4.999077273145259.\u001b[0m\n",
            "\u001b[32m[I 2021-06-12 20:19:18,228]\u001b[0m Trial 20 pruned. \u001b[0m\n",
            "\u001b[32m[I 2021-06-12 20:34:31,839]\u001b[0m Trial 21 finished with value: 5.028505911057206 and parameters: {'emsize': 240, 'lr': 1.6829020967416268, 'nlayers': 3, 'nhid': 215, 'nhead': 3, 'dropout': 0.037325664660693814, 'step_decay': 3, 'gamma': 0.19414206102443016}. Best is trial 11 with value: 4.999077273145259.\u001b[0m\n",
            "\u001b[32m[I 2021-06-12 20:49:44,161]\u001b[0m Trial 22 finished with value: 5.0269072738043095 and parameters: {'emsize': 240, 'lr': 1.680555834536628, 'nlayers': 3, 'nhid': 212, 'nhead': 3, 'dropout': 0.046592700934888556, 'step_decay': 3, 'gamma': 0.19025144715133657}. Best is trial 11 with value: 4.999077273145259.\u001b[0m\n",
            "\u001b[32m[I 2021-06-12 20:51:55,335]\u001b[0m Trial 23 pruned. \u001b[0m\n",
            "\u001b[32m[I 2021-06-12 20:58:25,640]\u001b[0m Trial 24 pruned. \u001b[0m\n",
            "\u001b[32m[I 2021-06-12 21:00:36,689]\u001b[0m Trial 25 pruned. \u001b[0m\n",
            "\u001b[32m[I 2021-06-12 21:04:39,987]\u001b[0m Trial 26 pruned. \u001b[0m\n",
            "\u001b[32m[I 2021-06-12 21:15:30,063]\u001b[0m Trial 27 pruned. \u001b[0m\n",
            "\u001b[32m[I 2021-06-12 21:22:01,743]\u001b[0m Trial 28 pruned. \u001b[0m\n",
            "\u001b[32m[I 2021-06-12 21:24:12,830]\u001b[0m Trial 29 pruned. \u001b[0m\n",
            "\u001b[32m[I 2021-06-12 21:32:19,438]\u001b[0m Trial 30 pruned. \u001b[0m\n",
            "\u001b[32m[I 2021-06-12 21:34:29,730]\u001b[0m Trial 31 pruned. \u001b[0m\n",
            "\u001b[32m[I 2021-06-12 21:38:49,430]\u001b[0m Trial 32 pruned. \u001b[0m\n",
            "\u001b[32m[I 2021-06-12 21:53:53,144]\u001b[0m Trial 33 finished with value: 5.0066618720890785 and parameters: {'emsize': 240, 'lr': 2.490729324517335, 'nlayers': 3, 'nhid': 211, 'nhead': 3, 'dropout': 0.08473754521178828, 'step_decay': 3, 'gamma': 0.21100526731594993}. Best is trial 11 with value: 4.999077273145259.\u001b[0m\n",
            "\u001b[32m[I 2021-06-12 22:00:20,620]\u001b[0m Trial 34 pruned. \u001b[0m\n",
            "\u001b[32m[I 2021-06-12 22:02:30,414]\u001b[0m Trial 35 pruned. \u001b[0m\n",
            "\u001b[32m[I 2021-06-12 22:08:31,127]\u001b[0m Trial 36 pruned. \u001b[0m\n",
            "\u001b[32m[I 2021-06-12 22:12:39,839]\u001b[0m Trial 37 pruned. \u001b[0m\n",
            "\u001b[32m[I 2021-06-12 22:16:58,491]\u001b[0m Trial 38 pruned. \u001b[0m\n",
            "\u001b[32m[I 2021-06-12 22:21:16,423]\u001b[0m Trial 39 pruned. \u001b[0m\n"
          ],
          "name": "stderr"
        },
        {
          "output_type": "stream",
          "text": [
            "Study statistics: \n",
            "  Number of finished trials:  40\n",
            "  Number of pruned trials:  24\n",
            "  Number of complete trials:  16\n",
            "Best trial:\n",
            "  Value:  4.999077273145259\n",
            "  Params: \n",
            "    emsize: 240\n",
            "    lr: 2.9532273669338855\n",
            "    nlayers: 3\n",
            "    nhid: 214\n",
            "    nhead: 2\n",
            "    dropout: 0.0679924404226665\n",
            "    step_decay: 3\n",
            "    gamma: 0.11387398408524015\n"
          ],
          "name": "stdout"
        }
      ]
    },
    {
      "cell_type": "code",
      "metadata": {
        "id": "MnlTSYoSCocX",
        "colab": {
          "base_uri": "https://localhost:8080/",
          "height": 542
        },
        "outputId": "c88b093e-f078-40fc-9636-cff99d2477e6"
      },
      "source": [
        "optuna.visualization.plot_param_importances(study)"
      ],
      "execution_count": null,
      "outputs": [
        {
          "output_type": "display_data",
          "data": {
            "text/html": [
              "<html>\n",
              "<head><meta charset=\"utf-8\" /></head>\n",
              "<body>\n",
              "    <div>\n",
              "            <script src=\"https://cdnjs.cloudflare.com/ajax/libs/mathjax/2.7.5/MathJax.js?config=TeX-AMS-MML_SVG\"></script><script type=\"text/javascript\">if (window.MathJax) {MathJax.Hub.Config({SVG: {font: \"STIX-Web\"}});}</script>\n",
              "                <script type=\"text/javascript\">window.PlotlyConfig = {MathJaxConfig: 'local'};</script>\n",
              "        <script src=\"https://cdn.plot.ly/plotly-latest.min.js\"></script>    \n",
              "            <div id=\"20d95a99-5aa0-4628-9dbe-ee2901f96868\" class=\"plotly-graph-div\" style=\"height:525px; width:100%;\"></div>\n",
              "            <script type=\"text/javascript\">\n",
              "                \n",
              "                    window.PLOTLYENV=window.PLOTLYENV || {};\n",
              "                    \n",
              "                if (document.getElementById(\"20d95a99-5aa0-4628-9dbe-ee2901f96868\")) {\n",
              "                    Plotly.newPlot(\n",
              "                        '20d95a99-5aa0-4628-9dbe-ee2901f96868',\n",
              "                        [{\"cliponaxis\": false, \"hovertemplate\": [\"nlayers (IntUniformDistribution): 0.010108501657829828<extra></extra>\", \"step_decay (IntUniformDistribution): 0.02331428240902003<extra></extra>\", \"emsize (CategoricalDistribution): 0.03770448323143016<extra></extra>\", \"nhead (IntUniformDistribution): 0.06056110927029623<extra></extra>\", \"lr (UniformDistribution): 0.06444757063551623<extra></extra>\", \"nhid (IntUniformDistribution): 0.07938303987090355<extra></extra>\", \"dropout (UniformDistribution): 0.2782685979283164<extra></extra>\", \"gamma (UniformDistribution): 0.4462124149966878<extra></extra>\"], \"marker\": {\"color\": \"rgb(66,146,198)\"}, \"orientation\": \"h\", \"text\": [\"0.010108501657829828\", \"0.02331428240902003\", \"0.03770448323143016\", \"0.06056110927029623\", \"0.06444757063551623\", \"0.07938303987090355\", \"0.2782685979283164\", \"0.4462124149966878\"], \"textposition\": \"outside\", \"texttemplate\": \"%{text:.2f}\", \"type\": \"bar\", \"x\": [0.010108501657829828, 0.02331428240902003, 0.03770448323143016, 0.06056110927029623, 0.06444757063551623, 0.07938303987090355, 0.2782685979283164, 0.4462124149966878], \"y\": [\"nlayers\", \"step_decay\", \"emsize\", \"nhead\", \"lr\", \"nhid\", \"dropout\", \"gamma\"]}],\n",
              "                        {\"showlegend\": false, \"template\": {\"data\": {\"bar\": [{\"error_x\": {\"color\": \"#2a3f5f\"}, \"error_y\": {\"color\": \"#2a3f5f\"}, \"marker\": {\"line\": {\"color\": \"#E5ECF6\", \"width\": 0.5}}, \"type\": \"bar\"}], \"barpolar\": [{\"marker\": {\"line\": {\"color\": \"#E5ECF6\", \"width\": 0.5}}, \"type\": \"barpolar\"}], \"carpet\": [{\"aaxis\": {\"endlinecolor\": \"#2a3f5f\", \"gridcolor\": \"white\", \"linecolor\": \"white\", \"minorgridcolor\": \"white\", \"startlinecolor\": \"#2a3f5f\"}, \"baxis\": {\"endlinecolor\": \"#2a3f5f\", \"gridcolor\": \"white\", \"linecolor\": \"white\", \"minorgridcolor\": \"white\", \"startlinecolor\": \"#2a3f5f\"}, \"type\": \"carpet\"}], \"choropleth\": [{\"colorbar\": {\"outlinewidth\": 0, \"ticks\": \"\"}, \"type\": \"choropleth\"}], \"contour\": [{\"colorbar\": {\"outlinewidth\": 0, \"ticks\": \"\"}, \"colorscale\": [[0.0, \"#0d0887\"], [0.1111111111111111, \"#46039f\"], [0.2222222222222222, \"#7201a8\"], [0.3333333333333333, \"#9c179e\"], [0.4444444444444444, \"#bd3786\"], [0.5555555555555556, \"#d8576b\"], [0.6666666666666666, \"#ed7953\"], [0.7777777777777778, \"#fb9f3a\"], [0.8888888888888888, \"#fdca26\"], [1.0, \"#f0f921\"]], \"type\": \"contour\"}], \"contourcarpet\": [{\"colorbar\": {\"outlinewidth\": 0, \"ticks\": \"\"}, \"type\": \"contourcarpet\"}], \"heatmap\": [{\"colorbar\": {\"outlinewidth\": 0, \"ticks\": \"\"}, \"colorscale\": [[0.0, \"#0d0887\"], [0.1111111111111111, \"#46039f\"], [0.2222222222222222, \"#7201a8\"], [0.3333333333333333, \"#9c179e\"], [0.4444444444444444, \"#bd3786\"], [0.5555555555555556, \"#d8576b\"], [0.6666666666666666, \"#ed7953\"], [0.7777777777777778, \"#fb9f3a\"], [0.8888888888888888, \"#fdca26\"], [1.0, \"#f0f921\"]], \"type\": \"heatmap\"}], \"heatmapgl\": [{\"colorbar\": {\"outlinewidth\": 0, \"ticks\": \"\"}, \"colorscale\": [[0.0, \"#0d0887\"], [0.1111111111111111, \"#46039f\"], [0.2222222222222222, \"#7201a8\"], [0.3333333333333333, \"#9c179e\"], [0.4444444444444444, \"#bd3786\"], [0.5555555555555556, \"#d8576b\"], [0.6666666666666666, \"#ed7953\"], [0.7777777777777778, \"#fb9f3a\"], [0.8888888888888888, \"#fdca26\"], [1.0, \"#f0f921\"]], \"type\": \"heatmapgl\"}], \"histogram\": [{\"marker\": {\"colorbar\": {\"outlinewidth\": 0, \"ticks\": \"\"}}, \"type\": \"histogram\"}], \"histogram2d\": [{\"colorbar\": {\"outlinewidth\": 0, \"ticks\": \"\"}, \"colorscale\": [[0.0, \"#0d0887\"], [0.1111111111111111, \"#46039f\"], [0.2222222222222222, \"#7201a8\"], [0.3333333333333333, \"#9c179e\"], [0.4444444444444444, \"#bd3786\"], [0.5555555555555556, \"#d8576b\"], [0.6666666666666666, \"#ed7953\"], [0.7777777777777778, \"#fb9f3a\"], [0.8888888888888888, \"#fdca26\"], [1.0, \"#f0f921\"]], \"type\": \"histogram2d\"}], \"histogram2dcontour\": [{\"colorbar\": {\"outlinewidth\": 0, \"ticks\": \"\"}, \"colorscale\": [[0.0, \"#0d0887\"], [0.1111111111111111, \"#46039f\"], [0.2222222222222222, \"#7201a8\"], [0.3333333333333333, \"#9c179e\"], [0.4444444444444444, \"#bd3786\"], [0.5555555555555556, \"#d8576b\"], [0.6666666666666666, \"#ed7953\"], [0.7777777777777778, \"#fb9f3a\"], [0.8888888888888888, \"#fdca26\"], [1.0, \"#f0f921\"]], \"type\": \"histogram2dcontour\"}], \"mesh3d\": [{\"colorbar\": {\"outlinewidth\": 0, \"ticks\": \"\"}, \"type\": \"mesh3d\"}], \"parcoords\": [{\"line\": {\"colorbar\": {\"outlinewidth\": 0, \"ticks\": \"\"}}, \"type\": \"parcoords\"}], \"pie\": [{\"automargin\": true, \"type\": \"pie\"}], \"scatter\": [{\"marker\": {\"colorbar\": {\"outlinewidth\": 0, \"ticks\": \"\"}}, \"type\": \"scatter\"}], \"scatter3d\": [{\"line\": {\"colorbar\": {\"outlinewidth\": 0, \"ticks\": \"\"}}, \"marker\": {\"colorbar\": {\"outlinewidth\": 0, \"ticks\": \"\"}}, \"type\": \"scatter3d\"}], \"scattercarpet\": [{\"marker\": {\"colorbar\": {\"outlinewidth\": 0, \"ticks\": \"\"}}, \"type\": \"scattercarpet\"}], \"scattergeo\": [{\"marker\": {\"colorbar\": {\"outlinewidth\": 0, \"ticks\": \"\"}}, \"type\": \"scattergeo\"}], \"scattergl\": [{\"marker\": {\"colorbar\": {\"outlinewidth\": 0, \"ticks\": \"\"}}, \"type\": \"scattergl\"}], \"scattermapbox\": [{\"marker\": {\"colorbar\": {\"outlinewidth\": 0, \"ticks\": \"\"}}, \"type\": \"scattermapbox\"}], \"scatterpolar\": [{\"marker\": {\"colorbar\": {\"outlinewidth\": 0, \"ticks\": \"\"}}, \"type\": \"scatterpolar\"}], \"scatterpolargl\": [{\"marker\": {\"colorbar\": {\"outlinewidth\": 0, \"ticks\": \"\"}}, \"type\": \"scatterpolargl\"}], \"scatterternary\": [{\"marker\": {\"colorbar\": {\"outlinewidth\": 0, \"ticks\": \"\"}}, \"type\": \"scatterternary\"}], \"surface\": [{\"colorbar\": {\"outlinewidth\": 0, \"ticks\": \"\"}, \"colorscale\": [[0.0, \"#0d0887\"], [0.1111111111111111, \"#46039f\"], [0.2222222222222222, \"#7201a8\"], [0.3333333333333333, \"#9c179e\"], [0.4444444444444444, \"#bd3786\"], [0.5555555555555556, \"#d8576b\"], [0.6666666666666666, \"#ed7953\"], [0.7777777777777778, \"#fb9f3a\"], [0.8888888888888888, \"#fdca26\"], [1.0, \"#f0f921\"]], \"type\": \"surface\"}], \"table\": [{\"cells\": {\"fill\": {\"color\": \"#EBF0F8\"}, \"line\": {\"color\": \"white\"}}, \"header\": {\"fill\": {\"color\": \"#C8D4E3\"}, \"line\": {\"color\": \"white\"}}, \"type\": \"table\"}]}, \"layout\": {\"annotationdefaults\": {\"arrowcolor\": \"#2a3f5f\", \"arrowhead\": 0, \"arrowwidth\": 1}, \"coloraxis\": {\"colorbar\": {\"outlinewidth\": 0, \"ticks\": \"\"}}, \"colorscale\": {\"diverging\": [[0, \"#8e0152\"], [0.1, \"#c51b7d\"], [0.2, \"#de77ae\"], [0.3, \"#f1b6da\"], [0.4, \"#fde0ef\"], [0.5, \"#f7f7f7\"], [0.6, \"#e6f5d0\"], [0.7, \"#b8e186\"], [0.8, \"#7fbc41\"], [0.9, \"#4d9221\"], [1, \"#276419\"]], \"sequential\": [[0.0, \"#0d0887\"], [0.1111111111111111, \"#46039f\"], [0.2222222222222222, \"#7201a8\"], [0.3333333333333333, \"#9c179e\"], [0.4444444444444444, \"#bd3786\"], [0.5555555555555556, \"#d8576b\"], [0.6666666666666666, \"#ed7953\"], [0.7777777777777778, \"#fb9f3a\"], [0.8888888888888888, \"#fdca26\"], [1.0, \"#f0f921\"]], \"sequentialminus\": [[0.0, \"#0d0887\"], [0.1111111111111111, \"#46039f\"], [0.2222222222222222, \"#7201a8\"], [0.3333333333333333, \"#9c179e\"], [0.4444444444444444, \"#bd3786\"], [0.5555555555555556, \"#d8576b\"], [0.6666666666666666, \"#ed7953\"], [0.7777777777777778, \"#fb9f3a\"], [0.8888888888888888, \"#fdca26\"], [1.0, \"#f0f921\"]]}, \"colorway\": [\"#636efa\", \"#EF553B\", \"#00cc96\", \"#ab63fa\", \"#FFA15A\", \"#19d3f3\", \"#FF6692\", \"#B6E880\", \"#FF97FF\", \"#FECB52\"], \"font\": {\"color\": \"#2a3f5f\"}, \"geo\": {\"bgcolor\": \"white\", \"lakecolor\": \"white\", \"landcolor\": \"#E5ECF6\", \"showlakes\": true, \"showland\": true, \"subunitcolor\": \"white\"}, \"hoverlabel\": {\"align\": \"left\"}, \"hovermode\": \"closest\", \"mapbox\": {\"style\": \"light\"}, \"paper_bgcolor\": \"white\", \"plot_bgcolor\": \"#E5ECF6\", \"polar\": {\"angularaxis\": {\"gridcolor\": \"white\", \"linecolor\": \"white\", \"ticks\": \"\"}, \"bgcolor\": \"#E5ECF6\", \"radialaxis\": {\"gridcolor\": \"white\", \"linecolor\": \"white\", \"ticks\": \"\"}}, \"scene\": {\"xaxis\": {\"backgroundcolor\": \"#E5ECF6\", \"gridcolor\": \"white\", \"gridwidth\": 2, \"linecolor\": \"white\", \"showbackground\": true, \"ticks\": \"\", \"zerolinecolor\": \"white\"}, \"yaxis\": {\"backgroundcolor\": \"#E5ECF6\", \"gridcolor\": \"white\", \"gridwidth\": 2, \"linecolor\": \"white\", \"showbackground\": true, \"ticks\": \"\", \"zerolinecolor\": \"white\"}, \"zaxis\": {\"backgroundcolor\": \"#E5ECF6\", \"gridcolor\": \"white\", \"gridwidth\": 2, \"linecolor\": \"white\", \"showbackground\": true, \"ticks\": \"\", \"zerolinecolor\": \"white\"}}, \"shapedefaults\": {\"line\": {\"color\": \"#2a3f5f\"}}, \"ternary\": {\"aaxis\": {\"gridcolor\": \"white\", \"linecolor\": \"white\", \"ticks\": \"\"}, \"baxis\": {\"gridcolor\": \"white\", \"linecolor\": \"white\", \"ticks\": \"\"}, \"bgcolor\": \"#E5ECF6\", \"caxis\": {\"gridcolor\": \"white\", \"linecolor\": \"white\", \"ticks\": \"\"}}, \"title\": {\"x\": 0.05}, \"xaxis\": {\"automargin\": true, \"gridcolor\": \"white\", \"linecolor\": \"white\", \"ticks\": \"\", \"title\": {\"standoff\": 15}, \"zerolinecolor\": \"white\", \"zerolinewidth\": 2}, \"yaxis\": {\"automargin\": true, \"gridcolor\": \"white\", \"linecolor\": \"white\", \"ticks\": \"\", \"title\": {\"standoff\": 15}, \"zerolinecolor\": \"white\", \"zerolinewidth\": 2}}}, \"title\": {\"text\": \"Hyperparameter Importances\"}, \"xaxis\": {\"title\": {\"text\": \"Importance for Objective Value\"}}, \"yaxis\": {\"title\": {\"text\": \"Hyperparameter\"}}},\n",
              "                        {\"responsive\": true}\n",
              "                    ).then(function(){\n",
              "                            \n",
              "var gd = document.getElementById('20d95a99-5aa0-4628-9dbe-ee2901f96868');\n",
              "var x = new MutationObserver(function (mutations, observer) {{\n",
              "        var display = window.getComputedStyle(gd).display;\n",
              "        if (!display || display === 'none') {{\n",
              "            console.log([gd, 'removed!']);\n",
              "            Plotly.purge(gd);\n",
              "            observer.disconnect();\n",
              "        }}\n",
              "}});\n",
              "\n",
              "// Listen for the removal of the full notebook cells\n",
              "var notebookContainer = gd.closest('#notebook-container');\n",
              "if (notebookContainer) {{\n",
              "    x.observe(notebookContainer, {childList: true});\n",
              "}}\n",
              "\n",
              "// Listen for the clearing of the current output cell\n",
              "var outputEl = gd.closest('.output');\n",
              "if (outputEl) {{\n",
              "    x.observe(outputEl, {childList: true});\n",
              "}}\n",
              "\n",
              "                        })\n",
              "                };\n",
              "                \n",
              "            </script>\n",
              "        </div>\n",
              "</body>\n",
              "</html>"
            ]
          },
          "metadata": {
            "tags": []
          }
        }
      ]
    },
    {
      "cell_type": "code",
      "metadata": {
        "id": "t5J0WZFLksFs",
        "colab": {
          "base_uri": "https://localhost:8080/",
          "height": 542
        },
        "outputId": "26c31d1b-85d3-44b2-9c0f-f14e1818f76c"
      },
      "source": [
        "optuna.visualization.plot_contour(study, params=[\"lr\", \"dropout\"])"
      ],
      "execution_count": null,
      "outputs": [
        {
          "output_type": "display_data",
          "data": {
            "text/html": [
              "<html>\n",
              "<head><meta charset=\"utf-8\" /></head>\n",
              "<body>\n",
              "    <div>\n",
              "            <script src=\"https://cdnjs.cloudflare.com/ajax/libs/mathjax/2.7.5/MathJax.js?config=TeX-AMS-MML_SVG\"></script><script type=\"text/javascript\">if (window.MathJax) {MathJax.Hub.Config({SVG: {font: \"STIX-Web\"}});}</script>\n",
              "                <script type=\"text/javascript\">window.PlotlyConfig = {MathJaxConfig: 'local'};</script>\n",
              "        <script src=\"https://cdn.plot.ly/plotly-latest.min.js\"></script>    \n",
              "            <div id=\"dcbd9d51-e978-494b-8f21-88241b7035e1\" class=\"plotly-graph-div\" style=\"height:525px; width:100%;\"></div>\n",
              "            <script type=\"text/javascript\">\n",
              "                \n",
              "                    window.PLOTLYENV=window.PLOTLYENV || {};\n",
              "                    \n",
              "                if (document.getElementById(\"dcbd9d51-e978-494b-8f21-88241b7035e1\")) {\n",
              "                    Plotly.newPlot(\n",
              "                        'dcbd9d51-e978-494b-8f21-88241b7035e1',\n",
              "                        [{\"colorbar\": {\"title\": {\"text\": \"Objective Value\"}}, \"colorscale\": [[0, \"rgb(5,10,172)\"], [0.35, \"rgb(40,60,190)\"], [0.5, \"rgb(70,100,245)\"], [0.6, \"rgb(90,120,245)\"], [0.7, \"rgb(106,137,247)\"], [1, \"rgb(220,220,220)\"]], \"connectgaps\": true, \"contours\": {\"coloring\": \"heatmap\"}, \"hoverinfo\": \"none\", \"line\": {\"smoothing\": 1.3}, \"reversescale\": true, \"type\": \"contour\", \"x\": [-0.0020453631529927553, 0.011936434833965514, 0.014873939951602883, 0.037325664660693814, 0.037402275487701496, 0.044769626229443873, 0.046592700934888556, 0.056899715509401996, 0.0679924404226665, 0.08473754521178828, 0.12737238602582715, 0.13071221255279464, 0.17838446802589364, 0.17933945966567108, 0.18428227745382458, 0.20763145610103886, 0.2915723945731309, 0.30555419256008914], \"y\": [1.441472861024611, 1.5138890839453072, 1.680555834536628, 1.6829020967416268, 1.8061677484693233, 1.8987226073837598, 1.9290057349096748, 2.12165323781079, 2.269584192805545, 2.287093387840854, 2.3207393953966555, 2.387677644711462, 2.490729324517335, 2.549911034301068, 2.637413636581579, 2.9532273669338855, 2.9622135423592324, 3.0346297652799286], \"z\": [[null, null, null, null, null, null, null, null, null, null, null, null, null, null, null, null, null, null], [null, null, null, null, 5.035496179371364, null, null, null, null, null, null, null, null, null, null, null, null, null], [null, null, null, null, null, null, 5.0269072738043095, null, null, null, null, null, null, null, null, null, null, null], [null, null, null, 5.028505911057206, null, null, null, null, null, null, null, null, null, null, null, null, null, null], [null, 5.043236000679738, null, null, null, null, null, null, null, null, null, null, null, null, null, null, null, null], [null, null, 5.038435943799724, null, null, null, null, null, null, null, null, null, null, null, null, null, null, null], [null, null, null, null, null, 5.0459569167443785, null, null, null, null, null, null, null, null, null, null, null, null], [null, null, null, null, null, null, null, null, null, null, null, null, null, null, null, null, 5.160392798653464, null], [null, null, null, null, null, null, null, null, null, null, null, null, null, null, 5.056086655376571, null, null, null], [null, null, null, null, null, null, null, null, null, null, 5.073691824261358, null, null, null, null, null, null, null], [null, null, null, null, null, null, null, null, null, null, null, null, 5.040194518539682, null, null, null, null, null], [null, null, null, null, null, null, null, null, null, null, null, 5.097587898910521, null, null, null, null, null, null], [null, null, null, null, null, null, null, null, null, 5.0066618720890785, null, null, null, null, null, null, null, null], [null, null, null, null, null, null, null, null, null, null, null, null, null, 5.097297099854842, null, null, null, null], [null, null, null, null, null, null, null, null, null, null, null, null, null, null, null, 5.142858905360298, null, null], [null, null, null, null, null, null, null, null, 4.999077273145259, null, null, null, null, null, null, null, null, null], [null, null, null, null, null, null, null, 5.050836703927486, null, null, null, null, null, null, null, null, null, null], [null, null, null, null, null, null, null, null, null, null, null, null, null, null, null, null, null, null]]}, {\"marker\": {\"color\": \"black\", \"line\": {\"color\": \"Grey\", \"width\": 0.5}}, \"mode\": \"markers\", \"showlegend\": false, \"type\": \"scatter\", \"x\": [0.2915723945731309, 0.20763145610103886, 0.13071221255279464, 0.18428227745382458, 0.17933945966567108, 0.17838446802589364, 0.12737238602582715, 0.0679924404226665, 0.056899715509401996, 0.014873939951602883, 0.011936434833965514, 0.044769626229443873, 0.037402275487701496, 0.037325664660693814, 0.046592700934888556, 0.08473754521178828], \"y\": [2.12165323781079, 2.637413636581579, 2.387677644711462, 2.269584192805545, 2.549911034301068, 2.3207393953966555, 2.287093387840854, 2.9532273669338855, 2.9622135423592324, 1.8987226073837598, 1.8061677484693233, 1.9290057349096748, 1.5138890839453072, 1.6829020967416268, 1.680555834536628, 2.490729324517335]}],\n",
              "                        {\"template\": {\"data\": {\"bar\": [{\"error_x\": {\"color\": \"#2a3f5f\"}, \"error_y\": {\"color\": \"#2a3f5f\"}, \"marker\": {\"line\": {\"color\": \"#E5ECF6\", \"width\": 0.5}}, \"type\": \"bar\"}], \"barpolar\": [{\"marker\": {\"line\": {\"color\": \"#E5ECF6\", \"width\": 0.5}}, \"type\": \"barpolar\"}], \"carpet\": [{\"aaxis\": {\"endlinecolor\": \"#2a3f5f\", \"gridcolor\": \"white\", \"linecolor\": \"white\", \"minorgridcolor\": \"white\", \"startlinecolor\": \"#2a3f5f\"}, \"baxis\": {\"endlinecolor\": \"#2a3f5f\", \"gridcolor\": \"white\", \"linecolor\": \"white\", \"minorgridcolor\": \"white\", \"startlinecolor\": \"#2a3f5f\"}, \"type\": \"carpet\"}], \"choropleth\": [{\"colorbar\": {\"outlinewidth\": 0, \"ticks\": \"\"}, \"type\": \"choropleth\"}], \"contour\": [{\"colorbar\": {\"outlinewidth\": 0, \"ticks\": \"\"}, \"colorscale\": [[0.0, \"#0d0887\"], [0.1111111111111111, \"#46039f\"], [0.2222222222222222, \"#7201a8\"], [0.3333333333333333, \"#9c179e\"], [0.4444444444444444, \"#bd3786\"], [0.5555555555555556, \"#d8576b\"], [0.6666666666666666, \"#ed7953\"], [0.7777777777777778, \"#fb9f3a\"], [0.8888888888888888, \"#fdca26\"], [1.0, \"#f0f921\"]], \"type\": \"contour\"}], \"contourcarpet\": [{\"colorbar\": {\"outlinewidth\": 0, \"ticks\": \"\"}, \"type\": \"contourcarpet\"}], \"heatmap\": [{\"colorbar\": {\"outlinewidth\": 0, \"ticks\": \"\"}, \"colorscale\": [[0.0, \"#0d0887\"], [0.1111111111111111, \"#46039f\"], [0.2222222222222222, \"#7201a8\"], [0.3333333333333333, \"#9c179e\"], [0.4444444444444444, \"#bd3786\"], [0.5555555555555556, \"#d8576b\"], [0.6666666666666666, \"#ed7953\"], [0.7777777777777778, \"#fb9f3a\"], [0.8888888888888888, \"#fdca26\"], [1.0, \"#f0f921\"]], \"type\": \"heatmap\"}], \"heatmapgl\": [{\"colorbar\": {\"outlinewidth\": 0, \"ticks\": \"\"}, \"colorscale\": [[0.0, \"#0d0887\"], [0.1111111111111111, \"#46039f\"], [0.2222222222222222, \"#7201a8\"], [0.3333333333333333, \"#9c179e\"], [0.4444444444444444, \"#bd3786\"], [0.5555555555555556, \"#d8576b\"], [0.6666666666666666, \"#ed7953\"], [0.7777777777777778, \"#fb9f3a\"], [0.8888888888888888, \"#fdca26\"], [1.0, \"#f0f921\"]], \"type\": \"heatmapgl\"}], \"histogram\": [{\"marker\": {\"colorbar\": {\"outlinewidth\": 0, \"ticks\": \"\"}}, \"type\": \"histogram\"}], \"histogram2d\": [{\"colorbar\": {\"outlinewidth\": 0, \"ticks\": \"\"}, \"colorscale\": [[0.0, \"#0d0887\"], [0.1111111111111111, \"#46039f\"], [0.2222222222222222, \"#7201a8\"], [0.3333333333333333, \"#9c179e\"], [0.4444444444444444, \"#bd3786\"], [0.5555555555555556, \"#d8576b\"], [0.6666666666666666, \"#ed7953\"], [0.7777777777777778, \"#fb9f3a\"], [0.8888888888888888, \"#fdca26\"], [1.0, \"#f0f921\"]], \"type\": \"histogram2d\"}], \"histogram2dcontour\": [{\"colorbar\": {\"outlinewidth\": 0, \"ticks\": \"\"}, \"colorscale\": [[0.0, \"#0d0887\"], [0.1111111111111111, \"#46039f\"], [0.2222222222222222, \"#7201a8\"], [0.3333333333333333, \"#9c179e\"], [0.4444444444444444, \"#bd3786\"], [0.5555555555555556, \"#d8576b\"], [0.6666666666666666, \"#ed7953\"], [0.7777777777777778, \"#fb9f3a\"], [0.8888888888888888, \"#fdca26\"], [1.0, \"#f0f921\"]], \"type\": \"histogram2dcontour\"}], \"mesh3d\": [{\"colorbar\": {\"outlinewidth\": 0, \"ticks\": \"\"}, \"type\": \"mesh3d\"}], \"parcoords\": [{\"line\": {\"colorbar\": {\"outlinewidth\": 0, \"ticks\": \"\"}}, \"type\": \"parcoords\"}], \"pie\": [{\"automargin\": true, \"type\": \"pie\"}], \"scatter\": [{\"marker\": {\"colorbar\": {\"outlinewidth\": 0, \"ticks\": \"\"}}, \"type\": \"scatter\"}], \"scatter3d\": [{\"line\": {\"colorbar\": {\"outlinewidth\": 0, \"ticks\": \"\"}}, \"marker\": {\"colorbar\": {\"outlinewidth\": 0, \"ticks\": \"\"}}, \"type\": \"scatter3d\"}], \"scattercarpet\": [{\"marker\": {\"colorbar\": {\"outlinewidth\": 0, \"ticks\": \"\"}}, \"type\": \"scattercarpet\"}], \"scattergeo\": [{\"marker\": {\"colorbar\": {\"outlinewidth\": 0, \"ticks\": \"\"}}, \"type\": \"scattergeo\"}], \"scattergl\": [{\"marker\": {\"colorbar\": {\"outlinewidth\": 0, \"ticks\": \"\"}}, \"type\": \"scattergl\"}], \"scattermapbox\": [{\"marker\": {\"colorbar\": {\"outlinewidth\": 0, \"ticks\": \"\"}}, \"type\": \"scattermapbox\"}], \"scatterpolar\": [{\"marker\": {\"colorbar\": {\"outlinewidth\": 0, \"ticks\": \"\"}}, \"type\": \"scatterpolar\"}], \"scatterpolargl\": [{\"marker\": {\"colorbar\": {\"outlinewidth\": 0, \"ticks\": \"\"}}, \"type\": \"scatterpolargl\"}], \"scatterternary\": [{\"marker\": {\"colorbar\": {\"outlinewidth\": 0, \"ticks\": \"\"}}, \"type\": \"scatterternary\"}], \"surface\": [{\"colorbar\": {\"outlinewidth\": 0, \"ticks\": \"\"}, \"colorscale\": [[0.0, \"#0d0887\"], [0.1111111111111111, \"#46039f\"], [0.2222222222222222, \"#7201a8\"], [0.3333333333333333, \"#9c179e\"], [0.4444444444444444, \"#bd3786\"], [0.5555555555555556, \"#d8576b\"], [0.6666666666666666, \"#ed7953\"], [0.7777777777777778, \"#fb9f3a\"], [0.8888888888888888, \"#fdca26\"], [1.0, \"#f0f921\"]], \"type\": \"surface\"}], \"table\": [{\"cells\": {\"fill\": {\"color\": \"#EBF0F8\"}, \"line\": {\"color\": \"white\"}}, \"header\": {\"fill\": {\"color\": \"#C8D4E3\"}, \"line\": {\"color\": \"white\"}}, \"type\": \"table\"}]}, \"layout\": {\"annotationdefaults\": {\"arrowcolor\": \"#2a3f5f\", \"arrowhead\": 0, \"arrowwidth\": 1}, \"coloraxis\": {\"colorbar\": {\"outlinewidth\": 0, \"ticks\": \"\"}}, \"colorscale\": {\"diverging\": [[0, \"#8e0152\"], [0.1, \"#c51b7d\"], [0.2, \"#de77ae\"], [0.3, \"#f1b6da\"], [0.4, \"#fde0ef\"], [0.5, \"#f7f7f7\"], [0.6, \"#e6f5d0\"], [0.7, \"#b8e186\"], [0.8, \"#7fbc41\"], [0.9, \"#4d9221\"], [1, \"#276419\"]], \"sequential\": [[0.0, \"#0d0887\"], [0.1111111111111111, \"#46039f\"], [0.2222222222222222, \"#7201a8\"], [0.3333333333333333, \"#9c179e\"], [0.4444444444444444, \"#bd3786\"], [0.5555555555555556, \"#d8576b\"], [0.6666666666666666, \"#ed7953\"], [0.7777777777777778, \"#fb9f3a\"], [0.8888888888888888, \"#fdca26\"], [1.0, \"#f0f921\"]], \"sequentialminus\": [[0.0, \"#0d0887\"], [0.1111111111111111, \"#46039f\"], [0.2222222222222222, \"#7201a8\"], [0.3333333333333333, \"#9c179e\"], [0.4444444444444444, \"#bd3786\"], [0.5555555555555556, \"#d8576b\"], [0.6666666666666666, \"#ed7953\"], [0.7777777777777778, \"#fb9f3a\"], [0.8888888888888888, \"#fdca26\"], [1.0, \"#f0f921\"]]}, \"colorway\": [\"#636efa\", \"#EF553B\", \"#00cc96\", \"#ab63fa\", \"#FFA15A\", \"#19d3f3\", \"#FF6692\", \"#B6E880\", \"#FF97FF\", \"#FECB52\"], \"font\": {\"color\": \"#2a3f5f\"}, \"geo\": {\"bgcolor\": \"white\", \"lakecolor\": \"white\", \"landcolor\": \"#E5ECF6\", \"showlakes\": true, \"showland\": true, \"subunitcolor\": \"white\"}, \"hoverlabel\": {\"align\": \"left\"}, \"hovermode\": \"closest\", \"mapbox\": {\"style\": \"light\"}, \"paper_bgcolor\": \"white\", \"plot_bgcolor\": \"#E5ECF6\", \"polar\": {\"angularaxis\": {\"gridcolor\": \"white\", \"linecolor\": \"white\", \"ticks\": \"\"}, \"bgcolor\": \"#E5ECF6\", \"radialaxis\": {\"gridcolor\": \"white\", \"linecolor\": \"white\", \"ticks\": \"\"}}, \"scene\": {\"xaxis\": {\"backgroundcolor\": \"#E5ECF6\", \"gridcolor\": \"white\", \"gridwidth\": 2, \"linecolor\": \"white\", \"showbackground\": true, \"ticks\": \"\", \"zerolinecolor\": \"white\"}, \"yaxis\": {\"backgroundcolor\": \"#E5ECF6\", \"gridcolor\": \"white\", \"gridwidth\": 2, \"linecolor\": \"white\", \"showbackground\": true, \"ticks\": \"\", \"zerolinecolor\": \"white\"}, \"zaxis\": {\"backgroundcolor\": \"#E5ECF6\", \"gridcolor\": \"white\", \"gridwidth\": 2, \"linecolor\": \"white\", \"showbackground\": true, \"ticks\": \"\", \"zerolinecolor\": \"white\"}}, \"shapedefaults\": {\"line\": {\"color\": \"#2a3f5f\"}}, \"ternary\": {\"aaxis\": {\"gridcolor\": \"white\", \"linecolor\": \"white\", \"ticks\": \"\"}, \"baxis\": {\"gridcolor\": \"white\", \"linecolor\": \"white\", \"ticks\": \"\"}, \"bgcolor\": \"#E5ECF6\", \"caxis\": {\"gridcolor\": \"white\", \"linecolor\": \"white\", \"ticks\": \"\"}}, \"title\": {\"x\": 0.05}, \"xaxis\": {\"automargin\": true, \"gridcolor\": \"white\", \"linecolor\": \"white\", \"ticks\": \"\", \"title\": {\"standoff\": 15}, \"zerolinecolor\": \"white\", \"zerolinewidth\": 2}, \"yaxis\": {\"automargin\": true, \"gridcolor\": \"white\", \"linecolor\": \"white\", \"ticks\": \"\", \"title\": {\"standoff\": 15}, \"zerolinecolor\": \"white\", \"zerolinewidth\": 2}}}, \"title\": {\"text\": \"Contour Plot\"}, \"xaxis\": {\"range\": [-0.0020453631529927553, 0.30555419256008914], \"title\": {\"text\": \"dropout\"}}, \"yaxis\": {\"range\": [1.441472861024611, 3.0346297652799286], \"title\": {\"text\": \"lr\"}}},\n",
              "                        {\"responsive\": true}\n",
              "                    ).then(function(){\n",
              "                            \n",
              "var gd = document.getElementById('dcbd9d51-e978-494b-8f21-88241b7035e1');\n",
              "var x = new MutationObserver(function (mutations, observer) {{\n",
              "        var display = window.getComputedStyle(gd).display;\n",
              "        if (!display || display === 'none') {{\n",
              "            console.log([gd, 'removed!']);\n",
              "            Plotly.purge(gd);\n",
              "            observer.disconnect();\n",
              "        }}\n",
              "}});\n",
              "\n",
              "// Listen for the removal of the full notebook cells\n",
              "var notebookContainer = gd.closest('#notebook-container');\n",
              "if (notebookContainer) {{\n",
              "    x.observe(notebookContainer, {childList: true});\n",
              "}}\n",
              "\n",
              "// Listen for the clearing of the current output cell\n",
              "var outputEl = gd.closest('.output');\n",
              "if (outputEl) {{\n",
              "    x.observe(outputEl, {childList: true});\n",
              "}}\n",
              "\n",
              "                        })\n",
              "                };\n",
              "                \n",
              "            </script>\n",
              "        </div>\n",
              "</body>\n",
              "</html>"
            ]
          },
          "metadata": {
            "tags": []
          }
        }
      ]
    },
    {
      "cell_type": "code",
      "metadata": {
        "colab": {
          "base_uri": "https://localhost:8080/",
          "height": 542
        },
        "id": "2H1iI825_qGr",
        "outputId": "a5240069-4cc1-4d58-e95f-a205aa8f436f"
      },
      "source": [
        "optuna.visualization.plot_contour(study, params=[\"lr\", \"nhid\"])"
      ],
      "execution_count": null,
      "outputs": [
        {
          "output_type": "display_data",
          "data": {
            "text/html": [
              "<html>\n",
              "<head><meta charset=\"utf-8\" /></head>\n",
              "<body>\n",
              "    <div>\n",
              "            <script src=\"https://cdnjs.cloudflare.com/ajax/libs/mathjax/2.7.5/MathJax.js?config=TeX-AMS-MML_SVG\"></script><script type=\"text/javascript\">if (window.MathJax) {MathJax.Hub.Config({SVG: {font: \"STIX-Web\"}});}</script>\n",
              "                <script type=\"text/javascript\">window.PlotlyConfig = {MathJaxConfig: 'local'};</script>\n",
              "        <script src=\"https://cdn.plot.ly/plotly-latest.min.js\"></script>    \n",
              "            <div id=\"1c98bb07-a99f-4bed-b5b8-b102ef7b9f89\" class=\"plotly-graph-div\" style=\"height:525px; width:100%;\"></div>\n",
              "            <script type=\"text/javascript\">\n",
              "                \n",
              "                    window.PLOTLYENV=window.PLOTLYENV || {};\n",
              "                    \n",
              "                if (document.getElementById(\"1c98bb07-a99f-4bed-b5b8-b102ef7b9f89\")) {\n",
              "                    Plotly.newPlot(\n",
              "                        '1c98bb07-a99f-4bed-b5b8-b102ef7b9f89',\n",
              "                        [{\"colorbar\": {\"title\": {\"text\": \"Objective Value\"}}, \"colorscale\": [[0, \"rgb(5,10,172)\"], [0.35, \"rgb(40,60,190)\"], [0.5, \"rgb(70,100,245)\"], [0.6, \"rgb(90,120,245)\"], [0.7, \"rgb(106,137,247)\"], [1, \"rgb(220,220,220)\"]], \"connectgaps\": true, \"contours\": {\"coloring\": \"heatmap\"}, \"hoverinfo\": \"none\", \"line\": {\"smoothing\": 1.3}, \"reversescale\": true, \"type\": \"contour\", \"x\": [1.441472861024611, 1.5138890839453072, 1.680555834536628, 1.6829020967416268, 1.8061677484693233, 1.8987226073837598, 1.9290057349096748, 2.12165323781079, 2.269584192805545, 2.287093387840854, 2.3207393953966555, 2.387677644711462, 2.490729324517335, 2.549911034301068, 2.637413636581579, 2.9532273669338855, 2.9622135423592324, 3.0346297652799286], \"y\": [198.65, 201, 206, 207, 208, 211, 212, 214, 215, 218, 223, 224, 244, 248, 250.35], \"z\": [[null, null, null, null, null, null, null, null, null, null, null, null, null, null, null, null, null, null], [null, null, null, null, null, null, null, null, null, null, null, null, null, 5.097297099854842, null, null, null, null], [null, 5.035496179371364, null, null, null, null, null, null, null, null, null, null, null, null, null, null, null, null], [null, null, null, null, 5.043236000679738, null, null, null, null, null, null, null, null, null, null, null, null, null], [null, null, null, null, null, null, null, null, null, null, null, null, null, null, 5.142858905360298, null, null, null], [null, null, null, null, null, null, null, null, null, null, null, null, 5.0066618720890785, null, null, null, null, null], [null, null, 5.0269072738043095, null, null, null, null, null, 5.056086655376571, null, null, null, null, null, null, null, null, null], [null, null, null, null, null, null, null, null, null, null, null, null, null, null, null, 4.999077273145259, 5.050836703927486, null], [null, null, null, 5.028505911057206, null, null, null, null, null, null, null, null, null, null, null, null, null, null], [null, null, null, null, null, 5.038435943799724, 5.0459569167443785, null, null, null, null, null, null, null, null, null, null, null], [null, null, null, null, null, null, null, null, null, null, 5.040194518539682, null, null, null, null, null, null, null], [null, null, null, null, null, null, null, null, null, null, null, 5.097587898910521, null, null, null, null, null, null], [null, null, null, null, null, null, null, null, null, 5.073691824261358, null, null, null, null, null, null, null, null], [null, null, null, null, null, null, null, 5.160392798653464, null, null, null, null, null, null, null, null, null, null], [null, null, null, null, null, null, null, null, null, null, null, null, null, null, null, null, null, null]]}, {\"marker\": {\"color\": \"black\", \"line\": {\"color\": \"Grey\", \"width\": 0.5}}, \"mode\": \"markers\", \"showlegend\": false, \"type\": \"scatter\", \"x\": [2.12165323781079, 2.637413636581579, 2.387677644711462, 2.269584192805545, 2.549911034301068, 2.3207393953966555, 2.287093387840854, 2.9532273669338855, 2.9622135423592324, 1.8987226073837598, 1.8061677484693233, 1.9290057349096748, 1.5138890839453072, 1.6829020967416268, 1.680555834536628, 2.490729324517335], \"y\": [248, 208, 224, 212, 201, 223, 244, 214, 214, 218, 207, 218, 206, 215, 212, 211]}],\n",
              "                        {\"template\": {\"data\": {\"bar\": [{\"error_x\": {\"color\": \"#2a3f5f\"}, \"error_y\": {\"color\": \"#2a3f5f\"}, \"marker\": {\"line\": {\"color\": \"#E5ECF6\", \"width\": 0.5}}, \"type\": \"bar\"}], \"barpolar\": [{\"marker\": {\"line\": {\"color\": \"#E5ECF6\", \"width\": 0.5}}, \"type\": \"barpolar\"}], \"carpet\": [{\"aaxis\": {\"endlinecolor\": \"#2a3f5f\", \"gridcolor\": \"white\", \"linecolor\": \"white\", \"minorgridcolor\": \"white\", \"startlinecolor\": \"#2a3f5f\"}, \"baxis\": {\"endlinecolor\": \"#2a3f5f\", \"gridcolor\": \"white\", \"linecolor\": \"white\", \"minorgridcolor\": \"white\", \"startlinecolor\": \"#2a3f5f\"}, \"type\": \"carpet\"}], \"choropleth\": [{\"colorbar\": {\"outlinewidth\": 0, \"ticks\": \"\"}, \"type\": \"choropleth\"}], \"contour\": [{\"colorbar\": {\"outlinewidth\": 0, \"ticks\": \"\"}, \"colorscale\": [[0.0, \"#0d0887\"], [0.1111111111111111, \"#46039f\"], [0.2222222222222222, \"#7201a8\"], [0.3333333333333333, \"#9c179e\"], [0.4444444444444444, \"#bd3786\"], [0.5555555555555556, \"#d8576b\"], [0.6666666666666666, \"#ed7953\"], [0.7777777777777778, \"#fb9f3a\"], [0.8888888888888888, \"#fdca26\"], [1.0, \"#f0f921\"]], \"type\": \"contour\"}], \"contourcarpet\": [{\"colorbar\": {\"outlinewidth\": 0, \"ticks\": \"\"}, \"type\": \"contourcarpet\"}], \"heatmap\": [{\"colorbar\": {\"outlinewidth\": 0, \"ticks\": \"\"}, \"colorscale\": [[0.0, \"#0d0887\"], [0.1111111111111111, \"#46039f\"], [0.2222222222222222, \"#7201a8\"], [0.3333333333333333, \"#9c179e\"], [0.4444444444444444, \"#bd3786\"], [0.5555555555555556, \"#d8576b\"], [0.6666666666666666, \"#ed7953\"], [0.7777777777777778, \"#fb9f3a\"], [0.8888888888888888, \"#fdca26\"], [1.0, \"#f0f921\"]], \"type\": \"heatmap\"}], \"heatmapgl\": [{\"colorbar\": {\"outlinewidth\": 0, \"ticks\": \"\"}, \"colorscale\": [[0.0, \"#0d0887\"], [0.1111111111111111, \"#46039f\"], [0.2222222222222222, \"#7201a8\"], [0.3333333333333333, \"#9c179e\"], [0.4444444444444444, \"#bd3786\"], [0.5555555555555556, \"#d8576b\"], [0.6666666666666666, \"#ed7953\"], [0.7777777777777778, \"#fb9f3a\"], [0.8888888888888888, \"#fdca26\"], [1.0, \"#f0f921\"]], \"type\": \"heatmapgl\"}], \"histogram\": [{\"marker\": {\"colorbar\": {\"outlinewidth\": 0, \"ticks\": \"\"}}, \"type\": \"histogram\"}], \"histogram2d\": [{\"colorbar\": {\"outlinewidth\": 0, \"ticks\": \"\"}, \"colorscale\": [[0.0, \"#0d0887\"], [0.1111111111111111, \"#46039f\"], [0.2222222222222222, \"#7201a8\"], [0.3333333333333333, \"#9c179e\"], [0.4444444444444444, \"#bd3786\"], [0.5555555555555556, \"#d8576b\"], [0.6666666666666666, \"#ed7953\"], [0.7777777777777778, \"#fb9f3a\"], [0.8888888888888888, \"#fdca26\"], [1.0, \"#f0f921\"]], \"type\": \"histogram2d\"}], \"histogram2dcontour\": [{\"colorbar\": {\"outlinewidth\": 0, \"ticks\": \"\"}, \"colorscale\": [[0.0, \"#0d0887\"], [0.1111111111111111, \"#46039f\"], [0.2222222222222222, \"#7201a8\"], [0.3333333333333333, \"#9c179e\"], [0.4444444444444444, \"#bd3786\"], [0.5555555555555556, \"#d8576b\"], [0.6666666666666666, \"#ed7953\"], [0.7777777777777778, \"#fb9f3a\"], [0.8888888888888888, \"#fdca26\"], [1.0, \"#f0f921\"]], \"type\": \"histogram2dcontour\"}], \"mesh3d\": [{\"colorbar\": {\"outlinewidth\": 0, \"ticks\": \"\"}, \"type\": \"mesh3d\"}], \"parcoords\": [{\"line\": {\"colorbar\": {\"outlinewidth\": 0, \"ticks\": \"\"}}, \"type\": \"parcoords\"}], \"pie\": [{\"automargin\": true, \"type\": \"pie\"}], \"scatter\": [{\"marker\": {\"colorbar\": {\"outlinewidth\": 0, \"ticks\": \"\"}}, \"type\": \"scatter\"}], \"scatter3d\": [{\"line\": {\"colorbar\": {\"outlinewidth\": 0, \"ticks\": \"\"}}, \"marker\": {\"colorbar\": {\"outlinewidth\": 0, \"ticks\": \"\"}}, \"type\": \"scatter3d\"}], \"scattercarpet\": [{\"marker\": {\"colorbar\": {\"outlinewidth\": 0, \"ticks\": \"\"}}, \"type\": \"scattercarpet\"}], \"scattergeo\": [{\"marker\": {\"colorbar\": {\"outlinewidth\": 0, \"ticks\": \"\"}}, \"type\": \"scattergeo\"}], \"scattergl\": [{\"marker\": {\"colorbar\": {\"outlinewidth\": 0, \"ticks\": \"\"}}, \"type\": \"scattergl\"}], \"scattermapbox\": [{\"marker\": {\"colorbar\": {\"outlinewidth\": 0, \"ticks\": \"\"}}, \"type\": \"scattermapbox\"}], \"scatterpolar\": [{\"marker\": {\"colorbar\": {\"outlinewidth\": 0, \"ticks\": \"\"}}, \"type\": \"scatterpolar\"}], \"scatterpolargl\": [{\"marker\": {\"colorbar\": {\"outlinewidth\": 0, \"ticks\": \"\"}}, \"type\": \"scatterpolargl\"}], \"scatterternary\": [{\"marker\": {\"colorbar\": {\"outlinewidth\": 0, \"ticks\": \"\"}}, \"type\": \"scatterternary\"}], \"surface\": [{\"colorbar\": {\"outlinewidth\": 0, \"ticks\": \"\"}, \"colorscale\": [[0.0, \"#0d0887\"], [0.1111111111111111, \"#46039f\"], [0.2222222222222222, \"#7201a8\"], [0.3333333333333333, \"#9c179e\"], [0.4444444444444444, \"#bd3786\"], [0.5555555555555556, \"#d8576b\"], [0.6666666666666666, \"#ed7953\"], [0.7777777777777778, \"#fb9f3a\"], [0.8888888888888888, \"#fdca26\"], [1.0, \"#f0f921\"]], \"type\": \"surface\"}], \"table\": [{\"cells\": {\"fill\": {\"color\": \"#EBF0F8\"}, \"line\": {\"color\": \"white\"}}, \"header\": {\"fill\": {\"color\": \"#C8D4E3\"}, \"line\": {\"color\": \"white\"}}, \"type\": \"table\"}]}, \"layout\": {\"annotationdefaults\": {\"arrowcolor\": \"#2a3f5f\", \"arrowhead\": 0, \"arrowwidth\": 1}, \"coloraxis\": {\"colorbar\": {\"outlinewidth\": 0, \"ticks\": \"\"}}, \"colorscale\": {\"diverging\": [[0, \"#8e0152\"], [0.1, \"#c51b7d\"], [0.2, \"#de77ae\"], [0.3, \"#f1b6da\"], [0.4, \"#fde0ef\"], [0.5, \"#f7f7f7\"], [0.6, \"#e6f5d0\"], [0.7, \"#b8e186\"], [0.8, \"#7fbc41\"], [0.9, \"#4d9221\"], [1, \"#276419\"]], \"sequential\": [[0.0, \"#0d0887\"], [0.1111111111111111, \"#46039f\"], [0.2222222222222222, \"#7201a8\"], [0.3333333333333333, \"#9c179e\"], [0.4444444444444444, \"#bd3786\"], [0.5555555555555556, \"#d8576b\"], [0.6666666666666666, \"#ed7953\"], [0.7777777777777778, \"#fb9f3a\"], [0.8888888888888888, \"#fdca26\"], [1.0, \"#f0f921\"]], \"sequentialminus\": [[0.0, \"#0d0887\"], [0.1111111111111111, \"#46039f\"], [0.2222222222222222, \"#7201a8\"], [0.3333333333333333, \"#9c179e\"], [0.4444444444444444, \"#bd3786\"], [0.5555555555555556, \"#d8576b\"], [0.6666666666666666, \"#ed7953\"], [0.7777777777777778, \"#fb9f3a\"], [0.8888888888888888, \"#fdca26\"], [1.0, \"#f0f921\"]]}, \"colorway\": [\"#636efa\", \"#EF553B\", \"#00cc96\", \"#ab63fa\", \"#FFA15A\", \"#19d3f3\", \"#FF6692\", \"#B6E880\", \"#FF97FF\", \"#FECB52\"], \"font\": {\"color\": \"#2a3f5f\"}, \"geo\": {\"bgcolor\": \"white\", \"lakecolor\": \"white\", \"landcolor\": \"#E5ECF6\", \"showlakes\": true, \"showland\": true, \"subunitcolor\": \"white\"}, \"hoverlabel\": {\"align\": \"left\"}, \"hovermode\": \"closest\", \"mapbox\": {\"style\": \"light\"}, \"paper_bgcolor\": \"white\", \"plot_bgcolor\": \"#E5ECF6\", \"polar\": {\"angularaxis\": {\"gridcolor\": \"white\", \"linecolor\": \"white\", \"ticks\": \"\"}, \"bgcolor\": \"#E5ECF6\", \"radialaxis\": {\"gridcolor\": \"white\", \"linecolor\": \"white\", \"ticks\": \"\"}}, \"scene\": {\"xaxis\": {\"backgroundcolor\": \"#E5ECF6\", \"gridcolor\": \"white\", \"gridwidth\": 2, \"linecolor\": \"white\", \"showbackground\": true, \"ticks\": \"\", \"zerolinecolor\": \"white\"}, \"yaxis\": {\"backgroundcolor\": \"#E5ECF6\", \"gridcolor\": \"white\", \"gridwidth\": 2, \"linecolor\": \"white\", \"showbackground\": true, \"ticks\": \"\", \"zerolinecolor\": \"white\"}, \"zaxis\": {\"backgroundcolor\": \"#E5ECF6\", \"gridcolor\": \"white\", \"gridwidth\": 2, \"linecolor\": \"white\", \"showbackground\": true, \"ticks\": \"\", \"zerolinecolor\": \"white\"}}, \"shapedefaults\": {\"line\": {\"color\": \"#2a3f5f\"}}, \"ternary\": {\"aaxis\": {\"gridcolor\": \"white\", \"linecolor\": \"white\", \"ticks\": \"\"}, \"baxis\": {\"gridcolor\": \"white\", \"linecolor\": \"white\", \"ticks\": \"\"}, \"bgcolor\": \"#E5ECF6\", \"caxis\": {\"gridcolor\": \"white\", \"linecolor\": \"white\", \"ticks\": \"\"}}, \"title\": {\"x\": 0.05}, \"xaxis\": {\"automargin\": true, \"gridcolor\": \"white\", \"linecolor\": \"white\", \"ticks\": \"\", \"title\": {\"standoff\": 15}, \"zerolinecolor\": \"white\", \"zerolinewidth\": 2}, \"yaxis\": {\"automargin\": true, \"gridcolor\": \"white\", \"linecolor\": \"white\", \"ticks\": \"\", \"title\": {\"standoff\": 15}, \"zerolinecolor\": \"white\", \"zerolinewidth\": 2}}}, \"title\": {\"text\": \"Contour Plot\"}, \"xaxis\": {\"range\": [1.441472861024611, 3.0346297652799286], \"title\": {\"text\": \"lr\"}}, \"yaxis\": {\"range\": [198.65, 250.35], \"title\": {\"text\": \"nhid\"}}},\n",
              "                        {\"responsive\": true}\n",
              "                    ).then(function(){\n",
              "                            \n",
              "var gd = document.getElementById('1c98bb07-a99f-4bed-b5b8-b102ef7b9f89');\n",
              "var x = new MutationObserver(function (mutations, observer) {{\n",
              "        var display = window.getComputedStyle(gd).display;\n",
              "        if (!display || display === 'none') {{\n",
              "            console.log([gd, 'removed!']);\n",
              "            Plotly.purge(gd);\n",
              "            observer.disconnect();\n",
              "        }}\n",
              "}});\n",
              "\n",
              "// Listen for the removal of the full notebook cells\n",
              "var notebookContainer = gd.closest('#notebook-container');\n",
              "if (notebookContainer) {{\n",
              "    x.observe(notebookContainer, {childList: true});\n",
              "}}\n",
              "\n",
              "// Listen for the clearing of the current output cell\n",
              "var outputEl = gd.closest('.output');\n",
              "if (outputEl) {{\n",
              "    x.observe(outputEl, {childList: true});\n",
              "}}\n",
              "\n",
              "                        })\n",
              "                };\n",
              "                \n",
              "            </script>\n",
              "        </div>\n",
              "</body>\n",
              "</html>"
            ]
          },
          "metadata": {
            "tags": []
          }
        }
      ]
    },
    {
      "cell_type": "code",
      "metadata": {
        "colab": {
          "base_uri": "https://localhost:8080/",
          "height": 542
        },
        "id": "PCQPtPJr_vmj",
        "outputId": "a6e2df04-b10b-41de-984b-acbf232365b1"
      },
      "source": [
        "optuna.visualization.plot_contour(study, params=[\"dropout\", \"nhid\"])"
      ],
      "execution_count": null,
      "outputs": [
        {
          "output_type": "display_data",
          "data": {
            "text/html": [
              "<html>\n",
              "<head><meta charset=\"utf-8\" /></head>\n",
              "<body>\n",
              "    <div>\n",
              "            <script src=\"https://cdnjs.cloudflare.com/ajax/libs/mathjax/2.7.5/MathJax.js?config=TeX-AMS-MML_SVG\"></script><script type=\"text/javascript\">if (window.MathJax) {MathJax.Hub.Config({SVG: {font: \"STIX-Web\"}});}</script>\n",
              "                <script type=\"text/javascript\">window.PlotlyConfig = {MathJaxConfig: 'local'};</script>\n",
              "        <script src=\"https://cdn.plot.ly/plotly-latest.min.js\"></script>    \n",
              "            <div id=\"19c66337-ff3b-4478-bd8d-ac9fb1c2b996\" class=\"plotly-graph-div\" style=\"height:525px; width:100%;\"></div>\n",
              "            <script type=\"text/javascript\">\n",
              "                \n",
              "                    window.PLOTLYENV=window.PLOTLYENV || {};\n",
              "                    \n",
              "                if (document.getElementById(\"19c66337-ff3b-4478-bd8d-ac9fb1c2b996\")) {\n",
              "                    Plotly.newPlot(\n",
              "                        '19c66337-ff3b-4478-bd8d-ac9fb1c2b996',\n",
              "                        [{\"colorbar\": {\"title\": {\"text\": \"Objective Value\"}}, \"colorscale\": [[0, \"rgb(5,10,172)\"], [0.35, \"rgb(40,60,190)\"], [0.5, \"rgb(70,100,245)\"], [0.6, \"rgb(90,120,245)\"], [0.7, \"rgb(106,137,247)\"], [1, \"rgb(220,220,220)\"]], \"connectgaps\": true, \"contours\": {\"coloring\": \"heatmap\"}, \"hoverinfo\": \"none\", \"line\": {\"smoothing\": 1.3}, \"reversescale\": true, \"type\": \"contour\", \"x\": [-0.0020453631529927553, 0.011936434833965514, 0.014873939951602883, 0.037325664660693814, 0.037402275487701496, 0.044769626229443873, 0.046592700934888556, 0.056899715509401996, 0.0679924404226665, 0.08473754521178828, 0.12737238602582715, 0.13071221255279464, 0.17838446802589364, 0.17933945966567108, 0.18428227745382458, 0.20763145610103886, 0.2915723945731309, 0.30555419256008914], \"y\": [198.65, 201, 206, 207, 208, 211, 212, 214, 215, 218, 223, 224, 244, 248, 250.35], \"z\": [[null, null, null, null, null, null, null, null, null, null, null, null, null, null, null, null, null, null], [null, null, null, null, null, null, null, null, null, null, null, null, null, 5.097297099854842, null, null, null, null], [null, null, null, null, 5.035496179371364, null, null, null, null, null, null, null, null, null, null, null, null, null], [null, 5.043236000679738, null, null, null, null, null, null, null, null, null, null, null, null, null, null, null, null], [null, null, null, null, null, null, null, null, null, null, null, null, null, null, null, 5.142858905360298, null, null], [null, null, null, null, null, null, null, null, null, 5.0066618720890785, null, null, null, null, null, null, null, null], [null, null, null, null, null, null, 5.0269072738043095, null, null, null, null, null, null, null, 5.056086655376571, null, null, null], [null, null, null, null, null, null, null, 5.050836703927486, 4.999077273145259, null, null, null, null, null, null, null, null, null], [null, null, null, 5.028505911057206, null, null, null, null, null, null, null, null, null, null, null, null, null, null], [null, null, 5.038435943799724, null, null, 5.0459569167443785, null, null, null, null, null, null, null, null, null, null, null, null], [null, null, null, null, null, null, null, null, null, null, null, null, 5.040194518539682, null, null, null, null, null], [null, null, null, null, null, null, null, null, null, null, null, 5.097587898910521, null, null, null, null, null, null], [null, null, null, null, null, null, null, null, null, null, 5.073691824261358, null, null, null, null, null, null, null], [null, null, null, null, null, null, null, null, null, null, null, null, null, null, null, null, 5.160392798653464, null], [null, null, null, null, null, null, null, null, null, null, null, null, null, null, null, null, null, null]]}, {\"marker\": {\"color\": \"black\", \"line\": {\"color\": \"Grey\", \"width\": 0.5}}, \"mode\": \"markers\", \"showlegend\": false, \"type\": \"scatter\", \"x\": [0.2915723945731309, 0.20763145610103886, 0.13071221255279464, 0.18428227745382458, 0.17933945966567108, 0.17838446802589364, 0.12737238602582715, 0.0679924404226665, 0.056899715509401996, 0.014873939951602883, 0.011936434833965514, 0.044769626229443873, 0.037402275487701496, 0.037325664660693814, 0.046592700934888556, 0.08473754521178828], \"y\": [248, 208, 224, 212, 201, 223, 244, 214, 214, 218, 207, 218, 206, 215, 212, 211]}],\n",
              "                        {\"template\": {\"data\": {\"bar\": [{\"error_x\": {\"color\": \"#2a3f5f\"}, \"error_y\": {\"color\": \"#2a3f5f\"}, \"marker\": {\"line\": {\"color\": \"#E5ECF6\", \"width\": 0.5}}, \"type\": \"bar\"}], \"barpolar\": [{\"marker\": {\"line\": {\"color\": \"#E5ECF6\", \"width\": 0.5}}, \"type\": \"barpolar\"}], \"carpet\": [{\"aaxis\": {\"endlinecolor\": \"#2a3f5f\", \"gridcolor\": \"white\", \"linecolor\": \"white\", \"minorgridcolor\": \"white\", \"startlinecolor\": \"#2a3f5f\"}, \"baxis\": {\"endlinecolor\": \"#2a3f5f\", \"gridcolor\": \"white\", \"linecolor\": \"white\", \"minorgridcolor\": \"white\", \"startlinecolor\": \"#2a3f5f\"}, \"type\": \"carpet\"}], \"choropleth\": [{\"colorbar\": {\"outlinewidth\": 0, \"ticks\": \"\"}, \"type\": \"choropleth\"}], \"contour\": [{\"colorbar\": {\"outlinewidth\": 0, \"ticks\": \"\"}, \"colorscale\": [[0.0, \"#0d0887\"], [0.1111111111111111, \"#46039f\"], [0.2222222222222222, \"#7201a8\"], [0.3333333333333333, \"#9c179e\"], [0.4444444444444444, \"#bd3786\"], [0.5555555555555556, \"#d8576b\"], [0.6666666666666666, \"#ed7953\"], [0.7777777777777778, \"#fb9f3a\"], [0.8888888888888888, \"#fdca26\"], [1.0, \"#f0f921\"]], \"type\": \"contour\"}], \"contourcarpet\": [{\"colorbar\": {\"outlinewidth\": 0, \"ticks\": \"\"}, \"type\": \"contourcarpet\"}], \"heatmap\": [{\"colorbar\": {\"outlinewidth\": 0, \"ticks\": \"\"}, \"colorscale\": [[0.0, \"#0d0887\"], [0.1111111111111111, \"#46039f\"], [0.2222222222222222, \"#7201a8\"], [0.3333333333333333, \"#9c179e\"], [0.4444444444444444, \"#bd3786\"], [0.5555555555555556, \"#d8576b\"], [0.6666666666666666, \"#ed7953\"], [0.7777777777777778, \"#fb9f3a\"], [0.8888888888888888, \"#fdca26\"], [1.0, \"#f0f921\"]], \"type\": \"heatmap\"}], \"heatmapgl\": [{\"colorbar\": {\"outlinewidth\": 0, \"ticks\": \"\"}, \"colorscale\": [[0.0, \"#0d0887\"], [0.1111111111111111, \"#46039f\"], [0.2222222222222222, \"#7201a8\"], [0.3333333333333333, \"#9c179e\"], [0.4444444444444444, \"#bd3786\"], [0.5555555555555556, \"#d8576b\"], [0.6666666666666666, \"#ed7953\"], [0.7777777777777778, \"#fb9f3a\"], [0.8888888888888888, \"#fdca26\"], [1.0, \"#f0f921\"]], \"type\": \"heatmapgl\"}], \"histogram\": [{\"marker\": {\"colorbar\": {\"outlinewidth\": 0, \"ticks\": \"\"}}, \"type\": \"histogram\"}], \"histogram2d\": [{\"colorbar\": {\"outlinewidth\": 0, \"ticks\": \"\"}, \"colorscale\": [[0.0, \"#0d0887\"], [0.1111111111111111, \"#46039f\"], [0.2222222222222222, \"#7201a8\"], [0.3333333333333333, \"#9c179e\"], [0.4444444444444444, \"#bd3786\"], [0.5555555555555556, \"#d8576b\"], [0.6666666666666666, \"#ed7953\"], [0.7777777777777778, \"#fb9f3a\"], [0.8888888888888888, \"#fdca26\"], [1.0, \"#f0f921\"]], \"type\": \"histogram2d\"}], \"histogram2dcontour\": [{\"colorbar\": {\"outlinewidth\": 0, \"ticks\": \"\"}, \"colorscale\": [[0.0, \"#0d0887\"], [0.1111111111111111, \"#46039f\"], [0.2222222222222222, \"#7201a8\"], [0.3333333333333333, \"#9c179e\"], [0.4444444444444444, \"#bd3786\"], [0.5555555555555556, \"#d8576b\"], [0.6666666666666666, \"#ed7953\"], [0.7777777777777778, \"#fb9f3a\"], [0.8888888888888888, \"#fdca26\"], [1.0, \"#f0f921\"]], \"type\": \"histogram2dcontour\"}], \"mesh3d\": [{\"colorbar\": {\"outlinewidth\": 0, \"ticks\": \"\"}, \"type\": \"mesh3d\"}], \"parcoords\": [{\"line\": {\"colorbar\": {\"outlinewidth\": 0, \"ticks\": \"\"}}, \"type\": \"parcoords\"}], \"pie\": [{\"automargin\": true, \"type\": \"pie\"}], \"scatter\": [{\"marker\": {\"colorbar\": {\"outlinewidth\": 0, \"ticks\": \"\"}}, \"type\": \"scatter\"}], \"scatter3d\": [{\"line\": {\"colorbar\": {\"outlinewidth\": 0, \"ticks\": \"\"}}, \"marker\": {\"colorbar\": {\"outlinewidth\": 0, \"ticks\": \"\"}}, \"type\": \"scatter3d\"}], \"scattercarpet\": [{\"marker\": {\"colorbar\": {\"outlinewidth\": 0, \"ticks\": \"\"}}, \"type\": \"scattercarpet\"}], \"scattergeo\": [{\"marker\": {\"colorbar\": {\"outlinewidth\": 0, \"ticks\": \"\"}}, \"type\": \"scattergeo\"}], \"scattergl\": [{\"marker\": {\"colorbar\": {\"outlinewidth\": 0, \"ticks\": \"\"}}, \"type\": \"scattergl\"}], \"scattermapbox\": [{\"marker\": {\"colorbar\": {\"outlinewidth\": 0, \"ticks\": \"\"}}, \"type\": \"scattermapbox\"}], \"scatterpolar\": [{\"marker\": {\"colorbar\": {\"outlinewidth\": 0, \"ticks\": \"\"}}, \"type\": \"scatterpolar\"}], \"scatterpolargl\": [{\"marker\": {\"colorbar\": {\"outlinewidth\": 0, \"ticks\": \"\"}}, \"type\": \"scatterpolargl\"}], \"scatterternary\": [{\"marker\": {\"colorbar\": {\"outlinewidth\": 0, \"ticks\": \"\"}}, \"type\": \"scatterternary\"}], \"surface\": [{\"colorbar\": {\"outlinewidth\": 0, \"ticks\": \"\"}, \"colorscale\": [[0.0, \"#0d0887\"], [0.1111111111111111, \"#46039f\"], [0.2222222222222222, \"#7201a8\"], [0.3333333333333333, \"#9c179e\"], [0.4444444444444444, \"#bd3786\"], [0.5555555555555556, \"#d8576b\"], [0.6666666666666666, \"#ed7953\"], [0.7777777777777778, \"#fb9f3a\"], [0.8888888888888888, \"#fdca26\"], [1.0, \"#f0f921\"]], \"type\": \"surface\"}], \"table\": [{\"cells\": {\"fill\": {\"color\": \"#EBF0F8\"}, \"line\": {\"color\": \"white\"}}, \"header\": {\"fill\": {\"color\": \"#C8D4E3\"}, \"line\": {\"color\": \"white\"}}, \"type\": \"table\"}]}, \"layout\": {\"annotationdefaults\": {\"arrowcolor\": \"#2a3f5f\", \"arrowhead\": 0, \"arrowwidth\": 1}, \"coloraxis\": {\"colorbar\": {\"outlinewidth\": 0, \"ticks\": \"\"}}, \"colorscale\": {\"diverging\": [[0, \"#8e0152\"], [0.1, \"#c51b7d\"], [0.2, \"#de77ae\"], [0.3, \"#f1b6da\"], [0.4, \"#fde0ef\"], [0.5, \"#f7f7f7\"], [0.6, \"#e6f5d0\"], [0.7, \"#b8e186\"], [0.8, \"#7fbc41\"], [0.9, \"#4d9221\"], [1, \"#276419\"]], \"sequential\": [[0.0, \"#0d0887\"], [0.1111111111111111, \"#46039f\"], [0.2222222222222222, \"#7201a8\"], [0.3333333333333333, \"#9c179e\"], [0.4444444444444444, \"#bd3786\"], [0.5555555555555556, \"#d8576b\"], [0.6666666666666666, \"#ed7953\"], [0.7777777777777778, \"#fb9f3a\"], [0.8888888888888888, \"#fdca26\"], [1.0, \"#f0f921\"]], \"sequentialminus\": [[0.0, \"#0d0887\"], [0.1111111111111111, \"#46039f\"], [0.2222222222222222, \"#7201a8\"], [0.3333333333333333, \"#9c179e\"], [0.4444444444444444, \"#bd3786\"], [0.5555555555555556, \"#d8576b\"], [0.6666666666666666, \"#ed7953\"], [0.7777777777777778, \"#fb9f3a\"], [0.8888888888888888, \"#fdca26\"], [1.0, \"#f0f921\"]]}, \"colorway\": [\"#636efa\", \"#EF553B\", \"#00cc96\", \"#ab63fa\", \"#FFA15A\", \"#19d3f3\", \"#FF6692\", \"#B6E880\", \"#FF97FF\", \"#FECB52\"], \"font\": {\"color\": \"#2a3f5f\"}, \"geo\": {\"bgcolor\": \"white\", \"lakecolor\": \"white\", \"landcolor\": \"#E5ECF6\", \"showlakes\": true, \"showland\": true, \"subunitcolor\": \"white\"}, \"hoverlabel\": {\"align\": \"left\"}, \"hovermode\": \"closest\", \"mapbox\": {\"style\": \"light\"}, \"paper_bgcolor\": \"white\", \"plot_bgcolor\": \"#E5ECF6\", \"polar\": {\"angularaxis\": {\"gridcolor\": \"white\", \"linecolor\": \"white\", \"ticks\": \"\"}, \"bgcolor\": \"#E5ECF6\", \"radialaxis\": {\"gridcolor\": \"white\", \"linecolor\": \"white\", \"ticks\": \"\"}}, \"scene\": {\"xaxis\": {\"backgroundcolor\": \"#E5ECF6\", \"gridcolor\": \"white\", \"gridwidth\": 2, \"linecolor\": \"white\", \"showbackground\": true, \"ticks\": \"\", \"zerolinecolor\": \"white\"}, \"yaxis\": {\"backgroundcolor\": \"#E5ECF6\", \"gridcolor\": \"white\", \"gridwidth\": 2, \"linecolor\": \"white\", \"showbackground\": true, \"ticks\": \"\", \"zerolinecolor\": \"white\"}, \"zaxis\": {\"backgroundcolor\": \"#E5ECF6\", \"gridcolor\": \"white\", \"gridwidth\": 2, \"linecolor\": \"white\", \"showbackground\": true, \"ticks\": \"\", \"zerolinecolor\": \"white\"}}, \"shapedefaults\": {\"line\": {\"color\": \"#2a3f5f\"}}, \"ternary\": {\"aaxis\": {\"gridcolor\": \"white\", \"linecolor\": \"white\", \"ticks\": \"\"}, \"baxis\": {\"gridcolor\": \"white\", \"linecolor\": \"white\", \"ticks\": \"\"}, \"bgcolor\": \"#E5ECF6\", \"caxis\": {\"gridcolor\": \"white\", \"linecolor\": \"white\", \"ticks\": \"\"}}, \"title\": {\"x\": 0.05}, \"xaxis\": {\"automargin\": true, \"gridcolor\": \"white\", \"linecolor\": \"white\", \"ticks\": \"\", \"title\": {\"standoff\": 15}, \"zerolinecolor\": \"white\", \"zerolinewidth\": 2}, \"yaxis\": {\"automargin\": true, \"gridcolor\": \"white\", \"linecolor\": \"white\", \"ticks\": \"\", \"title\": {\"standoff\": 15}, \"zerolinecolor\": \"white\", \"zerolinewidth\": 2}}}, \"title\": {\"text\": \"Contour Plot\"}, \"xaxis\": {\"range\": [-0.0020453631529927553, 0.30555419256008914], \"title\": {\"text\": \"dropout\"}}, \"yaxis\": {\"range\": [198.65, 250.35], \"title\": {\"text\": \"nhid\"}}},\n",
              "                        {\"responsive\": true}\n",
              "                    ).then(function(){\n",
              "                            \n",
              "var gd = document.getElementById('19c66337-ff3b-4478-bd8d-ac9fb1c2b996');\n",
              "var x = new MutationObserver(function (mutations, observer) {{\n",
              "        var display = window.getComputedStyle(gd).display;\n",
              "        if (!display || display === 'none') {{\n",
              "            console.log([gd, 'removed!']);\n",
              "            Plotly.purge(gd);\n",
              "            observer.disconnect();\n",
              "        }}\n",
              "}});\n",
              "\n",
              "// Listen for the removal of the full notebook cells\n",
              "var notebookContainer = gd.closest('#notebook-container');\n",
              "if (notebookContainer) {{\n",
              "    x.observe(notebookContainer, {childList: true});\n",
              "}}\n",
              "\n",
              "// Listen for the clearing of the current output cell\n",
              "var outputEl = gd.closest('.output');\n",
              "if (outputEl) {{\n",
              "    x.observe(outputEl, {childList: true});\n",
              "}}\n",
              "\n",
              "                        })\n",
              "                };\n",
              "                \n",
              "            </script>\n",
              "        </div>\n",
              "</body>\n",
              "</html>"
            ]
          },
          "metadata": {
            "tags": []
          }
        }
      ]
    },
    {
      "cell_type": "code",
      "metadata": {
        "colab": {
          "base_uri": "https://localhost:8080/",
          "height": 542
        },
        "id": "nrxF2DP7_vq5",
        "outputId": "aa8db528-b2cf-411c-910f-0f1ea94d42c7"
      },
      "source": [
        "optuna.visualization.plot_contour(study, params=[\"lr\", \"gamma\"])"
      ],
      "execution_count": null,
      "outputs": [
        {
          "output_type": "display_data",
          "data": {
            "text/html": [
              "<html>\n",
              "<head><meta charset=\"utf-8\" /></head>\n",
              "<body>\n",
              "    <div>\n",
              "            <script src=\"https://cdnjs.cloudflare.com/ajax/libs/mathjax/2.7.5/MathJax.js?config=TeX-AMS-MML_SVG\"></script><script type=\"text/javascript\">if (window.MathJax) {MathJax.Hub.Config({SVG: {font: \"STIX-Web\"}});}</script>\n",
              "                <script type=\"text/javascript\">window.PlotlyConfig = {MathJaxConfig: 'local'};</script>\n",
              "        <script src=\"https://cdn.plot.ly/plotly-latest.min.js\"></script>    \n",
              "            <div id=\"f137aa28-ca0f-4fae-b2a5-95fbcc5c8fe2\" class=\"plotly-graph-div\" style=\"height:525px; width:100%;\"></div>\n",
              "            <script type=\"text/javascript\">\n",
              "                \n",
              "                    window.PLOTLYENV=window.PLOTLYENV || {};\n",
              "                    \n",
              "                if (document.getElementById(\"f137aa28-ca0f-4fae-b2a5-95fbcc5c8fe2\")) {\n",
              "                    Plotly.newPlot(\n",
              "                        'f137aa28-ca0f-4fae-b2a5-95fbcc5c8fe2',\n",
              "                        [{\"colorbar\": {\"title\": {\"text\": \"Objective Value\"}}, \"colorscale\": [[0, \"rgb(5,10,172)\"], [0.35, \"rgb(40,60,190)\"], [0.5, \"rgb(70,100,245)\"], [0.6, \"rgb(90,120,245)\"], [0.7, \"rgb(106,137,247)\"], [1, \"rgb(220,220,220)\"]], \"connectgaps\": true, \"contours\": {\"coloring\": \"heatmap\"}, \"hoverinfo\": \"none\", \"line\": {\"smoothing\": 1.3}, \"reversescale\": true, \"type\": \"contour\", \"x\": [0.07659385977926401, 0.11073534413029781, 0.11387398408524015, 0.12413634025588427, 0.1861770576322967, 0.19002183514091936, 0.19025144715133657, 0.19414206102443016, 0.20473743771164046, 0.21100526731594993, 0.2997542639883056, 0.3947811906548898, 0.4743508121114588, 0.48350324497600083, 0.6416670741578635, 0.71538465981417, 0.7935650311509738, 0.8277065155020076], \"y\": [1.441472861024611, 1.5138890839453072, 1.680555834536628, 1.6829020967416268, 1.8061677484693233, 1.8987226073837598, 1.9290057349096748, 2.12165323781079, 2.269584192805545, 2.287093387840854, 2.3207393953966555, 2.387677644711462, 2.490729324517335, 2.549911034301068, 2.637413636581579, 2.9532273669338855, 2.9622135423592324, 3.0346297652799286], \"z\": [[null, null, null, null, null, null, null, null, null, null, null, null, null, null, null, null, null, null], [null, null, null, null, null, null, null, null, 5.035496179371364, null, null, null, null, null, null, null, null, null], [null, null, null, null, null, null, 5.0269072738043095, null, null, null, null, null, null, null, null, null, null, null], [null, null, null, null, null, null, null, 5.028505911057206, null, null, null, null, null, null, null, null, null, null], [null, null, null, null, null, 5.043236000679738, null, null, null, null, null, null, null, null, null, null, null, null], [null, null, null, null, 5.038435943799724, null, null, null, null, null, null, null, null, null, null, null, null, null], [null, 5.0459569167443785, null, null, null, null, null, null, null, null, null, null, null, null, null, null, null, null], [null, null, null, null, null, null, null, null, null, null, null, null, null, null, 5.160392798653464, null, null, null], [null, null, null, 5.056086655376571, null, null, null, null, null, null, null, null, null, null, null, null, null, null], [null, null, null, null, null, null, null, null, null, null, null, null, null, null, null, null, 5.073691824261358, null], [null, null, null, null, null, null, null, null, null, null, null, null, 5.040194518539682, null, null, null, null, null], [null, null, null, null, null, null, null, null, null, null, null, null, null, 5.097587898910521, null, null, null, null], [null, null, null, null, null, null, null, null, null, 5.0066618720890785, null, null, null, null, null, null, null, null], [null, null, null, null, null, null, null, null, null, null, null, 5.097297099854842, null, null, null, null, null, null], [null, null, null, null, null, null, null, null, null, null, null, null, null, null, null, 5.142858905360298, null, null], [null, null, 4.999077273145259, null, null, null, null, null, null, null, null, null, null, null, null, null, null, null], [null, null, null, null, null, null, null, null, null, null, 5.050836703927486, null, null, null, null, null, null, null], [null, null, null, null, null, null, null, null, null, null, null, null, null, null, null, null, null, null]]}, {\"marker\": {\"color\": \"black\", \"line\": {\"color\": \"Grey\", \"width\": 0.5}}, \"mode\": \"markers\", \"showlegend\": false, \"type\": \"scatter\", \"x\": [0.6416670741578635, 0.71538465981417, 0.48350324497600083, 0.12413634025588427, 0.3947811906548898, 0.4743508121114588, 0.7935650311509738, 0.11387398408524015, 0.2997542639883056, 0.1861770576322967, 0.19002183514091936, 0.11073534413029781, 0.20473743771164046, 0.19414206102443016, 0.19025144715133657, 0.21100526731594993], \"y\": [2.12165323781079, 2.637413636581579, 2.387677644711462, 2.269584192805545, 2.549911034301068, 2.3207393953966555, 2.287093387840854, 2.9532273669338855, 2.9622135423592324, 1.8987226073837598, 1.8061677484693233, 1.9290057349096748, 1.5138890839453072, 1.6829020967416268, 1.680555834536628, 2.490729324517335]}],\n",
              "                        {\"template\": {\"data\": {\"bar\": [{\"error_x\": {\"color\": \"#2a3f5f\"}, \"error_y\": {\"color\": \"#2a3f5f\"}, \"marker\": {\"line\": {\"color\": \"#E5ECF6\", \"width\": 0.5}}, \"type\": \"bar\"}], \"barpolar\": [{\"marker\": {\"line\": {\"color\": \"#E5ECF6\", \"width\": 0.5}}, \"type\": \"barpolar\"}], \"carpet\": [{\"aaxis\": {\"endlinecolor\": \"#2a3f5f\", \"gridcolor\": \"white\", \"linecolor\": \"white\", \"minorgridcolor\": \"white\", \"startlinecolor\": \"#2a3f5f\"}, \"baxis\": {\"endlinecolor\": \"#2a3f5f\", \"gridcolor\": \"white\", \"linecolor\": \"white\", \"minorgridcolor\": \"white\", \"startlinecolor\": \"#2a3f5f\"}, \"type\": \"carpet\"}], \"choropleth\": [{\"colorbar\": {\"outlinewidth\": 0, \"ticks\": \"\"}, \"type\": \"choropleth\"}], \"contour\": [{\"colorbar\": {\"outlinewidth\": 0, \"ticks\": \"\"}, \"colorscale\": [[0.0, \"#0d0887\"], [0.1111111111111111, \"#46039f\"], [0.2222222222222222, \"#7201a8\"], [0.3333333333333333, \"#9c179e\"], [0.4444444444444444, \"#bd3786\"], [0.5555555555555556, \"#d8576b\"], [0.6666666666666666, \"#ed7953\"], [0.7777777777777778, \"#fb9f3a\"], [0.8888888888888888, \"#fdca26\"], [1.0, \"#f0f921\"]], \"type\": \"contour\"}], \"contourcarpet\": [{\"colorbar\": {\"outlinewidth\": 0, \"ticks\": \"\"}, \"type\": \"contourcarpet\"}], \"heatmap\": [{\"colorbar\": {\"outlinewidth\": 0, \"ticks\": \"\"}, \"colorscale\": [[0.0, \"#0d0887\"], [0.1111111111111111, \"#46039f\"], [0.2222222222222222, \"#7201a8\"], [0.3333333333333333, \"#9c179e\"], [0.4444444444444444, \"#bd3786\"], [0.5555555555555556, \"#d8576b\"], [0.6666666666666666, \"#ed7953\"], [0.7777777777777778, \"#fb9f3a\"], [0.8888888888888888, \"#fdca26\"], [1.0, \"#f0f921\"]], \"type\": \"heatmap\"}], \"heatmapgl\": [{\"colorbar\": {\"outlinewidth\": 0, \"ticks\": \"\"}, \"colorscale\": [[0.0, \"#0d0887\"], [0.1111111111111111, \"#46039f\"], [0.2222222222222222, \"#7201a8\"], [0.3333333333333333, \"#9c179e\"], [0.4444444444444444, \"#bd3786\"], [0.5555555555555556, \"#d8576b\"], [0.6666666666666666, \"#ed7953\"], [0.7777777777777778, \"#fb9f3a\"], [0.8888888888888888, \"#fdca26\"], [1.0, \"#f0f921\"]], \"type\": \"heatmapgl\"}], \"histogram\": [{\"marker\": {\"colorbar\": {\"outlinewidth\": 0, \"ticks\": \"\"}}, \"type\": \"histogram\"}], \"histogram2d\": [{\"colorbar\": {\"outlinewidth\": 0, \"ticks\": \"\"}, \"colorscale\": [[0.0, \"#0d0887\"], [0.1111111111111111, \"#46039f\"], [0.2222222222222222, \"#7201a8\"], [0.3333333333333333, \"#9c179e\"], [0.4444444444444444, \"#bd3786\"], [0.5555555555555556, \"#d8576b\"], [0.6666666666666666, \"#ed7953\"], [0.7777777777777778, \"#fb9f3a\"], [0.8888888888888888, \"#fdca26\"], [1.0, \"#f0f921\"]], \"type\": \"histogram2d\"}], \"histogram2dcontour\": [{\"colorbar\": {\"outlinewidth\": 0, \"ticks\": \"\"}, \"colorscale\": [[0.0, \"#0d0887\"], [0.1111111111111111, \"#46039f\"], [0.2222222222222222, \"#7201a8\"], [0.3333333333333333, \"#9c179e\"], [0.4444444444444444, \"#bd3786\"], [0.5555555555555556, \"#d8576b\"], [0.6666666666666666, \"#ed7953\"], [0.7777777777777778, \"#fb9f3a\"], [0.8888888888888888, \"#fdca26\"], [1.0, \"#f0f921\"]], \"type\": \"histogram2dcontour\"}], \"mesh3d\": [{\"colorbar\": {\"outlinewidth\": 0, \"ticks\": \"\"}, \"type\": \"mesh3d\"}], \"parcoords\": [{\"line\": {\"colorbar\": {\"outlinewidth\": 0, \"ticks\": \"\"}}, \"type\": \"parcoords\"}], \"pie\": [{\"automargin\": true, \"type\": \"pie\"}], \"scatter\": [{\"marker\": {\"colorbar\": {\"outlinewidth\": 0, \"ticks\": \"\"}}, \"type\": \"scatter\"}], \"scatter3d\": [{\"line\": {\"colorbar\": {\"outlinewidth\": 0, \"ticks\": \"\"}}, \"marker\": {\"colorbar\": {\"outlinewidth\": 0, \"ticks\": \"\"}}, \"type\": \"scatter3d\"}], \"scattercarpet\": [{\"marker\": {\"colorbar\": {\"outlinewidth\": 0, \"ticks\": \"\"}}, \"type\": \"scattercarpet\"}], \"scattergeo\": [{\"marker\": {\"colorbar\": {\"outlinewidth\": 0, \"ticks\": \"\"}}, \"type\": \"scattergeo\"}], \"scattergl\": [{\"marker\": {\"colorbar\": {\"outlinewidth\": 0, \"ticks\": \"\"}}, \"type\": \"scattergl\"}], \"scattermapbox\": [{\"marker\": {\"colorbar\": {\"outlinewidth\": 0, \"ticks\": \"\"}}, \"type\": \"scattermapbox\"}], \"scatterpolar\": [{\"marker\": {\"colorbar\": {\"outlinewidth\": 0, \"ticks\": \"\"}}, \"type\": \"scatterpolar\"}], \"scatterpolargl\": [{\"marker\": {\"colorbar\": {\"outlinewidth\": 0, \"ticks\": \"\"}}, \"type\": \"scatterpolargl\"}], \"scatterternary\": [{\"marker\": {\"colorbar\": {\"outlinewidth\": 0, \"ticks\": \"\"}}, \"type\": \"scatterternary\"}], \"surface\": [{\"colorbar\": {\"outlinewidth\": 0, \"ticks\": \"\"}, \"colorscale\": [[0.0, \"#0d0887\"], [0.1111111111111111, \"#46039f\"], [0.2222222222222222, \"#7201a8\"], [0.3333333333333333, \"#9c179e\"], [0.4444444444444444, \"#bd3786\"], [0.5555555555555556, \"#d8576b\"], [0.6666666666666666, \"#ed7953\"], [0.7777777777777778, \"#fb9f3a\"], [0.8888888888888888, \"#fdca26\"], [1.0, \"#f0f921\"]], \"type\": \"surface\"}], \"table\": [{\"cells\": {\"fill\": {\"color\": \"#EBF0F8\"}, \"line\": {\"color\": \"white\"}}, \"header\": {\"fill\": {\"color\": \"#C8D4E3\"}, \"line\": {\"color\": \"white\"}}, \"type\": \"table\"}]}, \"layout\": {\"annotationdefaults\": {\"arrowcolor\": \"#2a3f5f\", \"arrowhead\": 0, \"arrowwidth\": 1}, \"coloraxis\": {\"colorbar\": {\"outlinewidth\": 0, \"ticks\": \"\"}}, \"colorscale\": {\"diverging\": [[0, \"#8e0152\"], [0.1, \"#c51b7d\"], [0.2, \"#de77ae\"], [0.3, \"#f1b6da\"], [0.4, \"#fde0ef\"], [0.5, \"#f7f7f7\"], [0.6, \"#e6f5d0\"], [0.7, \"#b8e186\"], [0.8, \"#7fbc41\"], [0.9, \"#4d9221\"], [1, \"#276419\"]], \"sequential\": [[0.0, \"#0d0887\"], [0.1111111111111111, \"#46039f\"], [0.2222222222222222, \"#7201a8\"], [0.3333333333333333, \"#9c179e\"], [0.4444444444444444, \"#bd3786\"], [0.5555555555555556, \"#d8576b\"], [0.6666666666666666, \"#ed7953\"], [0.7777777777777778, \"#fb9f3a\"], [0.8888888888888888, \"#fdca26\"], [1.0, \"#f0f921\"]], \"sequentialminus\": [[0.0, \"#0d0887\"], [0.1111111111111111, \"#46039f\"], [0.2222222222222222, \"#7201a8\"], [0.3333333333333333, \"#9c179e\"], [0.4444444444444444, \"#bd3786\"], [0.5555555555555556, \"#d8576b\"], [0.6666666666666666, \"#ed7953\"], [0.7777777777777778, \"#fb9f3a\"], [0.8888888888888888, \"#fdca26\"], [1.0, \"#f0f921\"]]}, \"colorway\": [\"#636efa\", \"#EF553B\", \"#00cc96\", \"#ab63fa\", \"#FFA15A\", \"#19d3f3\", \"#FF6692\", \"#B6E880\", \"#FF97FF\", \"#FECB52\"], \"font\": {\"color\": \"#2a3f5f\"}, \"geo\": {\"bgcolor\": \"white\", \"lakecolor\": \"white\", \"landcolor\": \"#E5ECF6\", \"showlakes\": true, \"showland\": true, \"subunitcolor\": \"white\"}, \"hoverlabel\": {\"align\": \"left\"}, \"hovermode\": \"closest\", \"mapbox\": {\"style\": \"light\"}, \"paper_bgcolor\": \"white\", \"plot_bgcolor\": \"#E5ECF6\", \"polar\": {\"angularaxis\": {\"gridcolor\": \"white\", \"linecolor\": \"white\", \"ticks\": \"\"}, \"bgcolor\": \"#E5ECF6\", \"radialaxis\": {\"gridcolor\": \"white\", \"linecolor\": \"white\", \"ticks\": \"\"}}, \"scene\": {\"xaxis\": {\"backgroundcolor\": \"#E5ECF6\", \"gridcolor\": \"white\", \"gridwidth\": 2, \"linecolor\": \"white\", \"showbackground\": true, \"ticks\": \"\", \"zerolinecolor\": \"white\"}, \"yaxis\": {\"backgroundcolor\": \"#E5ECF6\", \"gridcolor\": \"white\", \"gridwidth\": 2, \"linecolor\": \"white\", \"showbackground\": true, \"ticks\": \"\", \"zerolinecolor\": \"white\"}, \"zaxis\": {\"backgroundcolor\": \"#E5ECF6\", \"gridcolor\": \"white\", \"gridwidth\": 2, \"linecolor\": \"white\", \"showbackground\": true, \"ticks\": \"\", \"zerolinecolor\": \"white\"}}, \"shapedefaults\": {\"line\": {\"color\": \"#2a3f5f\"}}, \"ternary\": {\"aaxis\": {\"gridcolor\": \"white\", \"linecolor\": \"white\", \"ticks\": \"\"}, \"baxis\": {\"gridcolor\": \"white\", \"linecolor\": \"white\", \"ticks\": \"\"}, \"bgcolor\": \"#E5ECF6\", \"caxis\": {\"gridcolor\": \"white\", \"linecolor\": \"white\", \"ticks\": \"\"}}, \"title\": {\"x\": 0.05}, \"xaxis\": {\"automargin\": true, \"gridcolor\": \"white\", \"linecolor\": \"white\", \"ticks\": \"\", \"title\": {\"standoff\": 15}, \"zerolinecolor\": \"white\", \"zerolinewidth\": 2}, \"yaxis\": {\"automargin\": true, \"gridcolor\": \"white\", \"linecolor\": \"white\", \"ticks\": \"\", \"title\": {\"standoff\": 15}, \"zerolinecolor\": \"white\", \"zerolinewidth\": 2}}}, \"title\": {\"text\": \"Contour Plot\"}, \"xaxis\": {\"range\": [0.07659385977926401, 0.8277065155020076], \"title\": {\"text\": \"gamma\"}}, \"yaxis\": {\"range\": [1.441472861024611, 3.0346297652799286], \"title\": {\"text\": \"lr\"}}},\n",
              "                        {\"responsive\": true}\n",
              "                    ).then(function(){\n",
              "                            \n",
              "var gd = document.getElementById('f137aa28-ca0f-4fae-b2a5-95fbcc5c8fe2');\n",
              "var x = new MutationObserver(function (mutations, observer) {{\n",
              "        var display = window.getComputedStyle(gd).display;\n",
              "        if (!display || display === 'none') {{\n",
              "            console.log([gd, 'removed!']);\n",
              "            Plotly.purge(gd);\n",
              "            observer.disconnect();\n",
              "        }}\n",
              "}});\n",
              "\n",
              "// Listen for the removal of the full notebook cells\n",
              "var notebookContainer = gd.closest('#notebook-container');\n",
              "if (notebookContainer) {{\n",
              "    x.observe(notebookContainer, {childList: true});\n",
              "}}\n",
              "\n",
              "// Listen for the clearing of the current output cell\n",
              "var outputEl = gd.closest('.output');\n",
              "if (outputEl) {{\n",
              "    x.observe(outputEl, {childList: true});\n",
              "}}\n",
              "\n",
              "                        })\n",
              "                };\n",
              "                \n",
              "            </script>\n",
              "        </div>\n",
              "</body>\n",
              "</html>"
            ]
          },
          "metadata": {
            "tags": []
          }
        }
      ]
    },
    {
      "cell_type": "code",
      "metadata": {
        "colab": {
          "base_uri": "https://localhost:8080/",
          "height": 542
        },
        "id": "4EZH3Hcg_vtl",
        "outputId": "456a163e-cd07-4ce6-dd23-1e95b504c127"
      },
      "source": [
        "optuna.visualization.plot_contour(study, params=[\"gamma\", \"dropout\"])"
      ],
      "execution_count": null,
      "outputs": [
        {
          "output_type": "display_data",
          "data": {
            "text/html": [
              "<html>\n",
              "<head><meta charset=\"utf-8\" /></head>\n",
              "<body>\n",
              "    <div>\n",
              "            <script src=\"https://cdnjs.cloudflare.com/ajax/libs/mathjax/2.7.5/MathJax.js?config=TeX-AMS-MML_SVG\"></script><script type=\"text/javascript\">if (window.MathJax) {MathJax.Hub.Config({SVG: {font: \"STIX-Web\"}});}</script>\n",
              "                <script type=\"text/javascript\">window.PlotlyConfig = {MathJaxConfig: 'local'};</script>\n",
              "        <script src=\"https://cdn.plot.ly/plotly-latest.min.js\"></script>    \n",
              "            <div id=\"4ef598c5-4142-44aa-903a-7e2e043d02ea\" class=\"plotly-graph-div\" style=\"height:525px; width:100%;\"></div>\n",
              "            <script type=\"text/javascript\">\n",
              "                \n",
              "                    window.PLOTLYENV=window.PLOTLYENV || {};\n",
              "                    \n",
              "                if (document.getElementById(\"4ef598c5-4142-44aa-903a-7e2e043d02ea\")) {\n",
              "                    Plotly.newPlot(\n",
              "                        '4ef598c5-4142-44aa-903a-7e2e043d02ea',\n",
              "                        [{\"colorbar\": {\"title\": {\"text\": \"Objective Value\"}}, \"colorscale\": [[0, \"rgb(5,10,172)\"], [0.35, \"rgb(40,60,190)\"], [0.5, \"rgb(70,100,245)\"], [0.6, \"rgb(90,120,245)\"], [0.7, \"rgb(106,137,247)\"], [1, \"rgb(220,220,220)\"]], \"connectgaps\": true, \"contours\": {\"coloring\": \"heatmap\"}, \"hoverinfo\": \"none\", \"line\": {\"smoothing\": 1.3}, \"reversescale\": true, \"type\": \"contour\", \"x\": [-0.0020453631529927553, 0.011936434833965514, 0.014873939951602883, 0.037325664660693814, 0.037402275487701496, 0.044769626229443873, 0.046592700934888556, 0.056899715509401996, 0.0679924404226665, 0.08473754521178828, 0.12737238602582715, 0.13071221255279464, 0.17838446802589364, 0.17933945966567108, 0.18428227745382458, 0.20763145610103886, 0.2915723945731309, 0.30555419256008914], \"y\": [0.07659385977926401, 0.11073534413029781, 0.11387398408524015, 0.12413634025588427, 0.1861770576322967, 0.19002183514091936, 0.19025144715133657, 0.19414206102443016, 0.20473743771164046, 0.21100526731594993, 0.2997542639883056, 0.3947811906548898, 0.4743508121114588, 0.48350324497600083, 0.6416670741578635, 0.71538465981417, 0.7935650311509738, 0.8277065155020076], \"z\": [[null, null, null, null, null, null, null, null, null, null, null, null, null, null, null, null, null, null], [null, null, null, null, null, 5.0459569167443785, null, null, null, null, null, null, null, null, null, null, null, null], [null, null, null, null, null, null, null, null, 4.999077273145259, null, null, null, null, null, null, null, null, null], [null, null, null, null, null, null, null, null, null, null, null, null, null, null, 5.056086655376571, null, null, null], [null, null, 5.038435943799724, null, null, null, null, null, null, null, null, null, null, null, null, null, null, null], [null, 5.043236000679738, null, null, null, null, null, null, null, null, null, null, null, null, null, null, null, null], [null, null, null, null, null, null, 5.0269072738043095, null, null, null, null, null, null, null, null, null, null, null], [null, null, null, 5.028505911057206, null, null, null, null, null, null, null, null, null, null, null, null, null, null], [null, null, null, null, 5.035496179371364, null, null, null, null, null, null, null, null, null, null, null, null, null], [null, null, null, null, null, null, null, null, null, 5.0066618720890785, null, null, null, null, null, null, null, null], [null, null, null, null, null, null, null, 5.050836703927486, null, null, null, null, null, null, null, null, null, null], [null, null, null, null, null, null, null, null, null, null, null, null, null, 5.097297099854842, null, null, null, null], [null, null, null, null, null, null, null, null, null, null, null, null, 5.040194518539682, null, null, null, null, null], [null, null, null, null, null, null, null, null, null, null, null, 5.097587898910521, null, null, null, null, null, null], [null, null, null, null, null, null, null, null, null, null, null, null, null, null, null, null, 5.160392798653464, null], [null, null, null, null, null, null, null, null, null, null, null, null, null, null, null, 5.142858905360298, null, null], [null, null, null, null, null, null, null, null, null, null, 5.073691824261358, null, null, null, null, null, null, null], [null, null, null, null, null, null, null, null, null, null, null, null, null, null, null, null, null, null]]}, {\"marker\": {\"color\": \"black\", \"line\": {\"color\": \"Grey\", \"width\": 0.5}}, \"mode\": \"markers\", \"showlegend\": false, \"type\": \"scatter\", \"x\": [0.2915723945731309, 0.20763145610103886, 0.13071221255279464, 0.18428227745382458, 0.17933945966567108, 0.17838446802589364, 0.12737238602582715, 0.0679924404226665, 0.056899715509401996, 0.014873939951602883, 0.011936434833965514, 0.044769626229443873, 0.037402275487701496, 0.037325664660693814, 0.046592700934888556, 0.08473754521178828], \"y\": [0.6416670741578635, 0.71538465981417, 0.48350324497600083, 0.12413634025588427, 0.3947811906548898, 0.4743508121114588, 0.7935650311509738, 0.11387398408524015, 0.2997542639883056, 0.1861770576322967, 0.19002183514091936, 0.11073534413029781, 0.20473743771164046, 0.19414206102443016, 0.19025144715133657, 0.21100526731594993]}],\n",
              "                        {\"template\": {\"data\": {\"bar\": [{\"error_x\": {\"color\": \"#2a3f5f\"}, \"error_y\": {\"color\": \"#2a3f5f\"}, \"marker\": {\"line\": {\"color\": \"#E5ECF6\", \"width\": 0.5}}, \"type\": \"bar\"}], \"barpolar\": [{\"marker\": {\"line\": {\"color\": \"#E5ECF6\", \"width\": 0.5}}, \"type\": \"barpolar\"}], \"carpet\": [{\"aaxis\": {\"endlinecolor\": \"#2a3f5f\", \"gridcolor\": \"white\", \"linecolor\": \"white\", \"minorgridcolor\": \"white\", \"startlinecolor\": \"#2a3f5f\"}, \"baxis\": {\"endlinecolor\": \"#2a3f5f\", \"gridcolor\": \"white\", \"linecolor\": \"white\", \"minorgridcolor\": \"white\", \"startlinecolor\": \"#2a3f5f\"}, \"type\": \"carpet\"}], \"choropleth\": [{\"colorbar\": {\"outlinewidth\": 0, \"ticks\": \"\"}, \"type\": \"choropleth\"}], \"contour\": [{\"colorbar\": {\"outlinewidth\": 0, \"ticks\": \"\"}, \"colorscale\": [[0.0, \"#0d0887\"], [0.1111111111111111, \"#46039f\"], [0.2222222222222222, \"#7201a8\"], [0.3333333333333333, \"#9c179e\"], [0.4444444444444444, \"#bd3786\"], [0.5555555555555556, \"#d8576b\"], [0.6666666666666666, \"#ed7953\"], [0.7777777777777778, \"#fb9f3a\"], [0.8888888888888888, \"#fdca26\"], [1.0, \"#f0f921\"]], \"type\": \"contour\"}], \"contourcarpet\": [{\"colorbar\": {\"outlinewidth\": 0, \"ticks\": \"\"}, \"type\": \"contourcarpet\"}], \"heatmap\": [{\"colorbar\": {\"outlinewidth\": 0, \"ticks\": \"\"}, \"colorscale\": [[0.0, \"#0d0887\"], [0.1111111111111111, \"#46039f\"], [0.2222222222222222, \"#7201a8\"], [0.3333333333333333, \"#9c179e\"], [0.4444444444444444, \"#bd3786\"], [0.5555555555555556, \"#d8576b\"], [0.6666666666666666, \"#ed7953\"], [0.7777777777777778, \"#fb9f3a\"], [0.8888888888888888, \"#fdca26\"], [1.0, \"#f0f921\"]], \"type\": \"heatmap\"}], \"heatmapgl\": [{\"colorbar\": {\"outlinewidth\": 0, \"ticks\": \"\"}, \"colorscale\": [[0.0, \"#0d0887\"], [0.1111111111111111, \"#46039f\"], [0.2222222222222222, \"#7201a8\"], [0.3333333333333333, \"#9c179e\"], [0.4444444444444444, \"#bd3786\"], [0.5555555555555556, \"#d8576b\"], [0.6666666666666666, \"#ed7953\"], [0.7777777777777778, \"#fb9f3a\"], [0.8888888888888888, \"#fdca26\"], [1.0, \"#f0f921\"]], \"type\": \"heatmapgl\"}], \"histogram\": [{\"marker\": {\"colorbar\": {\"outlinewidth\": 0, \"ticks\": \"\"}}, \"type\": \"histogram\"}], \"histogram2d\": [{\"colorbar\": {\"outlinewidth\": 0, \"ticks\": \"\"}, \"colorscale\": [[0.0, \"#0d0887\"], [0.1111111111111111, \"#46039f\"], [0.2222222222222222, \"#7201a8\"], [0.3333333333333333, \"#9c179e\"], [0.4444444444444444, \"#bd3786\"], [0.5555555555555556, \"#d8576b\"], [0.6666666666666666, \"#ed7953\"], [0.7777777777777778, \"#fb9f3a\"], [0.8888888888888888, \"#fdca26\"], [1.0, \"#f0f921\"]], \"type\": \"histogram2d\"}], \"histogram2dcontour\": [{\"colorbar\": {\"outlinewidth\": 0, \"ticks\": \"\"}, \"colorscale\": [[0.0, \"#0d0887\"], [0.1111111111111111, \"#46039f\"], [0.2222222222222222, \"#7201a8\"], [0.3333333333333333, \"#9c179e\"], [0.4444444444444444, \"#bd3786\"], [0.5555555555555556, \"#d8576b\"], [0.6666666666666666, \"#ed7953\"], [0.7777777777777778, \"#fb9f3a\"], [0.8888888888888888, \"#fdca26\"], [1.0, \"#f0f921\"]], \"type\": \"histogram2dcontour\"}], \"mesh3d\": [{\"colorbar\": {\"outlinewidth\": 0, \"ticks\": \"\"}, \"type\": \"mesh3d\"}], \"parcoords\": [{\"line\": {\"colorbar\": {\"outlinewidth\": 0, \"ticks\": \"\"}}, \"type\": \"parcoords\"}], \"pie\": [{\"automargin\": true, \"type\": \"pie\"}], \"scatter\": [{\"marker\": {\"colorbar\": {\"outlinewidth\": 0, \"ticks\": \"\"}}, \"type\": \"scatter\"}], \"scatter3d\": [{\"line\": {\"colorbar\": {\"outlinewidth\": 0, \"ticks\": \"\"}}, \"marker\": {\"colorbar\": {\"outlinewidth\": 0, \"ticks\": \"\"}}, \"type\": \"scatter3d\"}], \"scattercarpet\": [{\"marker\": {\"colorbar\": {\"outlinewidth\": 0, \"ticks\": \"\"}}, \"type\": \"scattercarpet\"}], \"scattergeo\": [{\"marker\": {\"colorbar\": {\"outlinewidth\": 0, \"ticks\": \"\"}}, \"type\": \"scattergeo\"}], \"scattergl\": [{\"marker\": {\"colorbar\": {\"outlinewidth\": 0, \"ticks\": \"\"}}, \"type\": \"scattergl\"}], \"scattermapbox\": [{\"marker\": {\"colorbar\": {\"outlinewidth\": 0, \"ticks\": \"\"}}, \"type\": \"scattermapbox\"}], \"scatterpolar\": [{\"marker\": {\"colorbar\": {\"outlinewidth\": 0, \"ticks\": \"\"}}, \"type\": \"scatterpolar\"}], \"scatterpolargl\": [{\"marker\": {\"colorbar\": {\"outlinewidth\": 0, \"ticks\": \"\"}}, \"type\": \"scatterpolargl\"}], \"scatterternary\": [{\"marker\": {\"colorbar\": {\"outlinewidth\": 0, \"ticks\": \"\"}}, \"type\": \"scatterternary\"}], \"surface\": [{\"colorbar\": {\"outlinewidth\": 0, \"ticks\": \"\"}, \"colorscale\": [[0.0, \"#0d0887\"], [0.1111111111111111, \"#46039f\"], [0.2222222222222222, \"#7201a8\"], [0.3333333333333333, \"#9c179e\"], [0.4444444444444444, \"#bd3786\"], [0.5555555555555556, \"#d8576b\"], [0.6666666666666666, \"#ed7953\"], [0.7777777777777778, \"#fb9f3a\"], [0.8888888888888888, \"#fdca26\"], [1.0, \"#f0f921\"]], \"type\": \"surface\"}], \"table\": [{\"cells\": {\"fill\": {\"color\": \"#EBF0F8\"}, \"line\": {\"color\": \"white\"}}, \"header\": {\"fill\": {\"color\": \"#C8D4E3\"}, \"line\": {\"color\": \"white\"}}, \"type\": \"table\"}]}, \"layout\": {\"annotationdefaults\": {\"arrowcolor\": \"#2a3f5f\", \"arrowhead\": 0, \"arrowwidth\": 1}, \"coloraxis\": {\"colorbar\": {\"outlinewidth\": 0, \"ticks\": \"\"}}, \"colorscale\": {\"diverging\": [[0, \"#8e0152\"], [0.1, \"#c51b7d\"], [0.2, \"#de77ae\"], [0.3, \"#f1b6da\"], [0.4, \"#fde0ef\"], [0.5, \"#f7f7f7\"], [0.6, \"#e6f5d0\"], [0.7, \"#b8e186\"], [0.8, \"#7fbc41\"], [0.9, \"#4d9221\"], [1, \"#276419\"]], \"sequential\": [[0.0, \"#0d0887\"], [0.1111111111111111, \"#46039f\"], [0.2222222222222222, \"#7201a8\"], [0.3333333333333333, \"#9c179e\"], [0.4444444444444444, \"#bd3786\"], [0.5555555555555556, \"#d8576b\"], [0.6666666666666666, \"#ed7953\"], [0.7777777777777778, \"#fb9f3a\"], [0.8888888888888888, \"#fdca26\"], [1.0, \"#f0f921\"]], \"sequentialminus\": [[0.0, \"#0d0887\"], [0.1111111111111111, \"#46039f\"], [0.2222222222222222, \"#7201a8\"], [0.3333333333333333, \"#9c179e\"], [0.4444444444444444, \"#bd3786\"], [0.5555555555555556, \"#d8576b\"], [0.6666666666666666, \"#ed7953\"], [0.7777777777777778, \"#fb9f3a\"], [0.8888888888888888, \"#fdca26\"], [1.0, \"#f0f921\"]]}, \"colorway\": [\"#636efa\", \"#EF553B\", \"#00cc96\", \"#ab63fa\", \"#FFA15A\", \"#19d3f3\", \"#FF6692\", \"#B6E880\", \"#FF97FF\", \"#FECB52\"], \"font\": {\"color\": \"#2a3f5f\"}, \"geo\": {\"bgcolor\": \"white\", \"lakecolor\": \"white\", \"landcolor\": \"#E5ECF6\", \"showlakes\": true, \"showland\": true, \"subunitcolor\": \"white\"}, \"hoverlabel\": {\"align\": \"left\"}, \"hovermode\": \"closest\", \"mapbox\": {\"style\": \"light\"}, \"paper_bgcolor\": \"white\", \"plot_bgcolor\": \"#E5ECF6\", \"polar\": {\"angularaxis\": {\"gridcolor\": \"white\", \"linecolor\": \"white\", \"ticks\": \"\"}, \"bgcolor\": \"#E5ECF6\", \"radialaxis\": {\"gridcolor\": \"white\", \"linecolor\": \"white\", \"ticks\": \"\"}}, \"scene\": {\"xaxis\": {\"backgroundcolor\": \"#E5ECF6\", \"gridcolor\": \"white\", \"gridwidth\": 2, \"linecolor\": \"white\", \"showbackground\": true, \"ticks\": \"\", \"zerolinecolor\": \"white\"}, \"yaxis\": {\"backgroundcolor\": \"#E5ECF6\", \"gridcolor\": \"white\", \"gridwidth\": 2, \"linecolor\": \"white\", \"showbackground\": true, \"ticks\": \"\", \"zerolinecolor\": \"white\"}, \"zaxis\": {\"backgroundcolor\": \"#E5ECF6\", \"gridcolor\": \"white\", \"gridwidth\": 2, \"linecolor\": \"white\", \"showbackground\": true, \"ticks\": \"\", \"zerolinecolor\": \"white\"}}, \"shapedefaults\": {\"line\": {\"color\": \"#2a3f5f\"}}, \"ternary\": {\"aaxis\": {\"gridcolor\": \"white\", \"linecolor\": \"white\", \"ticks\": \"\"}, \"baxis\": {\"gridcolor\": \"white\", \"linecolor\": \"white\", \"ticks\": \"\"}, \"bgcolor\": \"#E5ECF6\", \"caxis\": {\"gridcolor\": \"white\", \"linecolor\": \"white\", \"ticks\": \"\"}}, \"title\": {\"x\": 0.05}, \"xaxis\": {\"automargin\": true, \"gridcolor\": \"white\", \"linecolor\": \"white\", \"ticks\": \"\", \"title\": {\"standoff\": 15}, \"zerolinecolor\": \"white\", \"zerolinewidth\": 2}, \"yaxis\": {\"automargin\": true, \"gridcolor\": \"white\", \"linecolor\": \"white\", \"ticks\": \"\", \"title\": {\"standoff\": 15}, \"zerolinecolor\": \"white\", \"zerolinewidth\": 2}}}, \"title\": {\"text\": \"Contour Plot\"}, \"xaxis\": {\"range\": [-0.0020453631529927553, 0.30555419256008914], \"title\": {\"text\": \"dropout\"}}, \"yaxis\": {\"range\": [0.07659385977926401, 0.8277065155020076], \"title\": {\"text\": \"gamma\"}}},\n",
              "                        {\"responsive\": true}\n",
              "                    ).then(function(){\n",
              "                            \n",
              "var gd = document.getElementById('4ef598c5-4142-44aa-903a-7e2e043d02ea');\n",
              "var x = new MutationObserver(function (mutations, observer) {{\n",
              "        var display = window.getComputedStyle(gd).display;\n",
              "        if (!display || display === 'none') {{\n",
              "            console.log([gd, 'removed!']);\n",
              "            Plotly.purge(gd);\n",
              "            observer.disconnect();\n",
              "        }}\n",
              "}});\n",
              "\n",
              "// Listen for the removal of the full notebook cells\n",
              "var notebookContainer = gd.closest('#notebook-container');\n",
              "if (notebookContainer) {{\n",
              "    x.observe(notebookContainer, {childList: true});\n",
              "}}\n",
              "\n",
              "// Listen for the clearing of the current output cell\n",
              "var outputEl = gd.closest('.output');\n",
              "if (outputEl) {{\n",
              "    x.observe(outputEl, {childList: true});\n",
              "}}\n",
              "\n",
              "                        })\n",
              "                };\n",
              "                \n",
              "            </script>\n",
              "        </div>\n",
              "</body>\n",
              "</html>"
            ]
          },
          "metadata": {
            "tags": []
          }
        }
      ]
    },
    {
      "cell_type": "code",
      "metadata": {
        "colab": {
          "base_uri": "https://localhost:8080/",
          "height": 542
        },
        "id": "erM_MSY2_-xt",
        "outputId": "18f2ffb4-90e8-469a-a60a-4adb9a4adebd"
      },
      "source": [
        "optuna.visualization.plot_contour(study, params=[\"gamma\", \"nhid\"])"
      ],
      "execution_count": null,
      "outputs": [
        {
          "output_type": "display_data",
          "data": {
            "text/html": [
              "<html>\n",
              "<head><meta charset=\"utf-8\" /></head>\n",
              "<body>\n",
              "    <div>\n",
              "            <script src=\"https://cdnjs.cloudflare.com/ajax/libs/mathjax/2.7.5/MathJax.js?config=TeX-AMS-MML_SVG\"></script><script type=\"text/javascript\">if (window.MathJax) {MathJax.Hub.Config({SVG: {font: \"STIX-Web\"}});}</script>\n",
              "                <script type=\"text/javascript\">window.PlotlyConfig = {MathJaxConfig: 'local'};</script>\n",
              "        <script src=\"https://cdn.plot.ly/plotly-latest.min.js\"></script>    \n",
              "            <div id=\"65ef1d53-e4ca-4b98-91a9-f5ba18ecb600\" class=\"plotly-graph-div\" style=\"height:525px; width:100%;\"></div>\n",
              "            <script type=\"text/javascript\">\n",
              "                \n",
              "                    window.PLOTLYENV=window.PLOTLYENV || {};\n",
              "                    \n",
              "                if (document.getElementById(\"65ef1d53-e4ca-4b98-91a9-f5ba18ecb600\")) {\n",
              "                    Plotly.newPlot(\n",
              "                        '65ef1d53-e4ca-4b98-91a9-f5ba18ecb600',\n",
              "                        [{\"colorbar\": {\"title\": {\"text\": \"Objective Value\"}}, \"colorscale\": [[0, \"rgb(5,10,172)\"], [0.35, \"rgb(40,60,190)\"], [0.5, \"rgb(70,100,245)\"], [0.6, \"rgb(90,120,245)\"], [0.7, \"rgb(106,137,247)\"], [1, \"rgb(220,220,220)\"]], \"connectgaps\": true, \"contours\": {\"coloring\": \"heatmap\"}, \"hoverinfo\": \"none\", \"line\": {\"smoothing\": 1.3}, \"reversescale\": true, \"type\": \"contour\", \"x\": [0.07659385977926401, 0.11073534413029781, 0.11387398408524015, 0.12413634025588427, 0.1861770576322967, 0.19002183514091936, 0.19025144715133657, 0.19414206102443016, 0.20473743771164046, 0.21100526731594993, 0.2997542639883056, 0.3947811906548898, 0.4743508121114588, 0.48350324497600083, 0.6416670741578635, 0.71538465981417, 0.7935650311509738, 0.8277065155020076], \"y\": [198.65, 201, 206, 207, 208, 211, 212, 214, 215, 218, 223, 224, 244, 248, 250.35], \"z\": [[null, null, null, null, null, null, null, null, null, null, null, null, null, null, null, null, null, null], [null, null, null, null, null, null, null, null, null, null, null, 5.097297099854842, null, null, null, null, null, null], [null, null, null, null, null, null, null, null, 5.035496179371364, null, null, null, null, null, null, null, null, null], [null, null, null, null, null, 5.043236000679738, null, null, null, null, null, null, null, null, null, null, null, null], [null, null, null, null, null, null, null, null, null, null, null, null, null, null, null, 5.142858905360298, null, null], [null, null, null, null, null, null, null, null, null, 5.0066618720890785, null, null, null, null, null, null, null, null], [null, null, null, 5.056086655376571, null, null, 5.0269072738043095, null, null, null, null, null, null, null, null, null, null, null], [null, null, 4.999077273145259, null, null, null, null, null, null, null, 5.050836703927486, null, null, null, null, null, null, null], [null, null, null, null, null, null, null, 5.028505911057206, null, null, null, null, null, null, null, null, null, null], [null, 5.0459569167443785, null, null, 5.038435943799724, null, null, null, null, null, null, null, null, null, null, null, null, null], [null, null, null, null, null, null, null, null, null, null, null, null, 5.040194518539682, null, null, null, null, null], [null, null, null, null, null, null, null, null, null, null, null, null, null, 5.097587898910521, null, null, null, null], [null, null, null, null, null, null, null, null, null, null, null, null, null, null, null, null, 5.073691824261358, null], [null, null, null, null, null, null, null, null, null, null, null, null, null, null, 5.160392798653464, null, null, null], [null, null, null, null, null, null, null, null, null, null, null, null, null, null, null, null, null, null]]}, {\"marker\": {\"color\": \"black\", \"line\": {\"color\": \"Grey\", \"width\": 0.5}}, \"mode\": \"markers\", \"showlegend\": false, \"type\": \"scatter\", \"x\": [0.6416670741578635, 0.71538465981417, 0.48350324497600083, 0.12413634025588427, 0.3947811906548898, 0.4743508121114588, 0.7935650311509738, 0.11387398408524015, 0.2997542639883056, 0.1861770576322967, 0.19002183514091936, 0.11073534413029781, 0.20473743771164046, 0.19414206102443016, 0.19025144715133657, 0.21100526731594993], \"y\": [248, 208, 224, 212, 201, 223, 244, 214, 214, 218, 207, 218, 206, 215, 212, 211]}],\n",
              "                        {\"template\": {\"data\": {\"bar\": [{\"error_x\": {\"color\": \"#2a3f5f\"}, \"error_y\": {\"color\": \"#2a3f5f\"}, \"marker\": {\"line\": {\"color\": \"#E5ECF6\", \"width\": 0.5}}, \"type\": \"bar\"}], \"barpolar\": [{\"marker\": {\"line\": {\"color\": \"#E5ECF6\", \"width\": 0.5}}, \"type\": \"barpolar\"}], \"carpet\": [{\"aaxis\": {\"endlinecolor\": \"#2a3f5f\", \"gridcolor\": \"white\", \"linecolor\": \"white\", \"minorgridcolor\": \"white\", \"startlinecolor\": \"#2a3f5f\"}, \"baxis\": {\"endlinecolor\": \"#2a3f5f\", \"gridcolor\": \"white\", \"linecolor\": \"white\", \"minorgridcolor\": \"white\", \"startlinecolor\": \"#2a3f5f\"}, \"type\": \"carpet\"}], \"choropleth\": [{\"colorbar\": {\"outlinewidth\": 0, \"ticks\": \"\"}, \"type\": \"choropleth\"}], \"contour\": [{\"colorbar\": {\"outlinewidth\": 0, \"ticks\": \"\"}, \"colorscale\": [[0.0, \"#0d0887\"], [0.1111111111111111, \"#46039f\"], [0.2222222222222222, \"#7201a8\"], [0.3333333333333333, \"#9c179e\"], [0.4444444444444444, \"#bd3786\"], [0.5555555555555556, \"#d8576b\"], [0.6666666666666666, \"#ed7953\"], [0.7777777777777778, \"#fb9f3a\"], [0.8888888888888888, \"#fdca26\"], [1.0, \"#f0f921\"]], \"type\": \"contour\"}], \"contourcarpet\": [{\"colorbar\": {\"outlinewidth\": 0, \"ticks\": \"\"}, \"type\": \"contourcarpet\"}], \"heatmap\": [{\"colorbar\": {\"outlinewidth\": 0, \"ticks\": \"\"}, \"colorscale\": [[0.0, \"#0d0887\"], [0.1111111111111111, \"#46039f\"], [0.2222222222222222, \"#7201a8\"], [0.3333333333333333, \"#9c179e\"], [0.4444444444444444, \"#bd3786\"], [0.5555555555555556, \"#d8576b\"], [0.6666666666666666, \"#ed7953\"], [0.7777777777777778, \"#fb9f3a\"], [0.8888888888888888, \"#fdca26\"], [1.0, \"#f0f921\"]], \"type\": \"heatmap\"}], \"heatmapgl\": [{\"colorbar\": {\"outlinewidth\": 0, \"ticks\": \"\"}, \"colorscale\": [[0.0, \"#0d0887\"], [0.1111111111111111, \"#46039f\"], [0.2222222222222222, \"#7201a8\"], [0.3333333333333333, \"#9c179e\"], [0.4444444444444444, \"#bd3786\"], [0.5555555555555556, \"#d8576b\"], [0.6666666666666666, \"#ed7953\"], [0.7777777777777778, \"#fb9f3a\"], [0.8888888888888888, \"#fdca26\"], [1.0, \"#f0f921\"]], \"type\": \"heatmapgl\"}], \"histogram\": [{\"marker\": {\"colorbar\": {\"outlinewidth\": 0, \"ticks\": \"\"}}, \"type\": \"histogram\"}], \"histogram2d\": [{\"colorbar\": {\"outlinewidth\": 0, \"ticks\": \"\"}, \"colorscale\": [[0.0, \"#0d0887\"], [0.1111111111111111, \"#46039f\"], [0.2222222222222222, \"#7201a8\"], [0.3333333333333333, \"#9c179e\"], [0.4444444444444444, \"#bd3786\"], [0.5555555555555556, \"#d8576b\"], [0.6666666666666666, \"#ed7953\"], [0.7777777777777778, \"#fb9f3a\"], [0.8888888888888888, \"#fdca26\"], [1.0, \"#f0f921\"]], \"type\": \"histogram2d\"}], \"histogram2dcontour\": [{\"colorbar\": {\"outlinewidth\": 0, \"ticks\": \"\"}, \"colorscale\": [[0.0, \"#0d0887\"], [0.1111111111111111, \"#46039f\"], [0.2222222222222222, \"#7201a8\"], [0.3333333333333333, \"#9c179e\"], [0.4444444444444444, \"#bd3786\"], [0.5555555555555556, \"#d8576b\"], [0.6666666666666666, \"#ed7953\"], [0.7777777777777778, \"#fb9f3a\"], [0.8888888888888888, \"#fdca26\"], [1.0, \"#f0f921\"]], \"type\": \"histogram2dcontour\"}], \"mesh3d\": [{\"colorbar\": {\"outlinewidth\": 0, \"ticks\": \"\"}, \"type\": \"mesh3d\"}], \"parcoords\": [{\"line\": {\"colorbar\": {\"outlinewidth\": 0, \"ticks\": \"\"}}, \"type\": \"parcoords\"}], \"pie\": [{\"automargin\": true, \"type\": \"pie\"}], \"scatter\": [{\"marker\": {\"colorbar\": {\"outlinewidth\": 0, \"ticks\": \"\"}}, \"type\": \"scatter\"}], \"scatter3d\": [{\"line\": {\"colorbar\": {\"outlinewidth\": 0, \"ticks\": \"\"}}, \"marker\": {\"colorbar\": {\"outlinewidth\": 0, \"ticks\": \"\"}}, \"type\": \"scatter3d\"}], \"scattercarpet\": [{\"marker\": {\"colorbar\": {\"outlinewidth\": 0, \"ticks\": \"\"}}, \"type\": \"scattercarpet\"}], \"scattergeo\": [{\"marker\": {\"colorbar\": {\"outlinewidth\": 0, \"ticks\": \"\"}}, \"type\": \"scattergeo\"}], \"scattergl\": [{\"marker\": {\"colorbar\": {\"outlinewidth\": 0, \"ticks\": \"\"}}, \"type\": \"scattergl\"}], \"scattermapbox\": [{\"marker\": {\"colorbar\": {\"outlinewidth\": 0, \"ticks\": \"\"}}, \"type\": \"scattermapbox\"}], \"scatterpolar\": [{\"marker\": {\"colorbar\": {\"outlinewidth\": 0, \"ticks\": \"\"}}, \"type\": \"scatterpolar\"}], \"scatterpolargl\": [{\"marker\": {\"colorbar\": {\"outlinewidth\": 0, \"ticks\": \"\"}}, \"type\": \"scatterpolargl\"}], \"scatterternary\": [{\"marker\": {\"colorbar\": {\"outlinewidth\": 0, \"ticks\": \"\"}}, \"type\": \"scatterternary\"}], \"surface\": [{\"colorbar\": {\"outlinewidth\": 0, \"ticks\": \"\"}, \"colorscale\": [[0.0, \"#0d0887\"], [0.1111111111111111, \"#46039f\"], [0.2222222222222222, \"#7201a8\"], [0.3333333333333333, \"#9c179e\"], [0.4444444444444444, \"#bd3786\"], [0.5555555555555556, \"#d8576b\"], [0.6666666666666666, \"#ed7953\"], [0.7777777777777778, \"#fb9f3a\"], [0.8888888888888888, \"#fdca26\"], [1.0, \"#f0f921\"]], \"type\": \"surface\"}], \"table\": [{\"cells\": {\"fill\": {\"color\": \"#EBF0F8\"}, \"line\": {\"color\": \"white\"}}, \"header\": {\"fill\": {\"color\": \"#C8D4E3\"}, \"line\": {\"color\": \"white\"}}, \"type\": \"table\"}]}, \"layout\": {\"annotationdefaults\": {\"arrowcolor\": \"#2a3f5f\", \"arrowhead\": 0, \"arrowwidth\": 1}, \"coloraxis\": {\"colorbar\": {\"outlinewidth\": 0, \"ticks\": \"\"}}, \"colorscale\": {\"diverging\": [[0, \"#8e0152\"], [0.1, \"#c51b7d\"], [0.2, \"#de77ae\"], [0.3, \"#f1b6da\"], [0.4, \"#fde0ef\"], [0.5, \"#f7f7f7\"], [0.6, \"#e6f5d0\"], [0.7, \"#b8e186\"], [0.8, \"#7fbc41\"], [0.9, \"#4d9221\"], [1, \"#276419\"]], \"sequential\": [[0.0, \"#0d0887\"], [0.1111111111111111, \"#46039f\"], [0.2222222222222222, \"#7201a8\"], [0.3333333333333333, \"#9c179e\"], [0.4444444444444444, \"#bd3786\"], [0.5555555555555556, \"#d8576b\"], [0.6666666666666666, \"#ed7953\"], [0.7777777777777778, \"#fb9f3a\"], [0.8888888888888888, \"#fdca26\"], [1.0, \"#f0f921\"]], \"sequentialminus\": [[0.0, \"#0d0887\"], [0.1111111111111111, \"#46039f\"], [0.2222222222222222, \"#7201a8\"], [0.3333333333333333, \"#9c179e\"], [0.4444444444444444, \"#bd3786\"], [0.5555555555555556, \"#d8576b\"], [0.6666666666666666, \"#ed7953\"], [0.7777777777777778, \"#fb9f3a\"], [0.8888888888888888, \"#fdca26\"], [1.0, \"#f0f921\"]]}, \"colorway\": [\"#636efa\", \"#EF553B\", \"#00cc96\", \"#ab63fa\", \"#FFA15A\", \"#19d3f3\", \"#FF6692\", \"#B6E880\", \"#FF97FF\", \"#FECB52\"], \"font\": {\"color\": \"#2a3f5f\"}, \"geo\": {\"bgcolor\": \"white\", \"lakecolor\": \"white\", \"landcolor\": \"#E5ECF6\", \"showlakes\": true, \"showland\": true, \"subunitcolor\": \"white\"}, \"hoverlabel\": {\"align\": \"left\"}, \"hovermode\": \"closest\", \"mapbox\": {\"style\": \"light\"}, \"paper_bgcolor\": \"white\", \"plot_bgcolor\": \"#E5ECF6\", \"polar\": {\"angularaxis\": {\"gridcolor\": \"white\", \"linecolor\": \"white\", \"ticks\": \"\"}, \"bgcolor\": \"#E5ECF6\", \"radialaxis\": {\"gridcolor\": \"white\", \"linecolor\": \"white\", \"ticks\": \"\"}}, \"scene\": {\"xaxis\": {\"backgroundcolor\": \"#E5ECF6\", \"gridcolor\": \"white\", \"gridwidth\": 2, \"linecolor\": \"white\", \"showbackground\": true, \"ticks\": \"\", \"zerolinecolor\": \"white\"}, \"yaxis\": {\"backgroundcolor\": \"#E5ECF6\", \"gridcolor\": \"white\", \"gridwidth\": 2, \"linecolor\": \"white\", \"showbackground\": true, \"ticks\": \"\", \"zerolinecolor\": \"white\"}, \"zaxis\": {\"backgroundcolor\": \"#E5ECF6\", \"gridcolor\": \"white\", \"gridwidth\": 2, \"linecolor\": \"white\", \"showbackground\": true, \"ticks\": \"\", \"zerolinecolor\": \"white\"}}, \"shapedefaults\": {\"line\": {\"color\": \"#2a3f5f\"}}, \"ternary\": {\"aaxis\": {\"gridcolor\": \"white\", \"linecolor\": \"white\", \"ticks\": \"\"}, \"baxis\": {\"gridcolor\": \"white\", \"linecolor\": \"white\", \"ticks\": \"\"}, \"bgcolor\": \"#E5ECF6\", \"caxis\": {\"gridcolor\": \"white\", \"linecolor\": \"white\", \"ticks\": \"\"}}, \"title\": {\"x\": 0.05}, \"xaxis\": {\"automargin\": true, \"gridcolor\": \"white\", \"linecolor\": \"white\", \"ticks\": \"\", \"title\": {\"standoff\": 15}, \"zerolinecolor\": \"white\", \"zerolinewidth\": 2}, \"yaxis\": {\"automargin\": true, \"gridcolor\": \"white\", \"linecolor\": \"white\", \"ticks\": \"\", \"title\": {\"standoff\": 15}, \"zerolinecolor\": \"white\", \"zerolinewidth\": 2}}}, \"title\": {\"text\": \"Contour Plot\"}, \"xaxis\": {\"range\": [0.07659385977926401, 0.8277065155020076], \"title\": {\"text\": \"gamma\"}}, \"yaxis\": {\"range\": [198.65, 250.35], \"title\": {\"text\": \"nhid\"}}},\n",
              "                        {\"responsive\": true}\n",
              "                    ).then(function(){\n",
              "                            \n",
              "var gd = document.getElementById('65ef1d53-e4ca-4b98-91a9-f5ba18ecb600');\n",
              "var x = new MutationObserver(function (mutations, observer) {{\n",
              "        var display = window.getComputedStyle(gd).display;\n",
              "        if (!display || display === 'none') {{\n",
              "            console.log([gd, 'removed!']);\n",
              "            Plotly.purge(gd);\n",
              "            observer.disconnect();\n",
              "        }}\n",
              "}});\n",
              "\n",
              "// Listen for the removal of the full notebook cells\n",
              "var notebookContainer = gd.closest('#notebook-container');\n",
              "if (notebookContainer) {{\n",
              "    x.observe(notebookContainer, {childList: true});\n",
              "}}\n",
              "\n",
              "// Listen for the clearing of the current output cell\n",
              "var outputEl = gd.closest('.output');\n",
              "if (outputEl) {{\n",
              "    x.observe(outputEl, {childList: true});\n",
              "}}\n",
              "\n",
              "                        })\n",
              "                };\n",
              "                \n",
              "            </script>\n",
              "        </div>\n",
              "</body>\n",
              "</html>"
            ]
          },
          "metadata": {
            "tags": []
          }
        }
      ]
    },
    {
      "cell_type": "markdown",
      "metadata": {
        "id": "QkBzqLP7Ss-g"
      },
      "source": [
        "## <img src=\"https://img.icons8.com/dusk/64/000000/prize.png\" style=\"height:50px;display:inline\"> Credits\n",
        "---\n",
        "* Icons made by <a href=\"https://www.flaticon.com/authors/becris\" title=\"Becris\">Becris</a> from <a href=\"https://www.flaticon.com/\" title=\"Flaticon\">www.flaticon.com</a>\n",
        "* Icons from <a href=\"https://icons8.com/\">Icons8.com</a> - https://icons8.com\n",
        "* Datasets from <a href=\"https://www.kaggle.com/\">Kaggle</a> - https://www.kaggle.com/"
      ]
    }
  ]
}